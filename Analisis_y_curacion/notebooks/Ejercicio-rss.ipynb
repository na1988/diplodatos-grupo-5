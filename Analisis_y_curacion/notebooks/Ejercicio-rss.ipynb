{
 "cells": [
  {
   "cell_type": "code",
   "execution_count": 17,
   "metadata": {},
   "outputs": [],
   "source": [
    "import feedparser\n",
    "from IPython.core.display import display, HTML"
   ]
  },
  {
   "cell_type": "code",
   "execution_count": 2,
   "metadata": {},
   "outputs": [],
   "source": [
    " d = feedparser.parse('https://www.lavoz.com.ar/rss/tecnologia.xml')"
   ]
  },
  {
   "cell_type": "code",
   "execution_count": 26,
   "metadata": {
    "tags": []
   },
   "outputs": [
    {
     "output_type": "display_data",
     "data": {
      "text/plain": "<IPython.core.display.HTML object>",
      "text/html": "<a href=\"https://www.lavoz.com.ar/tecnologia/ubisoft-lanza-juego-marcado-para-ser-un-nuevo-battle-royal-solo-que-urbano-y-futurista\">Ubisoft lanza el juego marcado para ser un nuevo \"battle royal\", sólo que urbano y futurista</a>"
     },
     "metadata": {}
    },
    {
     "output_type": "display_data",
     "data": {
      "text/plain": "<IPython.core.display.HTML object>",
      "text/html": "<p>Ubisoft ha presentado su nuevo videojuego Hyper Scape, un 'battle royal' en un entorno urbano, que ofrece nuevos modos de ganar la partida y temporadas que traerán nuevos contenidos y cambios en el mapa.</p>"
     },
     "metadata": {}
    },
    {
     "output_type": "display_data",
     "data": {
      "text/plain": "<IPython.core.display.HTML object>",
      "text/html": "<a href=\"https://www.lavoz.com.ar/tecnologia/primer-smartphone-enrollable-ya-se-esta-fabricando-lg-se-anota-primero\">El primer smartphone enrollable ya se está fabricando: LG se anota primero</a>"
     },
     "metadata": {}
    },
    {
     "output_type": "display_data",
     "data": {
      "text/plain": "<IPython.core.display.HTML object>",
      "text/html": "<p>Con este dispositivo, que se espera que se lance en la primera mitad de 2021, la empresa surcoreana quiere reestablecer la imagen de marca de su división móvil tras años de pérdidas.</p>"
     },
     "metadata": {}
    },
    {
     "output_type": "display_data",
     "data": {
      "text/plain": "<IPython.core.display.HTML object>",
      "text/html": "<a href=\"https://www.lavoz.com.ar/tecnologia/este-guante-con-sensores-traduce-lengua-de-signos-a-voz-en-tiempo-real\">Este guante con sensores traduce la lengua de signos a voz en tiempo real</a>"
     },
     "metadata": {}
    },
    {
     "output_type": "display_data",
     "data": {
      "text/plain": "<IPython.core.display.HTML object>",
      "text/html": "<p>Un grupo de investigadores ha creado un guante inteligente equipado con sensores que forma parte de un sistema capaz de traducir a voz la lengua de signos en tiempo real, utilizando para ello tecnologías como el aprendizaje automático.</p>"
     },
     "metadata": {}
    },
    {
     "output_type": "display_data",
     "data": {
      "text/plain": "<IPython.core.display.HTML object>",
      "text/html": "<a href=\"https://www.lavoz.com.ar/tecnologia/microsoft-muestra-nuevo-diseno-del-menu-de-windows-fondo-unificado-y-disponible-en-temas-\">Microsoft muestra el nuevo diseño del menú de Windows: fondo unificado y disponible en temas de color claro y oscuro</a>"
     },
     "metadata": {}
    },
    {
     "output_type": "display_data",
     "data": {
      "text/plain": "<IPython.core.display.HTML object>",
      "text/html": "<p>Microsoft ha presentado el rediseño del menú de inicio de Windows 10, que unifica el color del fondo tanto de los iconos como del mosaico de aplicaciones, como parte de las novedades que la compañía ha incluido en la versión previa de su software.</p>"
     },
     "metadata": {}
    },
    {
     "output_type": "display_data",
     "data": {
      "text/plain": "<IPython.core.display.HTML object>",
      "text/html": "<a href=\"https://www.lavoz.com.ar/tecnologia/una-campana-de-malware-envia-sms-falsos-a-usuarios-de-android-para-robar-datos\">Una campaña de 'malware' envía SMS falsos a usuarios de Android para robar datos</a>"
     },
     "metadata": {}
    },
    {
     "output_type": "display_data",
     "data": {
      "text/plain": "<IPython.core.display.HTML object>",
      "text/html": "<p>Los ataques se registran en todo el mundo.\n        Investigadores de la compañía de ciberseguridad Cybereason han alertado sobre una campaña de 'malware' que envía mensajes de texto (SMS) falsos a usuarios con dispositivos Android para robar sus datos.</p>"
     },
     "metadata": {}
    },
    {
     "output_type": "display_data",
     "data": {
      "text/plain": "<IPython.core.display.HTML object>",
      "text/html": "<a href=\"https://www.lavoz.com.ar/tecnologia/lo-que-se-viene-en-whatsapp-stickers-animados-codigos-qr-y-mas\">Lo que se viene en WhatsApp: stickers animados, códigos QR y más</a>"
     },
     "metadata": {}
    },
    {
     "output_type": "display_data",
     "data": {
      "text/plain": "<IPython.core.display.HTML object>",
      "text/html": "<p>Actualmente, más de 2 mil millones de personas de todas partes del mundo usan WhatsApp por lo que la plataforma de mensajería de Facebook va a implementar una serie de diseños y nuevas herramientas para \"disfrutar\" en la app.</p>"
     },
     "metadata": {}
    },
    {
     "output_type": "display_data",
     "data": {
      "text/plain": "<IPython.core.display.HTML object>",
      "text/html": "<a href=\"https://www.lavoz.com.ar/tecnologia/huawei-y-samsung-acaparan-mercado-mundial-de-smartphones\">Huawei y Samsung acaparan el mercado mundial de smartphones</a>"
     },
     "metadata": {}
    },
    {
     "output_type": "display_data",
     "data": {
      "text/plain": "<IPython.core.display.HTML object>",
      "text/html": "<p>Ambas vendieron casi el 40 por ciento del total del mercado global, aunque una de ellas tuvo una leve diferencia en ventas.\n                        Huawei y Samsung acapararon casi el 40 por ciento del mercado global de 'smarphones' en mayo del presente año, con unas cifras muy similares que sitúan a la compañía china como la marca más vendida.</p>"
     },
     "metadata": {}
    },
    {
     "output_type": "display_data",
     "data": {
      "text/plain": "<IPython.core.display.HTML object>",
      "text/html": "<a href=\"https://www.lavoz.com.ar/tecnologia/duro-poco-facebook-cierra-hobbi-su-app-experimental-similar-a-pinterest\">Duró poco: Facebook cierra Hobbi, su 'app' experimental similar a Pinterest</a>"
     },
     "metadata": {}
    },
    {
     "output_type": "display_data",
     "data": {
      "text/plain": "<IPython.core.display.HTML object>",
      "text/html": "<p>Facebook cerrará Hobbi en julio, la aplicación experimental lanzada hace tan solo cinco meses por el equipo de New Product Experimentation (NPE), vinculado a la compañía.</p>"
     },
     "metadata": {}
    },
    {
     "output_type": "display_data",
     "data": {
      "text/plain": "<IPython.core.display.HTML object>",
      "text/html": "<a href=\"https://www.lavoz.com.ar/tecnologia/altavoces-portatiles-xboom-gode-lg-son-resistentes-al-agua-y-traen-una-bateria-de-hasta-2\">Los altavoces portátiles Xboom Gode LG son resistentes al agua y traen una batería de hasta 24 horas</a>"
     },
     "metadata": {}
    },
    {
     "output_type": "display_data",
     "data": {
      "text/plain": "<IPython.core.display.HTML object>",
      "text/html": "<p>La compañía LG Electronics ha lanzado su nueva gama de altavoces portátiles Xboom Go con tres nuevos dispositivos (PL2, PL5 y PL7) resistentes al agua y con una batería de hasta 24 horas.</p>"
     },
     "metadata": {}
    },
    {
     "output_type": "display_data",
     "data": {
      "text/plain": "<IPython.core.display.HTML object>",
      "text/html": "<a href=\"https://www.lavoz.com.ar/tecnologia/google-fotos-desactiva-copia-de-seguridad-y-sincronizacion-con-carpetas-de-apps-de-mensaj\">Google Fotos desactiva la copia de seguridad y la sincronización con las carpetas de apps de mensajería como WhatsApp</a>"
     },
     "metadata": {}
    },
    {
     "output_type": "display_data",
     "data": {
      "text/plain": "<IPython.core.display.HTML object>",
      "text/html": "<p>Google ha desactivado por defecto la copia de seguridad y la sincronización entre Google Fotos y las aplicaciones de mensajería, con el fin de mantener los recursos de Internet en un contexto en el que los usuarios están compartiendo más fotos y videos.</p>"
     },
     "metadata": {}
    },
    {
     "output_type": "display_data",
     "data": {
      "text/plain": "<IPython.core.display.HTML object>",
      "text/html": "<a href=\"https://www.lavoz.com.ar/tecnologia/facebook-lanza-una-campana-de-alfabetizacion-mediatica-para-ayudar-a-detectar-noticias-fa\">Facebook lanza una campaña de alfabetización mediática para ayudar a detectar noticias falsas</a>"
     },
     "metadata": {}
    },
    {
     "output_type": "display_data",
     "data": {
      "text/plain": "<IPython.core.display.HTML object>",
      "text/html": "<p>La compañía Facebook ha lanzado una campaña de alfabetización mediática para ayudar a los usuarios de la red social a detectar noticias falsas.</p>"
     },
     "metadata": {}
    },
    {
     "output_type": "display_data",
     "data": {
      "text/plain": "<IPython.core.display.HTML object>",
      "text/html": "<a href=\"https://www.lavoz.com.ar/tecnologia/facebook-crea-unas-gafas-de-realidad-virtual-finas-y-compactas-que-parecen-lentes-de-sol\">Facebook crea unas gafas de realidad virtual finas y compactas que parecen lentes de sol</a>"
     },
     "metadata": {}
    },
    {
     "output_type": "display_data",
     "data": {
      "text/plain": "<IPython.core.display.HTML object>",
      "text/html": "<p>Facebook ha desarrollado una nueva arquitectura óptica que permite crear gafas de realidad virtual (RV) de tamaño reducido para hacerlas más compactas, que ha empleado para fabricar un prototipo más fino, con apenas 9 milímetros de grosor y un aspecto similar a unas gafas de sol.</p>"
     },
     "metadata": {}
    },
    {
     "output_type": "display_data",
     "data": {
      "text/plain": "<IPython.core.display.HTML object>",
      "text/html": "<a href=\"https://www.lavoz.com.ar/tecnologia/disney-ya-es-capaz-de-crear-deepfakes-con-resolucion-de-un-megapixel-para-su-uso-en-efect\">Disney ya es capaz de crear 'deepfakes' con resolución de un megapíxel para su uso en efectos visuales de cine</a>"
     },
     "metadata": {}
    },
    {
     "output_type": "display_data",
     "data": {
      "text/plain": "<IPython.core.display.HTML object>",
      "text/html": "<p>Disney Research ha desarrollado un nuevo sistema de aprendizaje automático destinado a la creación de efectos visuales en el cine que es capaz de crear de forma automática videos 'deepfake', en los que se cambia el rostro de una persona por otro, con una resolución de un megapíxel.</p>"
     },
     "metadata": {}
    },
    {
     "output_type": "display_data",
     "data": {
      "text/plain": "<IPython.core.display.HTML object>",
      "text/html": "<a href=\"https://www.lavoz.com.ar/tecnologia/detectan-problemas-con-gmail-en-app-de-correo-de-windows-10\">Detectan problemas con Gmail en la app de Correo de Windows 10</a>"
     },
     "metadata": {}
    },
    {
     "output_type": "display_data",
     "data": {
      "text/plain": "<IPython.core.display.HTML object>",
      "text/html": "<p>Según informan varios usuarios en Internet, la aplicación está eliminando sus correos electrónicos o los está trasladando a la carpeta de correo no deseado.</p>"
     },
     "metadata": {}
    },
    {
     "output_type": "display_data",
     "data": {
      "text/plain": "<IPython.core.display.HTML object>",
      "text/html": "<a href=\"https://www.lavoz.com.ar/tecnologia/iphone-12-no-tendra-en-caja-cargador-ni-auriculares-segun-mayor-guru-de-apple\">El iPhone 12 no tendrá en la caja el cargador ni los auriculares, según el mayor gurú de Apple</a>"
     },
     "metadata": {}
    },
    {
     "output_type": "display_data",
     "data": {
      "text/plain": "<IPython.core.display.HTML object>",
      "text/html": "<p>Paralelamente, la firma podría poner a la venta por separado un nuevo cargador de 20W.\n                    Apple no incluirá el cargador en la caja de los próximos iPhone 12, algo que podría ser por razones ambientales o para reducir costos, de acuerdo con el analista de Apple Ming-Chi Kuo.</p>"
     },
     "metadata": {}
    },
    {
     "output_type": "display_data",
     "data": {
      "text/plain": "<IPython.core.display.HTML object>",
      "text/html": "<a href=\"https://www.lavoz.com.ar/tecnologia/policia-y-reconocimiento-facial-todo-lo-que-esta-mal-en-cinco-puntos\">Policía y reconocimiento facial: todo lo que está mal, en cinco puntos</a>"
     },
     "metadata": {}
    },
    {
     "output_type": "display_data",
     "data": {
      "text/plain": "<IPython.core.display.HTML object>",
      "text/html": "<p>Como dijo Edward Snowden, \"argumentar que no nos molesta la falta de privacidad porque no tenemos nada que ocultar es lo mismo que sostener que no tenemos problema con la censura porque no tenemos nada que decir\".</p>"
     },
     "metadata": {}
    },
    {
     "output_type": "display_data",
     "data": {
      "text/plain": "<IPython.core.display.HTML object>",
      "text/html": "<a href=\"https://www.lavoz.com.ar/tecnologia/youtok-youtube-prueba-grabacion-de-videos-de-15-segundos-desde-su-app-al-estilo-de-tiktok\">¿\"YouTok\"? YouTube prueba la grabación de videos de 15 segundos desde su app al estilo de TikTok</a>"
     },
     "metadata": {}
    },
    {
     "output_type": "display_data",
     "data": {
      "text/plain": "<IPython.core.display.HTML object>",
      "text/html": "<p>Por ahora, las pruebas son en las cuentas de algunos usuarios, tanto en la versión iOS como Android de la aplicación.\n            YouTube está probando una nueva función para que los usuarios puedan grabar iídeos cortos de hasta 15 segundos directamente desde la aplicación, al estilo de TikTok.</p>"
     },
     "metadata": {}
    },
    {
     "output_type": "display_data",
     "data": {
      "text/plain": "<IPython.core.display.HTML object>",
      "text/html": "<a href=\"https://www.lavoz.com.ar/tecnologia/facebook-te-avisara-si-articulo-que-estas-por-compartir-tiene-mas-de-90-dias\">Facebook te avisará si el artículo que estás por compartir tiene más de 90 días</a>"
     },
     "metadata": {}
    },
    {
     "output_type": "display_data",
     "data": {
      "text/plain": "<IPython.core.display.HTML object>",
      "text/html": "<p>Al mismo tiempo, la red social estudia la posibilidad de utilizar una notificación similar para ofrecer a los usuarios información sobre la fuente de la noticia en caso de iformación sobre Covid-19.</p>"
     },
     "metadata": {}
    },
    {
     "output_type": "display_data",
     "data": {
      "text/plain": "<IPython.core.display.HTML object>",
      "text/html": "<a href=\"https://www.lavoz.com.ar/tecnologia/lg-anuncia-nuevos-auriculares-inalambricos-con-un-estuche-que-limpia-automaticamente-y-te\">LG anuncia nuevos auriculares inalámbricos con un estuche que los limpia automáticamente y tecnología Meridian Audio</a>"
     },
     "metadata": {}
    },
    {
     "output_type": "display_data",
     "data": {
      "text/plain": "<IPython.core.display.HTML object>",
      "text/html": "<p>La compañía LG Electronics ha anunciado dos modelos de auriculares inalámbricos con tecnología Meridian Audio: el HBS-FN4 y el HBS-FN6, este último con un estuche que desinfecta los auriculares de forma automática mientras se cargan.</p>"
     },
     "metadata": {}
    },
    {
     "output_type": "display_data",
     "data": {
      "text/plain": "<IPython.core.display.HTML object>",
      "text/html": "<a href=\"https://www.lavoz.com.ar/tecnologia/inteligencia-artificial-de-ibm-ya-crea-resumenes-de-partidos-de-futbol-de-forma-autonoma\">Inteligencia Artificial de IBM ya crea resúmenes de partidos de fútbol de forma autónoma</a>"
     },
     "metadata": {}
    },
    {
     "output_type": "display_data",
     "data": {
      "text/plain": "<IPython.core.display.HTML object>",
      "text/html": "<p>La compañía IBM ha participado en la creación de una plataforma tecnológica que utiliza Inteligencia Artificial (IA) para generar resúmenes de partidos de fútbol en tiempo real adaptados según los criterios marcados por los usuarios.</p>"
     },
     "metadata": {}
    },
    {
     "output_type": "display_data",
     "data": {
      "text/plain": "<IPython.core.display.HTML object>",
      "text/html": "<a href=\"https://www.lavoz.com.ar/tecnologia/telegram-ya-permite-realizar-videollamadas-de-forma-experimental\">Telegram ya permite realizar videollamadas de forma experimental</a>"
     },
     "metadata": {}
    },
    {
     "output_type": "display_data",
     "data": {
      "text/plain": "<IPython.core.display.HTML object>",
      "text/html": "<p>La aplicación de mensajería Telegram no disponía de videollamadas hasta ahora, pero ahora ha comenzado a probar una nueva función experimental en su última beta de iOS con la que por primera vez sus usuarios pueden efectuar llamadas de vídeo.</p>"
     },
     "metadata": {}
    },
    {
     "output_type": "display_data",
     "data": {
      "text/plain": "<IPython.core.display.HTML object>",
      "text/html": "<a href=\"https://www.lavoz.com.ar/tecnologia/novedades-de-google-cambian-voz-de-maps-y-borran-historial-de-ubicaciones\">Novedades de Google: cambian la voz de Maps y borran el historial de ubicaciones</a>"
     },
     "metadata": {}
    },
    {
     "output_type": "display_data",
     "data": {
      "text/plain": "<IPython.core.display.HTML object>",
      "text/html": "<p>En español, la voz que daba indicaciones sonaba a \"robótica\". Por otro lado, Google eliminará por defecto el historial de ubicaciones y de navegación cada 18 meses. También hay un cambio para Google Docs en español.</p>"
     },
     "metadata": {}
    },
    {
     "output_type": "display_data",
     "data": {
      "text/plain": "<IPython.core.display.HTML object>",
      "text/html": "<a href=\"https://www.lavoz.com.ar/tecnologia/google-pagara-a-medios-bajo-un-programa-de-licencias-para-un-nuevo-servicio-de-noticias\">Google pagará a los medios bajo un programa de licencias para un nuevo servicio de noticias</a>"
     },
     "metadata": {}
    },
    {
     "output_type": "display_data",
     "data": {
      "text/plain": "<IPython.core.display.HTML object>",
      "text/html": "<p>El servicio se lanzará a fin de año. Los medios que cuentan con contenidos pagos podrán aumentar su audiencia. La medida implica un gran cambio en la política de monetización del megabuscador.</p>"
     },
     "metadata": {}
    },
    {
     "output_type": "display_data",
     "data": {
      "text/plain": "<IPython.core.display.HTML object>",
      "text/html": "<a href=\"https://www.lavoz.com.ar/tecnologia/reves-para-facebook-banco-central-de-brasil-suspende-pagos-por-whatsapp\">Revés para Facebook: el Banco Central de Brasil suspende los pagos por WhatsApp</a>"
     },
     "metadata": {}
    },
    {
     "output_type": "display_data",
     "data": {
      "text/plain": "<IPython.core.display.HTML object>",
      "text/html": "<p>Hace una semana había empezado a funcionar.\n            El Banco Central y el Consejo de Administrativo de Defensa Económica (CADE) de Brasil han decidido suspender el servicio de pago de la aplicación de mensajería WhatsApp, tan solo una semana después de que la plataforma introdujera esta nueva función en el país sudamericano.</p>"
     },
     "metadata": {}
    },
    {
     "output_type": "display_data",
     "data": {
      "text/plain": "<IPython.core.display.HTML object>",
      "text/html": "<a href=\"https://www.lavoz.com.ar/tecnologia/google-introduce-fact-check-en-busquedas-de-imagenes\">Google introduce el 'fact check' en las búsquedas de imágenes</a>"
     },
     "metadata": {}
    },
    {
     "output_type": "display_data",
     "data": {
      "text/plain": "<IPython.core.display.HTML object>",
      "text/html": "<p>Google ha comenzado a añadir etiquetas de verificación o 'fact checking' en su apartado de imágenes, Google Imágenes, con las que muestra una etiqueta a los usuarios que realizan una búsqueda para indicar que las imágenes y las noticias a las que acompañan han sido desacreditadas.</p>"
     },
     "metadata": {}
    },
    {
     "output_type": "display_data",
     "data": {
      "text/plain": "<IPython.core.display.HTML object>",
      "text/html": "<a href=\"https://www.lavoz.com.ar/tecnologia/google-maps-prepara-integracion-con-uber-para-calcular-tarifas-de-rutas\">Google Maps prepara la integración con Uber para calcular las tarifas de las rutas</a>"
     },
     "metadata": {}
    },
    {
     "output_type": "display_data",
     "data": {
      "text/plain": "<IPython.core.display.HTML object>",
      "text/html": "<p>Google está probando en su aplicación de mapas Google Maps una nueva función que permite la integración de Uber y que utiliza información de las rutas de los usuarios para calcular de forma precisa el precio de las tarifas en el servicio de VTC.</p>"
     },
     "metadata": {}
    },
    {
     "output_type": "display_data",
     "data": {
      "text/plain": "<IPython.core.display.HTML object>",
      "text/html": "<a href=\"https://www.lavoz.com.ar/tecnologia/microsoft-anuncia-cierre-de-mixer-y-su-alianza-con-facebook-gaming\">Microsoft anuncia el cierre de Mixer y su alianza con Facebook Gaming</a>"
     },
     "metadata": {}
    },
    {
     "output_type": "display_data",
     "data": {
      "text/plain": "<IPython.core.display.HTML object>",
      "text/html": "<p>Microsoft ha anunciado el cierre de los servidores de su plataforma de 'streaming' Mixer el próximo 22 de julio, y el traslado de la comunidad de jugadores y creadores a Facebook Gaming, como parte de la nueva alianza entre las dos compañías.</p>"
     },
     "metadata": {}
    },
    {
     "output_type": "display_data",
     "data": {
      "text/plain": "<IPython.core.display.HTML object>",
      "text/html": "<a href=\"https://www.lavoz.com.ar/tecnologia/crean-un-delfin-robotico-de-gran-realismo-para-sustituir-a-de-verdad-en-acuarios-marinos\">Crean un delfín robótico de gran realismo para sustituir a los de verdad en los acuarios marinos</a>"
     },
     "metadata": {}
    },
    {
     "output_type": "display_data",
     "data": {
      "text/plain": "<IPython.core.display.HTML object>",
      "text/html": "<p>Edge Innovations, empresa especializada en animatrónica y efectos especiales, ha desarrollado un delfín robótico de gran realismo para su uso en parques y acuarios marinos con el fin de preservar la fauna real.</p>"
     },
     "metadata": {}
    },
    {
     "output_type": "display_data",
     "data": {
      "text/plain": "<IPython.core.display.HTML object>",
      "text/html": "<a href=\"https://www.lavoz.com.ar/tecnologia/crean-fugaku-superordenador-mas-potente-del-mundo\">Crean Fugaku, el superordenador más potente del mundo</a>"
     },
     "metadata": {}
    },
    {
     "output_type": "display_data",
     "data": {
      "text/plain": "<IPython.core.display.HTML object>",
      "text/html": "<p>Lo hizo la empresa Fujitsu en Japón. Tiene 415 petaflops, el triple que el segundo en el ranking.\n        Fujitsu y el instituto de investigación japonés Riken han anunciado la creación de Fugaku, un supeordenador localizado en Japón que ha sido reconocido como el más potente del mundo, con 415,53 petaflops, unidad que equivale a mil billones de operaciones de coma flotante por segundo.</p>"
     },
     "metadata": {}
    },
    {
     "output_type": "display_data",
     "data": {
      "text/plain": "<IPython.core.display.HTML object>",
      "text/html": "<a href=\"https://www.lavoz.com.ar/tecnologia/chrome-consumira-menos-memoria-en-nueva-actualizacion-de-windows-10\">Chrome consumirá menos memoria en la nueva actualización de Windows 10</a>"
     },
     "metadata": {}
    },
    {
     "output_type": "display_data",
     "data": {
      "text/plain": "<IPython.core.display.HTML object>",
      "text/html": "<p>Microsoft asegura que la nueva característica, que ya se implementó en Edge, reduce hasta un 27 por ciento el uso de recursos de la computadora.</p>"
     },
     "metadata": {}
    }
   ],
   "source": [
    "for ent in d.entries:\n",
    "    display(HTML('<a href=\"' + ent.link + '\">' + ent.title + '</a>'))\n",
    "    display(HTML('<p>' + ent.description + '</p>'))"
   ]
  },
  {
   "cell_type": "code",
   "execution_count": null,
   "metadata": {},
   "outputs": [],
   "source": []
  }
 ],
 "metadata": {
  "language_info": {
   "codemirror_mode": {
    "name": "ipython",
    "version": 3
   },
   "file_extension": ".py",
   "mimetype": "text/x-python",
   "name": "python",
   "nbconvert_exporter": "python",
   "pygments_lexer": "ipython3",
   "version": "3.7.6-final"
  },
  "orig_nbformat": 2,
  "kernelspec": {
   "name": "python3",
   "display_name": "Python 3"
  }
 },
 "nbformat": 4,
 "nbformat_minor": 2
}