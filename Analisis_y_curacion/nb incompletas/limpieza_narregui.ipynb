{
 "cells": [
  {
   "cell_type": "markdown",
   "metadata": {},
   "source": [
    "## 1. Importando los datos."
   ]
  },
  {
   "cell_type": "markdown",
   "metadata": {},
   "source": [
    "### 1.1 Verificar que no hay problemas en la importación"
   ]
  },
  {
   "cell_type": "code",
   "execution_count": 1,
   "metadata": {},
   "outputs": [],
   "source": [
    "import pandas as pd\n",
    "pd.options.display.float_format = '{:.2f}'.format"
   ]
  },
  {
   "cell_type": "code",
   "execution_count": 2,
   "metadata": {},
   "outputs": [],
   "source": [
    "kickstarter_2018 = pd.read_csv('../AnalisisYCuracion-master/input/kickstarter-projects/ks-projects-201801.csv')"
   ]
  },
  {
   "cell_type": "code",
   "execution_count": 3,
   "metadata": {},
   "outputs": [],
   "source": [
    "# set seed for reproducibility\n",
    "import numpy as np\n",
    "np.random.seed(0)"
   ]
  },
  {
   "cell_type": "code",
   "execution_count": 4,
   "metadata": {},
   "outputs": [
    {
     "data": {
      "text/html": [
       "<div>\n",
       "<style scoped>\n",
       "    .dataframe tbody tr th:only-of-type {\n",
       "        vertical-align: middle;\n",
       "    }\n",
       "\n",
       "    .dataframe tbody tr th {\n",
       "        vertical-align: top;\n",
       "    }\n",
       "\n",
       "    .dataframe thead th {\n",
       "        text-align: right;\n",
       "    }\n",
       "</style>\n",
       "<table border=\"1\" class=\"dataframe\">\n",
       "  <thead>\n",
       "    <tr style=\"text-align: right;\">\n",
       "      <th></th>\n",
       "      <th>ID</th>\n",
       "      <th>name</th>\n",
       "      <th>category</th>\n",
       "      <th>main_category</th>\n",
       "      <th>currency</th>\n",
       "      <th>deadline</th>\n",
       "      <th>goal</th>\n",
       "      <th>launched</th>\n",
       "      <th>pledged</th>\n",
       "      <th>state</th>\n",
       "      <th>backers</th>\n",
       "      <th>country</th>\n",
       "      <th>usd pledged</th>\n",
       "      <th>usd_pledged_real</th>\n",
       "      <th>usd_goal_real</th>\n",
       "    </tr>\n",
       "  </thead>\n",
       "  <tbody>\n",
       "    <tr>\n",
       "      <th>338862</th>\n",
       "      <td>796196901</td>\n",
       "      <td>10G Christmas Tree</td>\n",
       "      <td>Art</td>\n",
       "      <td>Art</td>\n",
       "      <td>USD</td>\n",
       "      <td>2010-12-26</td>\n",
       "      <td>10526.00</td>\n",
       "      <td>2010-12-08 08:44:04</td>\n",
       "      <td>0.00</td>\n",
       "      <td>failed</td>\n",
       "      <td>0</td>\n",
       "      <td>US</td>\n",
       "      <td>0.00</td>\n",
       "      <td>0.00</td>\n",
       "      <td>10526.00</td>\n",
       "    </tr>\n",
       "    <tr>\n",
       "      <th>277871</th>\n",
       "      <td>483825010</td>\n",
       "      <td>Gliff</td>\n",
       "      <td>Gaming Hardware</td>\n",
       "      <td>Games</td>\n",
       "      <td>USD</td>\n",
       "      <td>2016-03-28</td>\n",
       "      <td>10000.00</td>\n",
       "      <td>2016-01-28 04:56:18</td>\n",
       "      <td>51.00</td>\n",
       "      <td>failed</td>\n",
       "      <td>5</td>\n",
       "      <td>US</td>\n",
       "      <td>51.00</td>\n",
       "      <td>51.00</td>\n",
       "      <td>10000.00</td>\n",
       "    </tr>\n",
       "    <tr>\n",
       "      <th>47000</th>\n",
       "      <td>123916947</td>\n",
       "      <td>STUFFED Food Truck</td>\n",
       "      <td>Food Trucks</td>\n",
       "      <td>Food</td>\n",
       "      <td>USD</td>\n",
       "      <td>2015-01-06</td>\n",
       "      <td>60000.00</td>\n",
       "      <td>2014-11-07 02:24:36</td>\n",
       "      <td>25.00</td>\n",
       "      <td>failed</td>\n",
       "      <td>1</td>\n",
       "      <td>US</td>\n",
       "      <td>25.00</td>\n",
       "      <td>25.00</td>\n",
       "      <td>60000.00</td>\n",
       "    </tr>\n",
       "    <tr>\n",
       "      <th>111338</th>\n",
       "      <td>1565733636</td>\n",
       "      <td>NeoExodus Adventure: Origin of Man for Pathfin...</td>\n",
       "      <td>Tabletop Games</td>\n",
       "      <td>Games</td>\n",
       "      <td>USD</td>\n",
       "      <td>2012-05-01</td>\n",
       "      <td>500.00</td>\n",
       "      <td>2012-03-15 01:16:10</td>\n",
       "      <td>585.00</td>\n",
       "      <td>successful</td>\n",
       "      <td>17</td>\n",
       "      <td>US</td>\n",
       "      <td>585.00</td>\n",
       "      <td>585.00</td>\n",
       "      <td>500.00</td>\n",
       "    </tr>\n",
       "    <tr>\n",
       "      <th>53743</th>\n",
       "      <td>1273544891</td>\n",
       "      <td>NAPOLEON IN NEW YORK! an original TV Series</td>\n",
       "      <td>Comedy</td>\n",
       "      <td>Film &amp; Video</td>\n",
       "      <td>USD</td>\n",
       "      <td>2016-07-26</td>\n",
       "      <td>25000.00</td>\n",
       "      <td>2016-05-27 00:07:25</td>\n",
       "      <td>25.00</td>\n",
       "      <td>failed</td>\n",
       "      <td>1</td>\n",
       "      <td>US</td>\n",
       "      <td>25.00</td>\n",
       "      <td>25.00</td>\n",
       "      <td>25000.00</td>\n",
       "    </tr>\n",
       "  </tbody>\n",
       "</table>\n",
       "</div>"
      ],
      "text/plain": [
       "                ID                                               name  \\\n",
       "338862   796196901                                 10G Christmas Tree   \n",
       "277871   483825010                                              Gliff   \n",
       "47000    123916947                                 STUFFED Food Truck   \n",
       "111338  1565733636  NeoExodus Adventure: Origin of Man for Pathfin...   \n",
       "53743   1273544891        NAPOLEON IN NEW YORK! an original TV Series   \n",
       "\n",
       "               category main_category currency    deadline     goal  \\\n",
       "338862              Art           Art      USD  2010-12-26 10526.00   \n",
       "277871  Gaming Hardware         Games      USD  2016-03-28 10000.00   \n",
       "47000       Food Trucks          Food      USD  2015-01-06 60000.00   \n",
       "111338   Tabletop Games         Games      USD  2012-05-01   500.00   \n",
       "53743            Comedy  Film & Video      USD  2016-07-26 25000.00   \n",
       "\n",
       "                   launched  pledged       state  backers country  \\\n",
       "338862  2010-12-08 08:44:04     0.00      failed        0      US   \n",
       "277871  2016-01-28 04:56:18    51.00      failed        5      US   \n",
       "47000   2014-11-07 02:24:36    25.00      failed        1      US   \n",
       "111338  2012-03-15 01:16:10   585.00  successful       17      US   \n",
       "53743   2016-05-27 00:07:25    25.00      failed        1      US   \n",
       "\n",
       "        usd pledged  usd_pledged_real  usd_goal_real  \n",
       "338862         0.00              0.00       10526.00  \n",
       "277871        51.00             51.00       10000.00  \n",
       "47000         25.00             25.00       60000.00  \n",
       "111338       585.00            585.00         500.00  \n",
       "53743         25.00             25.00       25000.00  "
      ]
     },
     "execution_count": 4,
     "metadata": {},
     "output_type": "execute_result"
    }
   ],
   "source": [
    "kickstarter_2018.sample(5)"
   ]
  },
  {
   "cell_type": "code",
   "execution_count": 5,
   "metadata": {
    "colab": {
     "base_uri": "https://localhost:8080/",
     "height": 514
    },
    "colab_type": "code",
    "id": "GMoezCxSYStk",
    "outputId": "40ae8ecf-aedd-4344-cdc1-db994014a2ea"
   },
   "outputs": [
    {
     "data": {
      "text/html": [
       "<div>\n",
       "<style scoped>\n",
       "    .dataframe tbody tr th:only-of-type {\n",
       "        vertical-align: middle;\n",
       "    }\n",
       "\n",
       "    .dataframe tbody tr th {\n",
       "        vertical-align: top;\n",
       "    }\n",
       "\n",
       "    .dataframe thead th {\n",
       "        text-align: right;\n",
       "    }\n",
       "</style>\n",
       "<table border=\"1\" class=\"dataframe\">\n",
       "  <thead>\n",
       "    <tr style=\"text-align: right;\">\n",
       "      <th></th>\n",
       "      <th>Field name</th>\n",
       "      <th>Field description</th>\n",
       "      <th>Type</th>\n",
       "    </tr>\n",
       "  </thead>\n",
       "  <tbody>\n",
       "    <tr>\n",
       "      <th>0</th>\n",
       "      <td>ID</td>\n",
       "      <td>No description provided</td>\n",
       "      <td>Numeric</td>\n",
       "    </tr>\n",
       "    <tr>\n",
       "      <th>1</th>\n",
       "      <td>name</td>\n",
       "      <td>No description provided</td>\n",
       "      <td>String</td>\n",
       "    </tr>\n",
       "    <tr>\n",
       "      <th>2</th>\n",
       "      <td>category</td>\n",
       "      <td>No description provided</td>\n",
       "      <td>String</td>\n",
       "    </tr>\n",
       "    <tr>\n",
       "      <th>3</th>\n",
       "      <td>main_category</td>\n",
       "      <td>No description provided</td>\n",
       "      <td>String</td>\n",
       "    </tr>\n",
       "    <tr>\n",
       "      <th>4</th>\n",
       "      <td>currency</td>\n",
       "      <td>No description provided</td>\n",
       "      <td>String</td>\n",
       "    </tr>\n",
       "    <tr>\n",
       "      <th>5</th>\n",
       "      <td>deadline</td>\n",
       "      <td>No description provided</td>\n",
       "      <td>DateTime</td>\n",
       "    </tr>\n",
       "    <tr>\n",
       "      <th>6</th>\n",
       "      <td>goal</td>\n",
       "      <td>Goal amount in project currency</td>\n",
       "      <td>Numeric</td>\n",
       "    </tr>\n",
       "    <tr>\n",
       "      <th>7</th>\n",
       "      <td>launched</td>\n",
       "      <td>No description provided</td>\n",
       "      <td>DateTime</td>\n",
       "    </tr>\n",
       "    <tr>\n",
       "      <th>8</th>\n",
       "      <td>pledged</td>\n",
       "      <td>Pledged amount in the project currency</td>\n",
       "      <td>Numeric</td>\n",
       "    </tr>\n",
       "    <tr>\n",
       "      <th>9</th>\n",
       "      <td>state</td>\n",
       "      <td>No description provided</td>\n",
       "      <td>String</td>\n",
       "    </tr>\n",
       "    <tr>\n",
       "      <th>10</th>\n",
       "      <td>backers</td>\n",
       "      <td>No description provided</td>\n",
       "      <td>Numeric</td>\n",
       "    </tr>\n",
       "    <tr>\n",
       "      <th>11</th>\n",
       "      <td>country</td>\n",
       "      <td>No description provided</td>\n",
       "      <td>String</td>\n",
       "    </tr>\n",
       "    <tr>\n",
       "      <th>12</th>\n",
       "      <td>usd pledged</td>\n",
       "      <td>Pledged amount in USD (conversion made by KS)</td>\n",
       "      <td>Numeric</td>\n",
       "    </tr>\n",
       "    <tr>\n",
       "      <th>13</th>\n",
       "      <td>usd_pledged_real</td>\n",
       "      <td>Pledged amount in USD (conversion made by fixe...</td>\n",
       "      <td>Numeric</td>\n",
       "    </tr>\n",
       "    <tr>\n",
       "      <th>14</th>\n",
       "      <td>usd_goal_real</td>\n",
       "      <td>Goal amount in USD</td>\n",
       "      <td>Numeric</td>\n",
       "    </tr>\n",
       "  </tbody>\n",
       "</table>\n",
       "</div>"
      ],
      "text/plain": [
       "          Field name                                  Field description  \\\n",
       "0                 ID                            No description provided   \n",
       "1               name                            No description provided   \n",
       "2           category                            No description provided   \n",
       "3      main_category                            No description provided   \n",
       "4           currency                            No description provided   \n",
       "5           deadline                            No description provided   \n",
       "6               goal                    Goal amount in project currency   \n",
       "7           launched                            No description provided   \n",
       "8            pledged             Pledged amount in the project currency   \n",
       "9              state                            No description provided   \n",
       "10           backers                            No description provided   \n",
       "11           country                            No description provided   \n",
       "12       usd pledged      Pledged amount in USD (conversion made by KS)   \n",
       "13  usd_pledged_real  Pledged amount in USD (conversion made by fixe...   \n",
       "14     usd_goal_real                                 Goal amount in USD   \n",
       "\n",
       "        Type  \n",
       "0    Numeric  \n",
       "1     String  \n",
       "2     String  \n",
       "3     String  \n",
       "4     String  \n",
       "5   DateTime  \n",
       "6    Numeric  \n",
       "7   DateTime  \n",
       "8    Numeric  \n",
       "9     String  \n",
       "10   Numeric  \n",
       "11    String  \n",
       "12   Numeric  \n",
       "13   Numeric  \n",
       "14   Numeric  "
      ]
     },
     "execution_count": 5,
     "metadata": {},
     "output_type": "execute_result"
    }
   ],
   "source": [
    "pd.DataFrame([[\"ID\", \"No description provided\", \"Numeric\"],\n",
    "[\"name\", \"No description provided\", \"String\"],\n",
    "[\"category\", \"No description provided\", \"String\"],\n",
    "[\"main_category\", \"No description provided\", \"String\"],\n",
    "[\"currency\", \"No description provided\", \"String\"],\n",
    "[\"deadline\", \"No description provided\", \"DateTime\"],\n",
    "[\"goal\", \"Goal amount in project currency\", \"Numeric\"],\n",
    "[\"launched\", \"No description provided\", \"DateTime\"],\n",
    "[\"pledged\", \"Pledged amount in the project currency\", \"Numeric\"],\n",
    "[\"state\", \"No description provided\", \"String\"],\n",
    "[\"backers\", \"No description provided\", \"Numeric\"],\n",
    "[\"country\", \"No description provided\", \"String\"],\n",
    "[\"usd pledged\", \"Pledged amount in USD (conversion made by KS)\", \"Numeric\"],\n",
    "[\"usd_pledged_real\", \"Pledged amount in USD (conversion made by fixer.io api)\", \"Numeric\"],\n",
    "[\"usd_goal_real\", \"Goal amount in USD\", \"Numeric\"]], columns=[\"Field name\",\"Field description\", \"Type\"])"
   ]
  },
  {
   "cell_type": "code",
   "execution_count": 6,
   "metadata": {},
   "outputs": [
    {
     "data": {
      "text/plain": [
       "ID                    int64\n",
       "name                 object\n",
       "category             object\n",
       "main_category        object\n",
       "currency             object\n",
       "deadline             object\n",
       "goal                float64\n",
       "launched             object\n",
       "pledged             float64\n",
       "state                object\n",
       "backers               int64\n",
       "country              object\n",
       "usd pledged         float64\n",
       "usd_pledged_real    float64\n",
       "usd_goal_real       float64\n",
       "dtype: object"
      ]
     },
     "execution_count": 6,
     "metadata": {},
     "output_type": "execute_result"
    }
   ],
   "source": [
    "kickstarter_2018.dtypes"
   ]
  },
  {
   "cell_type": "code",
   "execution_count": 7,
   "metadata": {},
   "outputs": [
    {
     "data": {
      "text/html": [
       "<div>\n",
       "<style scoped>\n",
       "    .dataframe tbody tr th:only-of-type {\n",
       "        vertical-align: middle;\n",
       "    }\n",
       "\n",
       "    .dataframe tbody tr th {\n",
       "        vertical-align: top;\n",
       "    }\n",
       "\n",
       "    .dataframe thead th {\n",
       "        text-align: right;\n",
       "    }\n",
       "</style>\n",
       "<table border=\"1\" class=\"dataframe\">\n",
       "  <thead>\n",
       "    <tr style=\"text-align: right;\">\n",
       "      <th></th>\n",
       "      <th>ID</th>\n",
       "      <th>goal</th>\n",
       "      <th>pledged</th>\n",
       "      <th>backers</th>\n",
       "      <th>usd pledged</th>\n",
       "      <th>usd_pledged_real</th>\n",
       "      <th>usd_goal_real</th>\n",
       "    </tr>\n",
       "  </thead>\n",
       "  <tbody>\n",
       "    <tr>\n",
       "      <th>count</th>\n",
       "      <td>378661.00</td>\n",
       "      <td>378661.00</td>\n",
       "      <td>378661.00</td>\n",
       "      <td>378661.00</td>\n",
       "      <td>374864.00</td>\n",
       "      <td>378661.00</td>\n",
       "      <td>378661.00</td>\n",
       "    </tr>\n",
       "    <tr>\n",
       "      <th>mean</th>\n",
       "      <td>1074731191.99</td>\n",
       "      <td>49080.79</td>\n",
       "      <td>9682.98</td>\n",
       "      <td>105.62</td>\n",
       "      <td>7036.73</td>\n",
       "      <td>9058.92</td>\n",
       "      <td>45454.40</td>\n",
       "    </tr>\n",
       "    <tr>\n",
       "      <th>std</th>\n",
       "      <td>619086204.32</td>\n",
       "      <td>1183391.26</td>\n",
       "      <td>95636.01</td>\n",
       "      <td>907.19</td>\n",
       "      <td>78639.75</td>\n",
       "      <td>90973.34</td>\n",
       "      <td>1152950.06</td>\n",
       "    </tr>\n",
       "    <tr>\n",
       "      <th>min</th>\n",
       "      <td>5971.00</td>\n",
       "      <td>0.01</td>\n",
       "      <td>0.00</td>\n",
       "      <td>0.00</td>\n",
       "      <td>0.00</td>\n",
       "      <td>0.00</td>\n",
       "      <td>0.01</td>\n",
       "    </tr>\n",
       "    <tr>\n",
       "      <th>25%</th>\n",
       "      <td>538263516.00</td>\n",
       "      <td>2000.00</td>\n",
       "      <td>30.00</td>\n",
       "      <td>2.00</td>\n",
       "      <td>16.98</td>\n",
       "      <td>31.00</td>\n",
       "      <td>2000.00</td>\n",
       "    </tr>\n",
       "    <tr>\n",
       "      <th>50%</th>\n",
       "      <td>1075275634.00</td>\n",
       "      <td>5200.00</td>\n",
       "      <td>620.00</td>\n",
       "      <td>12.00</td>\n",
       "      <td>394.72</td>\n",
       "      <td>624.33</td>\n",
       "      <td>5500.00</td>\n",
       "    </tr>\n",
       "    <tr>\n",
       "      <th>75%</th>\n",
       "      <td>1610148624.00</td>\n",
       "      <td>16000.00</td>\n",
       "      <td>4076.00</td>\n",
       "      <td>56.00</td>\n",
       "      <td>3034.09</td>\n",
       "      <td>4050.00</td>\n",
       "      <td>15500.00</td>\n",
       "    </tr>\n",
       "    <tr>\n",
       "      <th>max</th>\n",
       "      <td>2147476221.00</td>\n",
       "      <td>100000000.00</td>\n",
       "      <td>20338986.27</td>\n",
       "      <td>219382.00</td>\n",
       "      <td>20338986.27</td>\n",
       "      <td>20338986.27</td>\n",
       "      <td>166361390.71</td>\n",
       "    </tr>\n",
       "  </tbody>\n",
       "</table>\n",
       "</div>"
      ],
      "text/plain": [
       "                 ID         goal     pledged   backers  usd pledged  \\\n",
       "count     378661.00    378661.00   378661.00 378661.00    374864.00   \n",
       "mean  1074731191.99     49080.79     9682.98    105.62      7036.73   \n",
       "std    619086204.32   1183391.26    95636.01    907.19     78639.75   \n",
       "min         5971.00         0.01        0.00      0.00         0.00   \n",
       "25%    538263516.00      2000.00       30.00      2.00        16.98   \n",
       "50%   1075275634.00      5200.00      620.00     12.00       394.72   \n",
       "75%   1610148624.00     16000.00     4076.00     56.00      3034.09   \n",
       "max   2147476221.00 100000000.00 20338986.27 219382.00  20338986.27   \n",
       "\n",
       "       usd_pledged_real  usd_goal_real  \n",
       "count         378661.00      378661.00  \n",
       "mean            9058.92       45454.40  \n",
       "std            90973.34     1152950.06  \n",
       "min                0.00           0.01  \n",
       "25%               31.00        2000.00  \n",
       "50%              624.33        5500.00  \n",
       "75%             4050.00       15500.00  \n",
       "max         20338986.27   166361390.71  "
      ]
     },
     "execution_count": 7,
     "metadata": {},
     "output_type": "execute_result"
    }
   ],
   "source": [
    "kickstarter_2018.describe()"
   ]
  },
  {
   "cell_type": "code",
   "execution_count": 8,
   "metadata": {},
   "outputs": [
    {
     "data": {
      "text/html": [
       "<div>\n",
       "<style scoped>\n",
       "    .dataframe tbody tr th:only-of-type {\n",
       "        vertical-align: middle;\n",
       "    }\n",
       "\n",
       "    .dataframe tbody tr th {\n",
       "        vertical-align: top;\n",
       "    }\n",
       "\n",
       "    .dataframe thead th {\n",
       "        text-align: right;\n",
       "    }\n",
       "</style>\n",
       "<table border=\"1\" class=\"dataframe\">\n",
       "  <thead>\n",
       "    <tr style=\"text-align: right;\">\n",
       "      <th></th>\n",
       "      <th>name</th>\n",
       "      <th>category</th>\n",
       "      <th>main_category</th>\n",
       "      <th>currency</th>\n",
       "      <th>deadline</th>\n",
       "      <th>launched</th>\n",
       "      <th>state</th>\n",
       "      <th>country</th>\n",
       "    </tr>\n",
       "  </thead>\n",
       "  <tbody>\n",
       "    <tr>\n",
       "      <th>count</th>\n",
       "      <td>378657</td>\n",
       "      <td>378661</td>\n",
       "      <td>378661</td>\n",
       "      <td>378661</td>\n",
       "      <td>378661</td>\n",
       "      <td>378661</td>\n",
       "      <td>378661</td>\n",
       "      <td>378661</td>\n",
       "    </tr>\n",
       "    <tr>\n",
       "      <th>unique</th>\n",
       "      <td>375764</td>\n",
       "      <td>159</td>\n",
       "      <td>15</td>\n",
       "      <td>14</td>\n",
       "      <td>3164</td>\n",
       "      <td>378089</td>\n",
       "      <td>6</td>\n",
       "      <td>23</td>\n",
       "    </tr>\n",
       "    <tr>\n",
       "      <th>top</th>\n",
       "      <td>New EP/Music Development</td>\n",
       "      <td>Product Design</td>\n",
       "      <td>Film &amp; Video</td>\n",
       "      <td>USD</td>\n",
       "      <td>2014-08-08</td>\n",
       "      <td>1970-01-01 01:00:00</td>\n",
       "      <td>failed</td>\n",
       "      <td>US</td>\n",
       "    </tr>\n",
       "    <tr>\n",
       "      <th>freq</th>\n",
       "      <td>41</td>\n",
       "      <td>22314</td>\n",
       "      <td>63585</td>\n",
       "      <td>295365</td>\n",
       "      <td>705</td>\n",
       "      <td>7</td>\n",
       "      <td>197719</td>\n",
       "      <td>292627</td>\n",
       "    </tr>\n",
       "  </tbody>\n",
       "</table>\n",
       "</div>"
      ],
      "text/plain": [
       "                            name        category main_category currency  \\\n",
       "count                     378657          378661        378661   378661   \n",
       "unique                    375764             159            15       14   \n",
       "top     New EP/Music Development  Product Design  Film & Video      USD   \n",
       "freq                          41           22314         63585   295365   \n",
       "\n",
       "          deadline             launched   state country  \n",
       "count       378661               378661  378661  378661  \n",
       "unique        3164               378089       6      23  \n",
       "top     2014-08-08  1970-01-01 01:00:00  failed      US  \n",
       "freq           705                    7  197719  292627  "
      ]
     },
     "execution_count": 8,
     "metadata": {},
     "output_type": "execute_result"
    }
   ],
   "source": [
    "kickstarter_2018.describe(include=['object'])"
   ]
  },
  {
   "cell_type": "code",
   "execution_count": 9,
   "metadata": {},
   "outputs": [
    {
     "data": {
      "text/plain": [
       "'1970-01-01 01:00:00'"
      ]
     },
     "execution_count": 9,
     "metadata": {},
     "output_type": "execute_result"
    }
   ],
   "source": [
    "kickstarter_2018['launched'].min()"
   ]
  },
  {
   "cell_type": "code",
   "execution_count": null,
   "metadata": {},
   "outputs": [],
   "source": []
  },
  {
   "cell_type": "code",
   "execution_count": 10,
   "metadata": {},
   "outputs": [
    {
     "data": {
      "text/plain": [
       "ID                           int64\n",
       "name                        object\n",
       "category                    object\n",
       "main_category               object\n",
       "currency                    object\n",
       "deadline            datetime64[ns]\n",
       "goal                       float64\n",
       "launched            datetime64[ns]\n",
       "pledged                    float64\n",
       "state                       object\n",
       "backers                      int64\n",
       "country                     object\n",
       "usd pledged                float64\n",
       "usd_pledged_real           float64\n",
       "usd_goal_real              float64\n",
       "dtype: object"
      ]
     },
     "execution_count": 10,
     "metadata": {},
     "output_type": "execute_result"
    }
   ],
   "source": [
    "kickstarter_2018 = pd.read_csv('../AnalisisYCuracion-master/input/kickstarter-projects/ks-projects-201801.csv', \n",
    "                               parse_dates=[\"deadline\",\"launched\"])\n",
    "kickstarter_2018.dtypes"
   ]
  },
  {
   "cell_type": "code",
   "execution_count": 11,
   "metadata": {},
   "outputs": [
    {
     "data": {
      "text/html": [
       "<div>\n",
       "<style scoped>\n",
       "    .dataframe tbody tr th:only-of-type {\n",
       "        vertical-align: middle;\n",
       "    }\n",
       "\n",
       "    .dataframe tbody tr th {\n",
       "        vertical-align: top;\n",
       "    }\n",
       "\n",
       "    .dataframe thead th {\n",
       "        text-align: right;\n",
       "    }\n",
       "</style>\n",
       "<table border=\"1\" class=\"dataframe\">\n",
       "  <thead>\n",
       "    <tr style=\"text-align: right;\">\n",
       "      <th></th>\n",
       "      <th>ID</th>\n",
       "      <th>name</th>\n",
       "      <th>category</th>\n",
       "      <th>main_category</th>\n",
       "      <th>currency</th>\n",
       "      <th>deadline</th>\n",
       "      <th>goal</th>\n",
       "      <th>launched</th>\n",
       "      <th>pledged</th>\n",
       "      <th>state</th>\n",
       "      <th>backers</th>\n",
       "      <th>country</th>\n",
       "      <th>usd pledged</th>\n",
       "      <th>usd_pledged_real</th>\n",
       "      <th>usd_goal_real</th>\n",
       "    </tr>\n",
       "  </thead>\n",
       "  <tbody>\n",
       "    <tr>\n",
       "      <th>299667</th>\n",
       "      <td>595962034</td>\n",
       "      <td>Button Poetry Live!</td>\n",
       "      <td>Mixed Media</td>\n",
       "      <td>Art</td>\n",
       "      <td>USD</td>\n",
       "      <td>2015-09-18</td>\n",
       "      <td>10000.00</td>\n",
       "      <td>2015-08-19 19:34:20</td>\n",
       "      <td>18216.27</td>\n",
       "      <td>successful</td>\n",
       "      <td>455</td>\n",
       "      <td>US</td>\n",
       "      <td>18216.27</td>\n",
       "      <td>18216.27</td>\n",
       "      <td>10000.00</td>\n",
       "    </tr>\n",
       "    <tr>\n",
       "      <th>181674</th>\n",
       "      <td>1924707671</td>\n",
       "      <td>C STREET 2012 : Tbilisi, Georgia</td>\n",
       "      <td>World Music</td>\n",
       "      <td>Music</td>\n",
       "      <td>USD</td>\n",
       "      <td>2012-06-07</td>\n",
       "      <td>5000.00</td>\n",
       "      <td>2012-05-08 18:22:59</td>\n",
       "      <td>7210.69</td>\n",
       "      <td>successful</td>\n",
       "      <td>82</td>\n",
       "      <td>US</td>\n",
       "      <td>7210.69</td>\n",
       "      <td>7210.69</td>\n",
       "      <td>5000.00</td>\n",
       "    </tr>\n",
       "    <tr>\n",
       "      <th>137583</th>\n",
       "      <td>1698707842</td>\n",
       "      <td>Dérive's Next Project</td>\n",
       "      <td>Punk</td>\n",
       "      <td>Music</td>\n",
       "      <td>USD</td>\n",
       "      <td>2014-07-06</td>\n",
       "      <td>1200.00</td>\n",
       "      <td>2014-06-08 17:58:37</td>\n",
       "      <td>1255.66</td>\n",
       "      <td>successful</td>\n",
       "      <td>33</td>\n",
       "      <td>US</td>\n",
       "      <td>1255.66</td>\n",
       "      <td>1255.66</td>\n",
       "      <td>1200.00</td>\n",
       "    </tr>\n",
       "    <tr>\n",
       "      <th>296861</th>\n",
       "      <td>581269566</td>\n",
       "      <td>Photo Book - World Santa Claus Congress</td>\n",
       "      <td>Photobooks</td>\n",
       "      <td>Photography</td>\n",
       "      <td>DKK</td>\n",
       "      <td>2017-04-14</td>\n",
       "      <td>110000.00</td>\n",
       "      <td>2017-03-14 23:45:35</td>\n",
       "      <td>462.00</td>\n",
       "      <td>failed</td>\n",
       "      <td>5</td>\n",
       "      <td>DK</td>\n",
       "      <td>0.00</td>\n",
       "      <td>66.46</td>\n",
       "      <td>15823.47</td>\n",
       "    </tr>\n",
       "    <tr>\n",
       "      <th>66362</th>\n",
       "      <td>1337585114</td>\n",
       "      <td>Kickstart CLE Brewing to greatness!</td>\n",
       "      <td>Drinks</td>\n",
       "      <td>Food</td>\n",
       "      <td>USD</td>\n",
       "      <td>2017-08-19</td>\n",
       "      <td>6500.00</td>\n",
       "      <td>2017-07-20 21:22:43</td>\n",
       "      <td>250.00</td>\n",
       "      <td>failed</td>\n",
       "      <td>5</td>\n",
       "      <td>US</td>\n",
       "      <td>75.00</td>\n",
       "      <td>250.00</td>\n",
       "      <td>6500.00</td>\n",
       "    </tr>\n",
       "  </tbody>\n",
       "</table>\n",
       "</div>"
      ],
      "text/plain": [
       "                ID                                     name     category  \\\n",
       "299667   595962034                      Button Poetry Live!  Mixed Media   \n",
       "181674  1924707671         C STREET 2012 : Tbilisi, Georgia  World Music   \n",
       "137583  1698707842                    Dérive's Next Project         Punk   \n",
       "296861   581269566  Photo Book - World Santa Claus Congress   Photobooks   \n",
       "66362   1337585114      Kickstart CLE Brewing to greatness!       Drinks   \n",
       "\n",
       "       main_category currency   deadline      goal            launched  \\\n",
       "299667           Art      USD 2015-09-18  10000.00 2015-08-19 19:34:20   \n",
       "181674         Music      USD 2012-06-07   5000.00 2012-05-08 18:22:59   \n",
       "137583         Music      USD 2014-07-06   1200.00 2014-06-08 17:58:37   \n",
       "296861   Photography      DKK 2017-04-14 110000.00 2017-03-14 23:45:35   \n",
       "66362           Food      USD 2017-08-19   6500.00 2017-07-20 21:22:43   \n",
       "\n",
       "        pledged       state  backers country  usd pledged  usd_pledged_real  \\\n",
       "299667 18216.27  successful      455      US     18216.27          18216.27   \n",
       "181674  7210.69  successful       82      US      7210.69           7210.69   \n",
       "137583  1255.66  successful       33      US      1255.66           1255.66   \n",
       "296861   462.00      failed        5      DK         0.00             66.46   \n",
       "66362    250.00      failed        5      US        75.00            250.00   \n",
       "\n",
       "        usd_goal_real  \n",
       "299667       10000.00  \n",
       "181674        5000.00  \n",
       "137583        1200.00  \n",
       "296861       15823.47  \n",
       "66362         6500.00  "
      ]
     },
     "execution_count": 11,
     "metadata": {},
     "output_type": "execute_result"
    }
   ],
   "source": [
    "kickstarter_2018.sample(5)"
   ]
  },
  {
   "cell_type": "code",
   "execution_count": 12,
   "metadata": {},
   "outputs": [
    {
     "data": {
      "text/html": [
       "<div>\n",
       "<style scoped>\n",
       "    .dataframe tbody tr th:only-of-type {\n",
       "        vertical-align: middle;\n",
       "    }\n",
       "\n",
       "    .dataframe tbody tr th {\n",
       "        vertical-align: top;\n",
       "    }\n",
       "\n",
       "    .dataframe thead th {\n",
       "        text-align: right;\n",
       "    }\n",
       "</style>\n",
       "<table border=\"1\" class=\"dataframe\">\n",
       "  <thead>\n",
       "    <tr style=\"text-align: right;\">\n",
       "      <th></th>\n",
       "      <th>ID</th>\n",
       "      <th>name</th>\n",
       "      <th>category</th>\n",
       "      <th>main_category</th>\n",
       "      <th>currency</th>\n",
       "      <th>deadline</th>\n",
       "      <th>goal</th>\n",
       "      <th>launched</th>\n",
       "      <th>pledged</th>\n",
       "      <th>state</th>\n",
       "      <th>backers</th>\n",
       "      <th>country</th>\n",
       "      <th>usd pledged</th>\n",
       "      <th>usd_pledged_real</th>\n",
       "      <th>usd_goal_real</th>\n",
       "    </tr>\n",
       "  </thead>\n",
       "  <tbody>\n",
       "    <tr>\n",
       "      <th>count</th>\n",
       "      <td>378661.00</td>\n",
       "      <td>378657</td>\n",
       "      <td>378661</td>\n",
       "      <td>378661</td>\n",
       "      <td>378661</td>\n",
       "      <td>378661</td>\n",
       "      <td>378661.00</td>\n",
       "      <td>378661</td>\n",
       "      <td>378661.00</td>\n",
       "      <td>378661</td>\n",
       "      <td>378661.00</td>\n",
       "      <td>378661</td>\n",
       "      <td>374864.00</td>\n",
       "      <td>378661.00</td>\n",
       "      <td>378661.00</td>\n",
       "    </tr>\n",
       "    <tr>\n",
       "      <th>unique</th>\n",
       "      <td>nan</td>\n",
       "      <td>375764</td>\n",
       "      <td>159</td>\n",
       "      <td>15</td>\n",
       "      <td>14</td>\n",
       "      <td>3164</td>\n",
       "      <td>nan</td>\n",
       "      <td>378089</td>\n",
       "      <td>nan</td>\n",
       "      <td>6</td>\n",
       "      <td>nan</td>\n",
       "      <td>23</td>\n",
       "      <td>nan</td>\n",
       "      <td>nan</td>\n",
       "      <td>nan</td>\n",
       "    </tr>\n",
       "    <tr>\n",
       "      <th>top</th>\n",
       "      <td>nan</td>\n",
       "      <td>New EP/Music Development</td>\n",
       "      <td>Product Design</td>\n",
       "      <td>Film &amp; Video</td>\n",
       "      <td>USD</td>\n",
       "      <td>2014-08-08 00:00:00</td>\n",
       "      <td>nan</td>\n",
       "      <td>1970-01-01 01:00:00</td>\n",
       "      <td>nan</td>\n",
       "      <td>failed</td>\n",
       "      <td>nan</td>\n",
       "      <td>US</td>\n",
       "      <td>nan</td>\n",
       "      <td>nan</td>\n",
       "      <td>nan</td>\n",
       "    </tr>\n",
       "    <tr>\n",
       "      <th>freq</th>\n",
       "      <td>nan</td>\n",
       "      <td>41</td>\n",
       "      <td>22314</td>\n",
       "      <td>63585</td>\n",
       "      <td>295365</td>\n",
       "      <td>705</td>\n",
       "      <td>nan</td>\n",
       "      <td>7</td>\n",
       "      <td>nan</td>\n",
       "      <td>197719</td>\n",
       "      <td>nan</td>\n",
       "      <td>292627</td>\n",
       "      <td>nan</td>\n",
       "      <td>nan</td>\n",
       "      <td>nan</td>\n",
       "    </tr>\n",
       "    <tr>\n",
       "      <th>first</th>\n",
       "      <td>nan</td>\n",
       "      <td>NaN</td>\n",
       "      <td>NaN</td>\n",
       "      <td>NaN</td>\n",
       "      <td>NaN</td>\n",
       "      <td>2009-05-03 00:00:00</td>\n",
       "      <td>nan</td>\n",
       "      <td>1970-01-01 01:00:00</td>\n",
       "      <td>nan</td>\n",
       "      <td>NaN</td>\n",
       "      <td>nan</td>\n",
       "      <td>NaN</td>\n",
       "      <td>nan</td>\n",
       "      <td>nan</td>\n",
       "      <td>nan</td>\n",
       "    </tr>\n",
       "    <tr>\n",
       "      <th>last</th>\n",
       "      <td>nan</td>\n",
       "      <td>NaN</td>\n",
       "      <td>NaN</td>\n",
       "      <td>NaN</td>\n",
       "      <td>NaN</td>\n",
       "      <td>2018-03-03 00:00:00</td>\n",
       "      <td>nan</td>\n",
       "      <td>2018-01-02 15:02:31</td>\n",
       "      <td>nan</td>\n",
       "      <td>NaN</td>\n",
       "      <td>nan</td>\n",
       "      <td>NaN</td>\n",
       "      <td>nan</td>\n",
       "      <td>nan</td>\n",
       "      <td>nan</td>\n",
       "    </tr>\n",
       "    <tr>\n",
       "      <th>mean</th>\n",
       "      <td>1074731191.99</td>\n",
       "      <td>NaN</td>\n",
       "      <td>NaN</td>\n",
       "      <td>NaN</td>\n",
       "      <td>NaN</td>\n",
       "      <td>NaN</td>\n",
       "      <td>49080.79</td>\n",
       "      <td>NaN</td>\n",
       "      <td>9682.98</td>\n",
       "      <td>NaN</td>\n",
       "      <td>105.62</td>\n",
       "      <td>NaN</td>\n",
       "      <td>7036.73</td>\n",
       "      <td>9058.92</td>\n",
       "      <td>45454.40</td>\n",
       "    </tr>\n",
       "    <tr>\n",
       "      <th>std</th>\n",
       "      <td>619086204.32</td>\n",
       "      <td>NaN</td>\n",
       "      <td>NaN</td>\n",
       "      <td>NaN</td>\n",
       "      <td>NaN</td>\n",
       "      <td>NaN</td>\n",
       "      <td>1183391.26</td>\n",
       "      <td>NaN</td>\n",
       "      <td>95636.01</td>\n",
       "      <td>NaN</td>\n",
       "      <td>907.19</td>\n",
       "      <td>NaN</td>\n",
       "      <td>78639.75</td>\n",
       "      <td>90973.34</td>\n",
       "      <td>1152950.06</td>\n",
       "    </tr>\n",
       "    <tr>\n",
       "      <th>min</th>\n",
       "      <td>5971.00</td>\n",
       "      <td>NaN</td>\n",
       "      <td>NaN</td>\n",
       "      <td>NaN</td>\n",
       "      <td>NaN</td>\n",
       "      <td>NaN</td>\n",
       "      <td>0.01</td>\n",
       "      <td>NaN</td>\n",
       "      <td>0.00</td>\n",
       "      <td>NaN</td>\n",
       "      <td>0.00</td>\n",
       "      <td>NaN</td>\n",
       "      <td>0.00</td>\n",
       "      <td>0.00</td>\n",
       "      <td>0.01</td>\n",
       "    </tr>\n",
       "    <tr>\n",
       "      <th>25%</th>\n",
       "      <td>538263516.00</td>\n",
       "      <td>NaN</td>\n",
       "      <td>NaN</td>\n",
       "      <td>NaN</td>\n",
       "      <td>NaN</td>\n",
       "      <td>NaN</td>\n",
       "      <td>2000.00</td>\n",
       "      <td>NaN</td>\n",
       "      <td>30.00</td>\n",
       "      <td>NaN</td>\n",
       "      <td>2.00</td>\n",
       "      <td>NaN</td>\n",
       "      <td>16.98</td>\n",
       "      <td>31.00</td>\n",
       "      <td>2000.00</td>\n",
       "    </tr>\n",
       "    <tr>\n",
       "      <th>50%</th>\n",
       "      <td>1075275634.00</td>\n",
       "      <td>NaN</td>\n",
       "      <td>NaN</td>\n",
       "      <td>NaN</td>\n",
       "      <td>NaN</td>\n",
       "      <td>NaN</td>\n",
       "      <td>5200.00</td>\n",
       "      <td>NaN</td>\n",
       "      <td>620.00</td>\n",
       "      <td>NaN</td>\n",
       "      <td>12.00</td>\n",
       "      <td>NaN</td>\n",
       "      <td>394.72</td>\n",
       "      <td>624.33</td>\n",
       "      <td>5500.00</td>\n",
       "    </tr>\n",
       "    <tr>\n",
       "      <th>75%</th>\n",
       "      <td>1610148624.00</td>\n",
       "      <td>NaN</td>\n",
       "      <td>NaN</td>\n",
       "      <td>NaN</td>\n",
       "      <td>NaN</td>\n",
       "      <td>NaN</td>\n",
       "      <td>16000.00</td>\n",
       "      <td>NaN</td>\n",
       "      <td>4076.00</td>\n",
       "      <td>NaN</td>\n",
       "      <td>56.00</td>\n",
       "      <td>NaN</td>\n",
       "      <td>3034.09</td>\n",
       "      <td>4050.00</td>\n",
       "      <td>15500.00</td>\n",
       "    </tr>\n",
       "    <tr>\n",
       "      <th>max</th>\n",
       "      <td>2147476221.00</td>\n",
       "      <td>NaN</td>\n",
       "      <td>NaN</td>\n",
       "      <td>NaN</td>\n",
       "      <td>NaN</td>\n",
       "      <td>NaN</td>\n",
       "      <td>100000000.00</td>\n",
       "      <td>NaN</td>\n",
       "      <td>20338986.27</td>\n",
       "      <td>NaN</td>\n",
       "      <td>219382.00</td>\n",
       "      <td>NaN</td>\n",
       "      <td>20338986.27</td>\n",
       "      <td>20338986.27</td>\n",
       "      <td>166361390.71</td>\n",
       "    </tr>\n",
       "  </tbody>\n",
       "</table>\n",
       "</div>"
      ],
      "text/plain": [
       "                  ID                      name        category main_category  \\\n",
       "count      378661.00                    378657          378661        378661   \n",
       "unique           nan                    375764             159            15   \n",
       "top              nan  New EP/Music Development  Product Design  Film & Video   \n",
       "freq             nan                        41           22314         63585   \n",
       "first            nan                       NaN             NaN           NaN   \n",
       "last             nan                       NaN             NaN           NaN   \n",
       "mean   1074731191.99                       NaN             NaN           NaN   \n",
       "std     619086204.32                       NaN             NaN           NaN   \n",
       "min          5971.00                       NaN             NaN           NaN   \n",
       "25%     538263516.00                       NaN             NaN           NaN   \n",
       "50%    1075275634.00                       NaN             NaN           NaN   \n",
       "75%    1610148624.00                       NaN             NaN           NaN   \n",
       "max    2147476221.00                       NaN             NaN           NaN   \n",
       "\n",
       "       currency             deadline         goal             launched  \\\n",
       "count    378661               378661    378661.00               378661   \n",
       "unique       14                 3164          nan               378089   \n",
       "top         USD  2014-08-08 00:00:00          nan  1970-01-01 01:00:00   \n",
       "freq     295365                  705          nan                    7   \n",
       "first       NaN  2009-05-03 00:00:00          nan  1970-01-01 01:00:00   \n",
       "last        NaN  2018-03-03 00:00:00          nan  2018-01-02 15:02:31   \n",
       "mean        NaN                  NaN     49080.79                  NaN   \n",
       "std         NaN                  NaN   1183391.26                  NaN   \n",
       "min         NaN                  NaN         0.01                  NaN   \n",
       "25%         NaN                  NaN      2000.00                  NaN   \n",
       "50%         NaN                  NaN      5200.00                  NaN   \n",
       "75%         NaN                  NaN     16000.00                  NaN   \n",
       "max         NaN                  NaN 100000000.00                  NaN   \n",
       "\n",
       "           pledged   state   backers country  usd pledged  usd_pledged_real  \\\n",
       "count    378661.00  378661 378661.00  378661    374864.00         378661.00   \n",
       "unique         nan       6       nan      23          nan               nan   \n",
       "top            nan  failed       nan      US          nan               nan   \n",
       "freq           nan  197719       nan  292627          nan               nan   \n",
       "first          nan     NaN       nan     NaN          nan               nan   \n",
       "last           nan     NaN       nan     NaN          nan               nan   \n",
       "mean       9682.98     NaN    105.62     NaN      7036.73           9058.92   \n",
       "std       95636.01     NaN    907.19     NaN     78639.75          90973.34   \n",
       "min           0.00     NaN      0.00     NaN         0.00              0.00   \n",
       "25%          30.00     NaN      2.00     NaN        16.98             31.00   \n",
       "50%         620.00     NaN     12.00     NaN       394.72            624.33   \n",
       "75%        4076.00     NaN     56.00     NaN      3034.09           4050.00   \n",
       "max    20338986.27     NaN 219382.00     NaN  20338986.27       20338986.27   \n",
       "\n",
       "        usd_goal_real  \n",
       "count       378661.00  \n",
       "unique            nan  \n",
       "top               nan  \n",
       "freq              nan  \n",
       "first             nan  \n",
       "last              nan  \n",
       "mean         45454.40  \n",
       "std        1152950.06  \n",
       "min              0.01  \n",
       "25%           2000.00  \n",
       "50%           5500.00  \n",
       "75%          15500.00  \n",
       "max      166361390.71  "
      ]
     },
     "execution_count": 12,
     "metadata": {},
     "output_type": "execute_result"
    }
   ],
   "source": [
    "kickstarter_2018.describe(include='all')"
   ]
  },
  {
   "cell_type": "code",
   "execution_count": 13,
   "metadata": {},
   "outputs": [
    {
     "data": {
      "text/plain": [
       "Timedelta('17533 days 14:02:31')"
      ]
     },
     "execution_count": 13,
     "metadata": {},
     "output_type": "execute_result"
    }
   ],
   "source": [
    "kickstarter_2018['launched'].max() - kickstarter_2018['launched'].min()"
   ]
  },
  {
   "cell_type": "markdown",
   "metadata": {},
   "source": [
    "### 1.2 Asegurarse de tener ids/claves únicas"
   ]
  },
  {
   "cell_type": "code",
   "execution_count": 14,
   "metadata": {},
   "outputs": [
    {
     "data": {
      "text/plain": [
       "(378661, 15)"
      ]
     },
     "execution_count": 14,
     "metadata": {},
     "output_type": "execute_result"
    }
   ],
   "source": [
    "# Chequear que no hay datos duplicados\n",
    "\n",
    "kickstarter_2018.shape"
   ]
  },
  {
   "cell_type": "code",
   "execution_count": 15,
   "metadata": {},
   "outputs": [],
   "source": [
    "# Pandas soporta índices en los dataframes, vamos a recargar los datos\n",
    "\n",
    "kickstarter_2018 = pd.read_csv('../AnalisisYCuracion-master/input/kickstarter-projects/ks-projects-201801.csv', \n",
    "                               parse_dates=[\"deadline\",\"launched\"], index_col=['ID'] )"
   ]
  },
  {
   "cell_type": "code",
   "execution_count": 16,
   "metadata": {},
   "outputs": [
    {
     "data": {
      "text/html": [
       "<div>\n",
       "<style scoped>\n",
       "    .dataframe tbody tr th:only-of-type {\n",
       "        vertical-align: middle;\n",
       "    }\n",
       "\n",
       "    .dataframe tbody tr th {\n",
       "        vertical-align: top;\n",
       "    }\n",
       "\n",
       "    .dataframe thead th {\n",
       "        text-align: right;\n",
       "    }\n",
       "</style>\n",
       "<table border=\"1\" class=\"dataframe\">\n",
       "  <thead>\n",
       "    <tr style=\"text-align: right;\">\n",
       "      <th></th>\n",
       "      <th>name</th>\n",
       "      <th>category</th>\n",
       "      <th>main_category</th>\n",
       "      <th>currency</th>\n",
       "      <th>deadline</th>\n",
       "      <th>goal</th>\n",
       "      <th>launched</th>\n",
       "      <th>pledged</th>\n",
       "      <th>state</th>\n",
       "      <th>backers</th>\n",
       "      <th>country</th>\n",
       "      <th>usd pledged</th>\n",
       "      <th>usd_pledged_real</th>\n",
       "      <th>usd_goal_real</th>\n",
       "    </tr>\n",
       "    <tr>\n",
       "      <th>ID</th>\n",
       "      <th></th>\n",
       "      <th></th>\n",
       "      <th></th>\n",
       "      <th></th>\n",
       "      <th></th>\n",
       "      <th></th>\n",
       "      <th></th>\n",
       "      <th></th>\n",
       "      <th></th>\n",
       "      <th></th>\n",
       "      <th></th>\n",
       "      <th></th>\n",
       "      <th></th>\n",
       "      <th></th>\n",
       "    </tr>\n",
       "  </thead>\n",
       "  <tbody>\n",
       "    <tr>\n",
       "      <th>1000002330</th>\n",
       "      <td>The Songs of Adelaide &amp; Abullah</td>\n",
       "      <td>Poetry</td>\n",
       "      <td>Publishing</td>\n",
       "      <td>GBP</td>\n",
       "      <td>2015-10-09</td>\n",
       "      <td>1000.00</td>\n",
       "      <td>2015-08-11 12:12:28</td>\n",
       "      <td>0.00</td>\n",
       "      <td>failed</td>\n",
       "      <td>0</td>\n",
       "      <td>GB</td>\n",
       "      <td>0.00</td>\n",
       "      <td>0.00</td>\n",
       "      <td>1533.95</td>\n",
       "    </tr>\n",
       "    <tr>\n",
       "      <th>1000003930</th>\n",
       "      <td>Greeting From Earth: ZGAC Arts Capsule For ET</td>\n",
       "      <td>Narrative Film</td>\n",
       "      <td>Film &amp; Video</td>\n",
       "      <td>USD</td>\n",
       "      <td>2017-11-01</td>\n",
       "      <td>30000.00</td>\n",
       "      <td>2017-09-02 04:43:57</td>\n",
       "      <td>2421.00</td>\n",
       "      <td>failed</td>\n",
       "      <td>15</td>\n",
       "      <td>US</td>\n",
       "      <td>100.00</td>\n",
       "      <td>2421.00</td>\n",
       "      <td>30000.00</td>\n",
       "    </tr>\n",
       "    <tr>\n",
       "      <th>1000004038</th>\n",
       "      <td>Where is Hank?</td>\n",
       "      <td>Narrative Film</td>\n",
       "      <td>Film &amp; Video</td>\n",
       "      <td>USD</td>\n",
       "      <td>2013-02-26</td>\n",
       "      <td>45000.00</td>\n",
       "      <td>2013-01-12 00:20:50</td>\n",
       "      <td>220.00</td>\n",
       "      <td>failed</td>\n",
       "      <td>3</td>\n",
       "      <td>US</td>\n",
       "      <td>220.00</td>\n",
       "      <td>220.00</td>\n",
       "      <td>45000.00</td>\n",
       "    </tr>\n",
       "    <tr>\n",
       "      <th>1000007540</th>\n",
       "      <td>ToshiCapital Rekordz Needs Help to Complete Album</td>\n",
       "      <td>Music</td>\n",
       "      <td>Music</td>\n",
       "      <td>USD</td>\n",
       "      <td>2012-04-16</td>\n",
       "      <td>5000.00</td>\n",
       "      <td>2012-03-17 03:24:11</td>\n",
       "      <td>1.00</td>\n",
       "      <td>failed</td>\n",
       "      <td>1</td>\n",
       "      <td>US</td>\n",
       "      <td>1.00</td>\n",
       "      <td>1.00</td>\n",
       "      <td>5000.00</td>\n",
       "    </tr>\n",
       "    <tr>\n",
       "      <th>1000011046</th>\n",
       "      <td>Community Film Project: The Art of Neighborhoo...</td>\n",
       "      <td>Film &amp; Video</td>\n",
       "      <td>Film &amp; Video</td>\n",
       "      <td>USD</td>\n",
       "      <td>2015-08-29</td>\n",
       "      <td>19500.00</td>\n",
       "      <td>2015-07-04 08:35:03</td>\n",
       "      <td>1283.00</td>\n",
       "      <td>canceled</td>\n",
       "      <td>14</td>\n",
       "      <td>US</td>\n",
       "      <td>1283.00</td>\n",
       "      <td>1283.00</td>\n",
       "      <td>19500.00</td>\n",
       "    </tr>\n",
       "  </tbody>\n",
       "</table>\n",
       "</div>"
      ],
      "text/plain": [
       "                                                         name        category  \\\n",
       "ID                                                                              \n",
       "1000002330                    The Songs of Adelaide & Abullah          Poetry   \n",
       "1000003930      Greeting From Earth: ZGAC Arts Capsule For ET  Narrative Film   \n",
       "1000004038                                     Where is Hank?  Narrative Film   \n",
       "1000007540  ToshiCapital Rekordz Needs Help to Complete Album           Music   \n",
       "1000011046  Community Film Project: The Art of Neighborhoo...    Film & Video   \n",
       "\n",
       "           main_category currency   deadline     goal            launched  \\\n",
       "ID                                                                          \n",
       "1000002330    Publishing      GBP 2015-10-09  1000.00 2015-08-11 12:12:28   \n",
       "1000003930  Film & Video      USD 2017-11-01 30000.00 2017-09-02 04:43:57   \n",
       "1000004038  Film & Video      USD 2013-02-26 45000.00 2013-01-12 00:20:50   \n",
       "1000007540         Music      USD 2012-04-16  5000.00 2012-03-17 03:24:11   \n",
       "1000011046  Film & Video      USD 2015-08-29 19500.00 2015-07-04 08:35:03   \n",
       "\n",
       "            pledged     state  backers country  usd pledged  usd_pledged_real  \\\n",
       "ID                                                                              \n",
       "1000002330     0.00    failed        0      GB         0.00              0.00   \n",
       "1000003930  2421.00    failed       15      US       100.00           2421.00   \n",
       "1000004038   220.00    failed        3      US       220.00            220.00   \n",
       "1000007540     1.00    failed        1      US         1.00              1.00   \n",
       "1000011046  1283.00  canceled       14      US      1283.00           1283.00   \n",
       "\n",
       "            usd_goal_real  \n",
       "ID                         \n",
       "1000002330        1533.95  \n",
       "1000003930       30000.00  \n",
       "1000004038       45000.00  \n",
       "1000007540        5000.00  \n",
       "1000011046       19500.00  "
      ]
     },
     "execution_count": 16,
     "metadata": {},
     "output_type": "execute_result"
    }
   ],
   "source": [
    "kickstarter_2018[:5]"
   ]
  },
  {
   "cell_type": "code",
   "execution_count": 17,
   "metadata": {},
   "outputs": [
    {
     "data": {
      "text/plain": [
       "(378661, 14)"
      ]
     },
     "execution_count": 17,
     "metadata": {},
     "output_type": "execute_result"
    }
   ],
   "source": [
    "kickstarter_2018.shape"
   ]
  },
  {
   "cell_type": "code",
   "execution_count": 18,
   "metadata": {},
   "outputs": [
    {
     "data": {
      "text/plain": [
       "name                Nou Renmen Ayiti!  We Love Haiti!\n",
       "category                              Performance Art\n",
       "main_category                                     Art\n",
       "currency                                          USD\n",
       "deadline                          2011-08-16 00:00:00\n",
       "goal                                          2000.00\n",
       "launched                          2011-07-19 09:07:47\n",
       "pledged                                        524.00\n",
       "state                                          failed\n",
       "backers                                            17\n",
       "country                                            US\n",
       "usd pledged                                    524.00\n",
       "usd_pledged_real                               524.00\n",
       "usd_goal_real                                 2000.00\n",
       "Name: 999988282, dtype: object"
      ]
     },
     "execution_count": 18,
     "metadata": {},
     "output_type": "execute_result"
    }
   ],
   "source": [
    "# De esta forma podemos buscar el índice\n",
    "kickstarter_2018.loc[999988282]"
   ]
  },
  {
   "cell_type": "code",
   "execution_count": 19,
   "metadata": {},
   "outputs": [
    {
     "data": {
      "text/html": [
       "<div>\n",
       "<style scoped>\n",
       "    .dataframe tbody tr th:only-of-type {\n",
       "        vertical-align: middle;\n",
       "    }\n",
       "\n",
       "    .dataframe tbody tr th {\n",
       "        vertical-align: top;\n",
       "    }\n",
       "\n",
       "    .dataframe thead th {\n",
       "        text-align: right;\n",
       "    }\n",
       "</style>\n",
       "<table border=\"1\" class=\"dataframe\">\n",
       "  <thead>\n",
       "    <tr style=\"text-align: right;\">\n",
       "      <th></th>\n",
       "      <th>name</th>\n",
       "      <th>category</th>\n",
       "      <th>main_category</th>\n",
       "      <th>currency</th>\n",
       "      <th>deadline</th>\n",
       "      <th>goal</th>\n",
       "      <th>launched</th>\n",
       "      <th>pledged</th>\n",
       "      <th>state</th>\n",
       "      <th>backers</th>\n",
       "      <th>country</th>\n",
       "      <th>usd pledged</th>\n",
       "      <th>usd_pledged_real</th>\n",
       "      <th>usd_goal_real</th>\n",
       "    </tr>\n",
       "    <tr>\n",
       "      <th>ID</th>\n",
       "      <th></th>\n",
       "      <th></th>\n",
       "      <th></th>\n",
       "      <th></th>\n",
       "      <th></th>\n",
       "      <th></th>\n",
       "      <th></th>\n",
       "      <th></th>\n",
       "      <th></th>\n",
       "      <th></th>\n",
       "      <th></th>\n",
       "      <th></th>\n",
       "      <th></th>\n",
       "      <th></th>\n",
       "    </tr>\n",
       "  </thead>\n",
       "  <tbody>\n",
       "  </tbody>\n",
       "</table>\n",
       "</div>"
      ],
      "text/plain": [
       "Empty DataFrame\n",
       "Columns: [name, category, main_category, currency, deadline, goal, launched, pledged, state, backers, country, usd pledged, usd_pledged_real, usd_goal_real]\n",
       "Index: []"
      ]
     },
     "execution_count": 19,
     "metadata": {},
     "output_type": "execute_result"
    }
   ],
   "source": [
    "# Tambien podemos verificar si hay filas de contenido duplicado\n",
    "\n",
    "kickstarter_2018[kickstarter_2018.duplicated()]"
   ]
  },
  {
   "cell_type": "code",
   "execution_count": 20,
   "metadata": {},
   "outputs": [
    {
     "data": {
      "text/plain": [
       "count         378661\n",
       "unique        378661\n",
       "top       1217768113\n",
       "freq               1\n",
       "Name: ID, dtype: object"
      ]
     },
     "execution_count": 20,
     "metadata": {},
     "output_type": "execute_result"
    }
   ],
   "source": [
    "# Como pandas acepta valores duplicados en los índices, también debemos buscar ahí\n",
    "\n",
    "pd.Series(kickstarter_2018.index,dtype=str).describe()"
   ]
  },
  {
   "cell_type": "markdown",
   "metadata": {},
   "source": [
    "#### Repasamos con un ejemplo de juguete:"
   ]
  },
  {
   "cell_type": "code",
   "execution_count": 21,
   "metadata": {},
   "outputs": [
    {
     "name": "stdout",
     "output_type": "stream",
     "text": [
      "1,2\n",
      "3,3\n",
      "1,3\n"
     ]
    }
   ],
   "source": [
    "csv='1,2\\n3,3\\n1,3'\n",
    "print(csv)"
   ]
  },
  {
   "cell_type": "code",
   "execution_count": 22,
   "metadata": {},
   "outputs": [
    {
     "data": {
      "text/html": [
       "<div>\n",
       "<style scoped>\n",
       "    .dataframe tbody tr th:only-of-type {\n",
       "        vertical-align: middle;\n",
       "    }\n",
       "\n",
       "    .dataframe tbody tr th {\n",
       "        vertical-align: top;\n",
       "    }\n",
       "\n",
       "    .dataframe thead th {\n",
       "        text-align: right;\n",
       "    }\n",
       "</style>\n",
       "<table border=\"1\" class=\"dataframe\">\n",
       "  <thead>\n",
       "    <tr style=\"text-align: right;\">\n",
       "      <th></th>\n",
       "      <th>value</th>\n",
       "    </tr>\n",
       "    <tr>\n",
       "      <th>id</th>\n",
       "      <th></th>\n",
       "    </tr>\n",
       "  </thead>\n",
       "  <tbody>\n",
       "    <tr>\n",
       "      <th>1</th>\n",
       "      <td>2</td>\n",
       "    </tr>\n",
       "    <tr>\n",
       "      <th>3</th>\n",
       "      <td>3</td>\n",
       "    </tr>\n",
       "    <tr>\n",
       "      <th>1</th>\n",
       "      <td>3</td>\n",
       "    </tr>\n",
       "  </tbody>\n",
       "</table>\n",
       "</div>"
      ],
      "text/plain": [
       "    value\n",
       "id       \n",
       "1       2\n",
       "3       3\n",
       "1       3"
      ]
     },
     "execution_count": 22,
     "metadata": {},
     "output_type": "execute_result"
    }
   ],
   "source": [
    "from io import StringIO\n",
    "df = pd.read_csv(StringIO(csv), names=['id','value'], index_col='id')\n",
    "df"
   ]
  },
  {
   "cell_type": "code",
   "execution_count": 23,
   "metadata": {},
   "outputs": [
    {
     "data": {
      "text/html": [
       "<div>\n",
       "<style scoped>\n",
       "    .dataframe tbody tr th:only-of-type {\n",
       "        vertical-align: middle;\n",
       "    }\n",
       "\n",
       "    .dataframe tbody tr th {\n",
       "        vertical-align: top;\n",
       "    }\n",
       "\n",
       "    .dataframe thead th {\n",
       "        text-align: right;\n",
       "    }\n",
       "</style>\n",
       "<table border=\"1\" class=\"dataframe\">\n",
       "  <thead>\n",
       "    <tr style=\"text-align: right;\">\n",
       "      <th></th>\n",
       "      <th>value</th>\n",
       "    </tr>\n",
       "    <tr>\n",
       "      <th>id</th>\n",
       "      <th></th>\n",
       "    </tr>\n",
       "  </thead>\n",
       "  <tbody>\n",
       "    <tr>\n",
       "      <th>1</th>\n",
       "      <td>3</td>\n",
       "    </tr>\n",
       "  </tbody>\n",
       "</table>\n",
       "</div>"
      ],
      "text/plain": [
       "    value\n",
       "id       \n",
       "1       3"
      ]
     },
     "execution_count": 23,
     "metadata": {},
     "output_type": "execute_result"
    }
   ],
   "source": [
    "df[df.duplicated()]"
   ]
  },
  {
   "cell_type": "code",
   "execution_count": 24,
   "metadata": {},
   "outputs": [
    {
     "data": {
      "text/html": [
       "<div>\n",
       "<style scoped>\n",
       "    .dataframe tbody tr th:only-of-type {\n",
       "        vertical-align: middle;\n",
       "    }\n",
       "\n",
       "    .dataframe tbody tr th {\n",
       "        vertical-align: top;\n",
       "    }\n",
       "\n",
       "    .dataframe thead th {\n",
       "        text-align: right;\n",
       "    }\n",
       "</style>\n",
       "<table border=\"1\" class=\"dataframe\">\n",
       "  <thead>\n",
       "    <tr style=\"text-align: right;\">\n",
       "      <th></th>\n",
       "      <th>value</th>\n",
       "    </tr>\n",
       "    <tr>\n",
       "      <th>id</th>\n",
       "      <th></th>\n",
       "    </tr>\n",
       "  </thead>\n",
       "  <tbody>\n",
       "    <tr>\n",
       "      <th>1</th>\n",
       "      <td>2</td>\n",
       "    </tr>\n",
       "    <tr>\n",
       "      <th>1</th>\n",
       "      <td>3</td>\n",
       "    </tr>\n",
       "  </tbody>\n",
       "</table>\n",
       "</div>"
      ],
      "text/plain": [
       "    value\n",
       "id       \n",
       "1       2\n",
       "1       3"
      ]
     },
     "execution_count": 24,
     "metadata": {},
     "output_type": "execute_result"
    }
   ],
   "source": [
    "df[df.index.duplicated(keep=False)]"
   ]
  },
  {
   "cell_type": "markdown",
   "metadata": {},
   "source": [
    "## Ejercicio 1:\n",
    "\n",
    "Armar una tabla con todos los proyectos con nombres duplicados, ordenados para revisar agrupados.\n"
   ]
  },
  {
   "cell_type": "code",
   "execution_count": 25,
   "metadata": {},
   "outputs": [],
   "source": [
    "ds = pd.read_csv('../AnalisisYCuracion-master/input/kickstarter-projects/ks-projects-201801.csv', \n",
    "                               parse_dates=[\"deadline\",\"launched\"],  index_col=['ID'])"
   ]
  },
  {
   "cell_type": "code",
   "execution_count": 26,
   "metadata": {},
   "outputs": [],
   "source": [
    "ds1 = ds[ds.duplicated('name')].sort_values('name')"
   ]
  },
  {
   "cell_type": "code",
   "execution_count": 27,
   "metadata": {},
   "outputs": [
    {
     "data": {
      "text/html": [
       "<div>\n",
       "<style scoped>\n",
       "    .dataframe tbody tr th:only-of-type {\n",
       "        vertical-align: middle;\n",
       "    }\n",
       "\n",
       "    .dataframe tbody tr th {\n",
       "        vertical-align: top;\n",
       "    }\n",
       "\n",
       "    .dataframe thead th {\n",
       "        text-align: right;\n",
       "    }\n",
       "</style>\n",
       "<table border=\"1\" class=\"dataframe\">\n",
       "  <thead>\n",
       "    <tr style=\"text-align: right;\">\n",
       "      <th></th>\n",
       "      <th>name</th>\n",
       "      <th>cantidad</th>\n",
       "    </tr>\n",
       "  </thead>\n",
       "  <tbody>\n",
       "    <tr>\n",
       "      <th>80</th>\n",
       "      <td>Across The Pond</td>\n",
       "      <td>1</td>\n",
       "    </tr>\n",
       "    <tr>\n",
       "      <th>81</th>\n",
       "      <td>Adorable Monsters</td>\n",
       "      <td>1</td>\n",
       "    </tr>\n",
       "    <tr>\n",
       "      <th>82</th>\n",
       "      <td>Adrift</td>\n",
       "      <td>2</td>\n",
       "    </tr>\n",
       "    <tr>\n",
       "      <th>83</th>\n",
       "      <td>Adventure Box</td>\n",
       "      <td>1</td>\n",
       "    </tr>\n",
       "    <tr>\n",
       "      <th>84</th>\n",
       "      <td>Adventure Bunnies (Canceled)</td>\n",
       "      <td>1</td>\n",
       "    </tr>\n",
       "  </tbody>\n",
       "</table>\n",
       "</div>"
      ],
      "text/plain": [
       "                            name  cantidad\n",
       "80               Across The Pond         1\n",
       "81             Adorable Monsters         1\n",
       "82                        Adrift         2\n",
       "83                 Adventure Box         1\n",
       "84  Adventure Bunnies (Canceled)         1"
      ]
     },
     "execution_count": 27,
     "metadata": {},
     "output_type": "execute_result"
    }
   ],
   "source": [
    "ds2= pd.DataFrame({'cantidad' : ds1.groupby(['name']).size()}).reset_index()\n",
    "ds2[80:85]"
   ]
  },
  {
   "cell_type": "markdown",
   "metadata": {},
   "source": []
  },
  {
   "cell_type": "markdown",
   "metadata": {
    "colab_type": "text",
    "id": "NeVjrYP2YSu2"
   },
   "source": [
    "## 1.3. Despersonalizar datos y guardarlos en un nuevo archivo"
   ]
  },
  {
   "cell_type": "markdown",
   "metadata": {
    "colab_type": "text",
    "id": "oKIo48BBYSu3"
   },
   "source": [
    "Hay muuuchas técnicas para despersonalizar datos.\n",
    "\n",
    "Para ilustrar mostramos las ofrecidas por Google https://cloud.google.com/dlp/docs/transformations-reference:\n",
    "\n",
    "* **Reemplazo**: Reemplaza cada valor de entrada con un valor determinado.\n",
    "* **Ocultamiento**: Quita un valor y lo oculta.\n",
    "* **Enmascaramiento con caracteres**: Enmascara una string por completo o parcialmente mediante el reemplazo de un número determinado de caracteres con un carácter fijo especificado..\n",
    "* **Seudonimización mediante el reemplazo de un valor de entrada con un hash criptográfico**: Reemplaza valores de entrada con una string hexadecimal de 32 bytes mediante una clave de encriptación de datos.\n",
    "* **Cambio de fechas**: Cambia las fechas por un número de días al azar, con la opción de ser coherente en el mismo contexto..\n",
    "* **Seudonimización mediante el reemplazo con token de preservación de formato criptográfico**: Reemplaza un valor de entrada con un token, o valor sustituto, de la misma longitud mediante la encriptación de preservación de formato (FPE) con el modo de operación FFX. Esto permite que se use el resultado en sistemas con validación de formato o que necesitan aparecer como reales a pesar de que la información no se revela.\n",
    "* **Valores de depósito con base en rangos de tamaño fijos**: Enmascara los valores de entrada y los reemplaza por depósitos, o rangos dentro de los cuales se encuentra el valor de entrada.\n",
    "* **Valores de depósito con base en rangos de tamaño personalizados**: Valores de entrada de depósito con base en rangos configurables por el usuario y valores de reemplazo.\n",
    "* **Extracción de datos de tiempo**: EExtrae o preserva una porción de los valores Date, Timestamp y TimeOfDay."
   ]
  },
  {
   "cell_type": "code",
   "execution_count": 28,
   "metadata": {},
   "outputs": [],
   "source": [
    "from hashlib import md5"
   ]
  },
  {
   "cell_type": "code",
   "execution_count": null,
   "metadata": {},
   "outputs": [],
   "source": []
  },
  {
   "cell_type": "code",
   "execution_count": 29,
   "metadata": {},
   "outputs": [
    {
     "data": {
      "text/plain": [
       "ID\n",
       "1000002330    a6828ae8a2eca25f0dd7035efc0af0a0\n",
       "1000003930    81609b3bdc0b96f429672d69702f2524\n",
       "1000004038    c12f5c3bace2f0213cdb2679a265dca0\n",
       "1000007540    4dbdcf09c86bbf5683ec39bc57b77f81\n",
       "1000011046    9c01404a2ef702811c2088ce139042ad\n",
       "                            ...               \n",
       "999976400     d89228576343394467096843057f3aa4\n",
       "999977640     bbcb30bd9bd4f9bff0a96fc44d0001f0\n",
       "999986353     6c3094666e1a315b6e179566fe3972d9\n",
       "999987933     887be409ad8b93f26084845a41d4c178\n",
       "999988282     11f7ae3385c567df409deb5f4ac9a2a5\n",
       "Name: name, Length: 378661, dtype: object"
      ]
     },
     "execution_count": 29,
     "metadata": {},
     "output_type": "execute_result"
    }
   ],
   "source": [
    "def hashit(val):\n",
    "    if isinstance(val, float): \n",
    "        return str(val)\n",
    "    return md5(val.encode('utf-8')).hexdigest()\n",
    "\n",
    "\n",
    "kickstarter_2018['name'].apply(hashit)"
   ]
  },
  {
   "cell_type": "code",
   "execution_count": null,
   "metadata": {},
   "outputs": [],
   "source": []
  },
  {
   "cell_type": "markdown",
   "metadata": {},
   "source": [
    "## Ejercicio 2:\n",
    "\n",
    "Verificar que los proyectos que tienen nombres duplicados también tienen el hash de nombre duplicado"
   ]
  },
  {
   "cell_type": "code",
   "execution_count": null,
   "metadata": {},
   "outputs": [],
   "source": []
  },
  {
   "cell_type": "code",
   "execution_count": 30,
   "metadata": {},
   "outputs": [],
   "source": [
    "hs = pd.read_csv('../AnalisisYCuracion-master/input/kickstarter-projects/ks-projects-201801.csv', \n",
    "                               parse_dates=[\"deadline\",\"launched\"],  index_col=['ID'])"
   ]
  },
  {
   "cell_type": "code",
   "execution_count": 31,
   "metadata": {},
   "outputs": [],
   "source": [
    "hs1 = hs[hs.duplicated('name')].sort_values('name')"
   ]
  },
  {
   "cell_type": "code",
   "execution_count": 32,
   "metadata": {},
   "outputs": [
    {
     "data": {
      "text/plain": [
       "ID\n",
       "816998285    0c7a251ffe4c7834cbc4b04906952ff1\n",
       "713417995    67554ab4203d95f2f2f05365f768206e\n",
       "422509694    19a82bc4c5961834282575d07d9b5f7c\n",
       "866225086    b4ca2044f21f67e13ddb7583f59189a7\n",
       "870322805    bed6c6cbc0540c8d40b7e2311806cc5c\n",
       "                           ...               \n",
       "983316237    942589616676722eaebdc3af51dbedb3\n",
       "329580179    930857c212f21166427b23d4a7fe52a3\n",
       "634871725                                 nan\n",
       "648853978                                 nan\n",
       "796533179                                 nan\n",
       "Name: name, Length: 2896, dtype: object"
      ]
     },
     "execution_count": 32,
     "metadata": {},
     "output_type": "execute_result"
    }
   ],
   "source": [
    "def hashit(val):\n",
    "    if isinstance(val, float): \n",
    "        return str(val)\n",
    "    return md5(val.encode('utf-8')).hexdigest()\n",
    "\n",
    "hs1['name'].apply(hashit)"
   ]
  },
  {
   "cell_type": "code",
   "execution_count": null,
   "metadata": {},
   "outputs": [],
   "source": []
  },
  {
   "cell_type": "code",
   "execution_count": 33,
   "metadata": {},
   "outputs": [
    {
     "data": {
      "text/html": [
       "<div>\n",
       "<style scoped>\n",
       "    .dataframe tbody tr th:only-of-type {\n",
       "        vertical-align: middle;\n",
       "    }\n",
       "\n",
       "    .dataframe tbody tr th {\n",
       "        vertical-align: top;\n",
       "    }\n",
       "\n",
       "    .dataframe thead th {\n",
       "        text-align: right;\n",
       "    }\n",
       "</style>\n",
       "<table border=\"1\" class=\"dataframe\">\n",
       "  <thead>\n",
       "    <tr style=\"text-align: right;\">\n",
       "      <th></th>\n",
       "      <th>name</th>\n",
       "      <th>cantidad</th>\n",
       "    </tr>\n",
       "  </thead>\n",
       "  <tbody>\n",
       "    <tr>\n",
       "      <th>0</th>\n",
       "      <td>\"...The Last shall be first...\" LODB Lifestyle...</td>\n",
       "      <td>1</td>\n",
       "    </tr>\n",
       "    <tr>\n",
       "      <th>1</th>\n",
       "      <td>\"A Fresh Start\"</td>\n",
       "      <td>1</td>\n",
       "    </tr>\n",
       "    <tr>\n",
       "      <th>2</th>\n",
       "      <td>\"American Sports Stories\" - An Athletic Quest</td>\n",
       "      <td>1</td>\n",
       "    </tr>\n",
       "    <tr>\n",
       "      <th>3</th>\n",
       "      <td>\"City of Mercy\" (Canceled)</td>\n",
       "      <td>1</td>\n",
       "    </tr>\n",
       "    <tr>\n",
       "      <th>4</th>\n",
       "      <td>\"Color\" Music Video</td>\n",
       "      <td>1</td>\n",
       "    </tr>\n",
       "    <tr>\n",
       "      <th>...</th>\n",
       "      <td>...</td>\n",
       "      <td>...</td>\n",
       "    </tr>\n",
       "    <tr>\n",
       "      <th>2223</th>\n",
       "      <td>test (Canceled)</td>\n",
       "      <td>2</td>\n",
       "    </tr>\n",
       "    <tr>\n",
       "      <th>2224</th>\n",
       "      <td>weSTAND: A Stand With a Mission</td>\n",
       "      <td>1</td>\n",
       "    </tr>\n",
       "    <tr>\n",
       "      <th>2225</th>\n",
       "      <td>x</td>\n",
       "      <td>1</td>\n",
       "    </tr>\n",
       "    <tr>\n",
       "      <th>2226</th>\n",
       "      <td>x (Canceled)</td>\n",
       "      <td>4</td>\n",
       "    </tr>\n",
       "    <tr>\n",
       "      <th>2227</th>\n",
       "      <td>xxx (Canceled)</td>\n",
       "      <td>1</td>\n",
       "    </tr>\n",
       "  </tbody>\n",
       "</table>\n",
       "<p>2228 rows × 2 columns</p>\n",
       "</div>"
      ],
      "text/plain": [
       "                                                   name  cantidad\n",
       "0     \"...The Last shall be first...\" LODB Lifestyle...         1\n",
       "1                                       \"A Fresh Start\"         1\n",
       "2         \"American Sports Stories\" - An Athletic Quest         1\n",
       "3                            \"City of Mercy\" (Canceled)         1\n",
       "4                                   \"Color\" Music Video         1\n",
       "...                                                 ...       ...\n",
       "2223                                    test (Canceled)         2\n",
       "2224                    weSTAND: A Stand With a Mission         1\n",
       "2225                                                  x         1\n",
       "2226                                       x (Canceled)         4\n",
       "2227                                     xxx (Canceled)         1\n",
       "\n",
       "[2228 rows x 2 columns]"
      ]
     },
     "execution_count": 33,
     "metadata": {},
     "output_type": "execute_result"
    }
   ],
   "source": [
    "hs2= pd.DataFrame({'cantidad' : hs1.groupby(['name']).size()}).reset_index()\n",
    "hs2[:]"
   ]
  },
  {
   "cell_type": "code",
   "execution_count": null,
   "metadata": {},
   "outputs": [],
   "source": []
  },
  {
   "cell_type": "code",
   "execution_count": null,
   "metadata": {},
   "outputs": [],
   "source": []
  },
  {
   "cell_type": "markdown",
   "metadata": {},
   "source": [
    "### 1.4 Nunca modificar los datos crudos u originales"
   ]
  },
  {
   "cell_type": "code",
   "execution_count": 34,
   "metadata": {},
   "outputs": [],
   "source": [
    "kickstarter_2018.to_csv(\"../AnalisisYCuracion-master/output/ks-projects-201801-for-pandas.csv\")"
   ]
  },
  {
   "cell_type": "markdown",
   "metadata": {},
   "source": [
    "## 2. Pasos necesarios."
   ]
  },
  {
   "cell_type": "code",
   "execution_count": 35,
   "metadata": {},
   "outputs": [],
   "source": [
    " kickstarter_2018 = pd.read_csv(\"../AnalisisYCuracion-master/output/ks-projects-201801-for-pandas.csv\",\n",
    "                        index_col='ID',\n",
    "                        parse_dates=['deadline','launched'])"
   ]
  },
  {
   "cell_type": "code",
   "execution_count": 36,
   "metadata": {},
   "outputs": [],
   "source": [
    "#kickstarter_2018.describe(include='all')"
   ]
  },
  {
   "cell_type": "markdown",
   "metadata": {},
   "source": [
    "### 2.1 Etiquetas de variables/columnas: no usar caracteres especiales"
   ]
  },
  {
   "cell_type": "code",
   "execution_count": 37,
   "metadata": {},
   "outputs": [],
   "source": [
    "# helpful character encoding module\n",
    "import chardet"
   ]
  },
  {
   "cell_type": "markdown",
   "metadata": {
    "colab_type": "text",
    "id": "lfyjvGsmIXTZ"
   },
   "source": [
    "¿Por qué? Por que aun hay limitaciones para trabajar con estos caracteres.\n",
    "\n",
    "¿Cúales son los caracteres \"normales\"? "
   ]
  },
  {
   "cell_type": "code",
   "execution_count": 38,
   "metadata": {},
   "outputs": [
    {
     "data": {
      "text/plain": [
       "'abcdefghijklmnopqrstuvwxyzABCDEFGHIJKLMNOPQRSTUVWXYZ0123456789'"
      ]
     },
     "execution_count": 38,
     "metadata": {},
     "output_type": "execute_result"
    }
   ],
   "source": [
    "import string\n",
    "\n",
    "string.ascii_letters + string.digits"
   ]
  },
  {
   "cell_type": "code",
   "execution_count": null,
   "metadata": {},
   "outputs": [],
   "source": []
  },
  {
   "cell_type": "markdown",
   "metadata": {
    "colab_type": "text",
    "id": "tWbcEuejIXTb"
   },
   "source": [
    "¿Qué es ASCII? Es una de las primeras codificaciones (o encoding) disponibles. Ver https://en.wikipedia.org/wiki/ASCII\n",
    "\n",
    "Un encoding es un mapa de caracteres a una representación en bits (por ejemplo 1000001). ASCII es uno de los primeros estandares para interoperatividad entre computadoras (antes cada fabricante de computadora usa su propia codificación), contempla sólo los caracteres ingleses y usa 7 bits, por ejemplo *1000001* codifica el caracter *A*\n",
    "\n",
    "Cómo sólo representaban los caracteres ingleses, empiezan a aparecer variantes para distintos idiomas, Microsoft hizo los propios para internacionalizar Windows, hubo otro estandar ISO 8859, hasta que llegó el éstandar Unicode que hizo múltiples encodings pero cada uno contempla múltiples idiomas e incluso es extensible a futuro. UTF-8 es de esos encodings el más utilizado. Ver https://en.wikipedia.org/wiki/Unicode\n",
    "\n",
    "En particular, Python 3 utiliza UTF-8 por defecto (lo que no sucedía en Python 2).\n",
    "\n",
    "Veamos un ejemplo práctico"
   ]
  },
  {
   "cell_type": "code",
   "execution_count": 39,
   "metadata": {},
   "outputs": [
    {
     "data": {
      "text/plain": [
       "str"
      ]
     },
     "execution_count": 39,
     "metadata": {},
     "output_type": "execute_result"
    }
   ],
   "source": [
    "# start with a string\n",
    "before = \"This is the euro symbol: €\"\n",
    "\n",
    "# check to see what datatype it is\n",
    "type(before)"
   ]
  },
  {
   "cell_type": "code",
   "execution_count": 40,
   "metadata": {},
   "outputs": [
    {
     "data": {
      "text/plain": [
       "bytes"
      ]
     },
     "execution_count": 40,
     "metadata": {},
     "output_type": "execute_result"
    }
   ],
   "source": [
    "# encode it to a different encoding, replacing characters that raise errors\n",
    "after = before.encode(\"utf-8\", errors = \"replace\")\n",
    "\n",
    "# check the type\n",
    "type(after)"
   ]
  },
  {
   "cell_type": "code",
   "execution_count": 41,
   "metadata": {},
   "outputs": [
    {
     "data": {
      "text/plain": [
       "b'This is the euro symbol: \\xe2\\x82\\xac'"
      ]
     },
     "execution_count": 41,
     "metadata": {},
     "output_type": "execute_result"
    }
   ],
   "source": [
    "# take a look at what the bytes look like\n",
    "after"
   ]
  },
  {
   "cell_type": "code",
   "execution_count": 42,
   "metadata": {},
   "outputs": [
    {
     "name": "stdout",
     "output_type": "stream",
     "text": [
      "This is the euro symbol: €\n"
     ]
    }
   ],
   "source": [
    "# convert it back to utf-8\n",
    "print(after.decode(\"utf-8\"))"
   ]
  },
  {
   "cell_type": "code",
   "execution_count": 43,
   "metadata": {},
   "outputs": [
    {
     "ename": "UnicodeDecodeError",
     "evalue": "'ascii' codec can't decode byte 0xe2 in position 25: ordinal not in range(128)",
     "output_type": "error",
     "traceback": [
      "\u001b[0;31m---------------------------------------------------------------------------\u001b[0m",
      "\u001b[0;31mUnicodeDecodeError\u001b[0m                        Traceback (most recent call last)",
      "\u001b[0;32m<ipython-input-43-50fd8662e3ae>\u001b[0m in \u001b[0;36m<module>\u001b[0;34m\u001b[0m\n\u001b[1;32m      1\u001b[0m \u001b[0;31m# try to decode our bytes with the ascii encoding\u001b[0m\u001b[0;34m\u001b[0m\u001b[0;34m\u001b[0m\u001b[0;34m\u001b[0m\u001b[0m\n\u001b[0;32m----> 2\u001b[0;31m \u001b[0mprint\u001b[0m\u001b[0;34m(\u001b[0m\u001b[0mafter\u001b[0m\u001b[0;34m.\u001b[0m\u001b[0mdecode\u001b[0m\u001b[0;34m(\u001b[0m\u001b[0;34m\"ascii\"\u001b[0m\u001b[0;34m)\u001b[0m\u001b[0;34m)\u001b[0m\u001b[0;34m\u001b[0m\u001b[0;34m\u001b[0m\u001b[0m\n\u001b[0m",
      "\u001b[0;31mUnicodeDecodeError\u001b[0m: 'ascii' codec can't decode byte 0xe2 in position 25: ordinal not in range(128)"
     ]
    }
   ],
   "source": [
    "# try to decode our bytes with the ascii encoding\n",
    "print(after.decode(\"ascii\"))"
   ]
  },
  {
   "cell_type": "code",
   "execution_count": null,
   "metadata": {},
   "outputs": [],
   "source": [
    "# start with a string\n",
    "before = \"This is the euro symbol: €\"\n",
    "\n",
    "# encode it to a different encoding, replacing characters that raise errors\n",
    "after = before.encode(\"ascii\", errors = \"replace\")\n",
    "\n",
    "# convert it back to utf-8\n",
    "print(after.decode(\"ascii\"))\n",
    "\n",
    "# We've lost the original underlying byte string! It's been \n",
    "# replaced with the underlying byte string for the unknown character :("
   ]
  },
  {
   "cell_type": "markdown",
   "metadata": {},
   "source": [
    "Este error ya lo vimos..."
   ]
  },
  {
   "cell_type": "code",
   "execution_count": null,
   "metadata": {},
   "outputs": [],
   "source": [
    "kickstarter_2016 = pd.read_csv(\"../AnalisisYCuracion-master/input/kickstarter-projects/ks-projects-201612.csv\")"
   ]
  },
  {
   "cell_type": "markdown",
   "metadata": {
    "colab_type": "text",
    "id": "PP9Xzf3qIXTt"
   },
   "source": [
    "El error `UnicodeDecodeError` nos indica que el archivo no estaría en Unicode. Si no está en algún metadato o no fue indicado es dificil detectar el encoding, por suerte hay un paquete para esto en Python, que aplica unas heurísticas para detectar encoding."
   ]
  },
  {
   "cell_type": "code",
   "execution_count": null,
   "metadata": {},
   "outputs": [],
   "source": []
  },
  {
   "cell_type": "raw",
   "metadata": {
    "colab": {
     "base_uri": "https://localhost:8080/",
     "height": 306
    },
    "colab_type": "code",
    "id": "KVSigmfDIXTv",
    "outputId": "21ac2cca-8522-4b51-f71e-cbb4bd1d9ec0"
   },
   "source": [
    "# In Colab we need to download data locally\n",
    "if in_colab:\n",
    "  !wget -c $BASE_DIR/input/kickstarter-projects/ks-projects-201612.csv\n",
    "  DOWN_DIR = \"./\"\n",
    "else:\n",
    "  DOWN_DIR = BASE_DIR + \"/input/kickstarter-projects/\"\n",
    "  \n",
    "# look at the first ten thousand bytes to guess the character encoding\n",
    "with open(DOWN_DIR + \"/ks-projects-201612.csv\", 'rb') as rawdata:\n",
    "    result = chardet.detect(rawdata.read(10000))\n",
    "\n",
    "# check what the character encoding might be\n",
    "result\n"
   ]
  },
  {
   "cell_type": "markdown",
   "metadata": {
    "colab_type": "text",
    "id": "BRvRjn15IXTy"
   },
   "source": [
    "Entonces le podemos indicar el encoding al leer el archivo"
   ]
  },
  {
   "cell_type": "code",
   "execution_count": null,
   "metadata": {
    "colab": {
     "base_uri": "https://localhost:8080/",
     "height": 340
    },
    "colab_type": "code",
    "id": "HpHQldSDIXTz",
    "outputId": "2bcd5bf7-63cd-4a0c-a034-570a4eca9af2"
   },
   "outputs": [],
   "source": [
    "# read in the file with the encoding detected by chardet\n",
    "kickstarter_2016 = pd.read_csv(\"../AnalisisYCuracion-master/input/kickstarter-projects/ks-projects-201612.csv\", encoding='Windows-1252')\n",
    "\n",
    "# look at the first few lines\n",
    "kickstarter_2016.head()"
   ]
  },
  {
   "cell_type": "code",
   "execution_count": null,
   "metadata": {},
   "outputs": [],
   "source": []
  },
  {
   "cell_type": "markdown",
   "metadata": {
    "colab_type": "text",
    "id": "EaBiRboHIXT6"
   },
   "source": [
    "Hay otro problema con los caracteres que es más sutíl: **[Mojibake](https://en.wikipedia.org/wiki/Mojibake)**\n",
    "\n",
    "Sucede al leer UTF-8 como ASCII extendido (ie. `Windows-*`, `iso-8859-*` entre otros)\n",
    "\n",
    "Ejemplo de mojibake:"
   ]
  },
  {
   "cell_type": "code",
   "execution_count": null,
   "metadata": {},
   "outputs": [],
   "source": [
    "\"cigüeña\".encode('utf-8').decode('iso-8859-1')"
   ]
  },
  {
   "cell_type": "markdown",
   "metadata": {
    "colab_type": "text",
    "id": "GYrNcEWGIXT8"
   },
   "source": [
    "Para esto vamos a usar un módulo específico [ftfy](https://ftfy.readthedocs.io/en/latest/). \n",
    "\n",
    "Que nos permite ordenar cadenas por rareza"
   ]
  },
  {
   "cell_type": "code",
   "execution_count": 46,
   "metadata": {},
   "outputs": [],
   "source": [
    "import ftfy.badness as bad"
   ]
  },
  {
   "cell_type": "code",
   "execution_count": 47,
   "metadata": {},
   "outputs": [
    {
     "data": {
      "text/html": [
       "<div>\n",
       "<style scoped>\n",
       "    .dataframe tbody tr th:only-of-type {\n",
       "        vertical-align: middle;\n",
       "    }\n",
       "\n",
       "    .dataframe tbody tr th {\n",
       "        vertical-align: top;\n",
       "    }\n",
       "\n",
       "    .dataframe thead th {\n",
       "        text-align: right;\n",
       "    }\n",
       "</style>\n",
       "<table border=\"1\" class=\"dataframe\">\n",
       "  <thead>\n",
       "    <tr style=\"text-align: right;\">\n",
       "      <th></th>\n",
       "      <th>name</th>\n",
       "      <th>category</th>\n",
       "      <th>main_category</th>\n",
       "      <th>currency</th>\n",
       "      <th>deadline</th>\n",
       "      <th>goal</th>\n",
       "      <th>launched</th>\n",
       "      <th>pledged</th>\n",
       "      <th>state</th>\n",
       "      <th>backers</th>\n",
       "      <th>country</th>\n",
       "      <th>usd pledged</th>\n",
       "      <th>usd_pledged_real</th>\n",
       "      <th>usd_goal_real</th>\n",
       "      <th>name_weirdness</th>\n",
       "    </tr>\n",
       "    <tr>\n",
       "      <th>ID</th>\n",
       "      <th></th>\n",
       "      <th></th>\n",
       "      <th></th>\n",
       "      <th></th>\n",
       "      <th></th>\n",
       "      <th></th>\n",
       "      <th></th>\n",
       "      <th></th>\n",
       "      <th></th>\n",
       "      <th></th>\n",
       "      <th></th>\n",
       "      <th></th>\n",
       "      <th></th>\n",
       "      <th></th>\n",
       "      <th></th>\n",
       "    </tr>\n",
       "  </thead>\n",
       "  <tbody>\n",
       "    <tr>\n",
       "      <th>1221990593</th>\n",
       "      <td>Support PMCD´s ¨From a Different Clay¨</td>\n",
       "      <td>Dance</td>\n",
       "      <td>Dance</td>\n",
       "      <td>USD</td>\n",
       "      <td>2011-06-08</td>\n",
       "      <td>1500.00</td>\n",
       "      <td>2011-04-28 05:15:32</td>\n",
       "      <td>1940.00</td>\n",
       "      <td>successful</td>\n",
       "      <td>27</td>\n",
       "      <td>US</td>\n",
       "      <td>1940.00</td>\n",
       "      <td>1940.00</td>\n",
       "      <td>1500.00</td>\n",
       "      <td>3</td>\n",
       "    </tr>\n",
       "    <tr>\n",
       "      <th>1234089244</th>\n",
       "      <td>Cracking (Mastering) the Metaphor \u000b",
       "(Political)...</td>\n",
       "      <td>Nonfiction</td>\n",
       "      <td>Publishing</td>\n",
       "      <td>USD</td>\n",
       "      <td>2013-10-27</td>\n",
       "      <td>30000.00</td>\n",
       "      <td>2013-09-27 23:33:29</td>\n",
       "      <td>0.00</td>\n",
       "      <td>failed</td>\n",
       "      <td>0</td>\n",
       "      <td>US</td>\n",
       "      <td>0.00</td>\n",
       "      <td>0.00</td>\n",
       "      <td>30000.00</td>\n",
       "      <td>2</td>\n",
       "    </tr>\n",
       "    <tr>\n",
       "      <th>124795481</th>\n",
       "      <td>µGALE (Canceled)</td>\n",
       "      <td>Wearables</td>\n",
       "      <td>Technology</td>\n",
       "      <td>EUR</td>\n",
       "      <td>2015-04-17</td>\n",
       "      <td>18000.00</td>\n",
       "      <td>2015-02-16 01:55:34</td>\n",
       "      <td>10.00</td>\n",
       "      <td>canceled</td>\n",
       "      <td>2</td>\n",
       "      <td>NL</td>\n",
       "      <td>11.39</td>\n",
       "      <td>10.81</td>\n",
       "      <td>19465.14</td>\n",
       "      <td>2</td>\n",
       "    </tr>\n",
       "    <tr>\n",
       "      <th>1468489999</th>\n",
       "      <td>µCurrent GOLD - Precision Multimeter Current A...</td>\n",
       "      <td>Hardware</td>\n",
       "      <td>Technology</td>\n",
       "      <td>AUD</td>\n",
       "      <td>2013-12-31</td>\n",
       "      <td>9900.00</td>\n",
       "      <td>2013-12-17 10:28:09</td>\n",
       "      <td>116575.17</td>\n",
       "      <td>successful</td>\n",
       "      <td>1268</td>\n",
       "      <td>AU</td>\n",
       "      <td>104343.69</td>\n",
       "      <td>104871.51</td>\n",
       "      <td>8906.08</td>\n",
       "      <td>2</td>\n",
       "    </tr>\n",
       "    <tr>\n",
       "      <th>1610503461</th>\n",
       "      <td>µPeek - The Professional Microscope that Fits ...</td>\n",
       "      <td>Technology</td>\n",
       "      <td>Technology</td>\n",
       "      <td>CHF</td>\n",
       "      <td>2016-01-09</td>\n",
       "      <td>125000.00</td>\n",
       "      <td>2015-12-10 10:08:18</td>\n",
       "      <td>247688.14</td>\n",
       "      <td>successful</td>\n",
       "      <td>1435</td>\n",
       "      <td>CH</td>\n",
       "      <td>249249.19</td>\n",
       "      <td>246848.85</td>\n",
       "      <td>124576.44</td>\n",
       "      <td>2</td>\n",
       "    </tr>\n",
       "    <tr>\n",
       "      <th>16174550</th>\n",
       "      <td>PARALELO 19 Nº</td>\n",
       "      <td>Photography</td>\n",
       "      <td>Photography</td>\n",
       "      <td>MXN</td>\n",
       "      <td>2017-04-15</td>\n",
       "      <td>15000.00</td>\n",
       "      <td>2017-03-01 00:00:24</td>\n",
       "      <td>3340.00</td>\n",
       "      <td>failed</td>\n",
       "      <td>8</td>\n",
       "      <td>MX</td>\n",
       "      <td>0.00</td>\n",
       "      <td>177.36</td>\n",
       "      <td>796.52</td>\n",
       "      <td>2</td>\n",
       "    </tr>\n",
       "    <tr>\n",
       "      <th>1719215256</th>\n",
       "      <td>Kickstarter Gold: Manual Coffeemaker Nº3</td>\n",
       "      <td>Product Design</td>\n",
       "      <td>Design</td>\n",
       "      <td>USD</td>\n",
       "      <td>2017-07-22</td>\n",
       "      <td>60000.00</td>\n",
       "      <td>2017-06-20 15:29:56</td>\n",
       "      <td>68587.33</td>\n",
       "      <td>successful</td>\n",
       "      <td>618</td>\n",
       "      <td>US</td>\n",
       "      <td>21002.00</td>\n",
       "      <td>68587.33</td>\n",
       "      <td>60000.00</td>\n",
       "      <td>2</td>\n",
       "    </tr>\n",
       "    <tr>\n",
       "      <th>1837094178</th>\n",
       "      <td>¨Midgard's taigh-seinnse/ Eröffnung Mittelalte...</td>\n",
       "      <td>Restaurants</td>\n",
       "      <td>Food</td>\n",
       "      <td>CHF</td>\n",
       "      <td>2016-09-29</td>\n",
       "      <td>50000.00</td>\n",
       "      <td>2016-08-30 09:36:42</td>\n",
       "      <td>150.00</td>\n",
       "      <td>failed</td>\n",
       "      <td>1</td>\n",
       "      <td>CH</td>\n",
       "      <td>0.00</td>\n",
       "      <td>153.93</td>\n",
       "      <td>51310.47</td>\n",
       "      <td>2</td>\n",
       "    </tr>\n",
       "    <tr>\n",
       "      <th>2056123754</th>\n",
       "      <td>ZEIº - the most simple time tracking solution</td>\n",
       "      <td>Technology</td>\n",
       "      <td>Technology</td>\n",
       "      <td>EUR</td>\n",
       "      <td>2016-10-26</td>\n",
       "      <td>75000.00</td>\n",
       "      <td>2016-09-20 15:54:49</td>\n",
       "      <td>313637.00</td>\n",
       "      <td>successful</td>\n",
       "      <td>3140</td>\n",
       "      <td>AT</td>\n",
       "      <td>9451.58</td>\n",
       "      <td>342555.54</td>\n",
       "      <td>81915.29</td>\n",
       "      <td>2</td>\n",
       "    </tr>\n",
       "    <tr>\n",
       "      <th>2068157547</th>\n",
       "      <td>Ballet Folklorico Infantil de la Universidad ...</td>\n",
       "      <td>Art</td>\n",
       "      <td>Art</td>\n",
       "      <td>MXN</td>\n",
       "      <td>2017-04-03</td>\n",
       "      <td>40000.00</td>\n",
       "      <td>2017-03-22 16:33:33</td>\n",
       "      <td>42480.00</td>\n",
       "      <td>successful</td>\n",
       "      <td>38</td>\n",
       "      <td>MX</td>\n",
       "      <td>532.09</td>\n",
       "      <td>2263.79</td>\n",
       "      <td>2131.63</td>\n",
       "      <td>2</td>\n",
       "    </tr>\n",
       "    <tr>\n",
       "      <th>2096648634</th>\n",
       "      <td>Funky City : a funky rpg</td>\n",
       "      <td>Video Games</td>\n",
       "      <td>Games</td>\n",
       "      <td>USD</td>\n",
       "      <td>2017-04-08</td>\n",
       "      <td>5000.00</td>\n",
       "      <td>2017-03-09 04:05:15</td>\n",
       "      <td>0.00</td>\n",
       "      <td>failed</td>\n",
       "      <td>0</td>\n",
       "      <td>US</td>\n",
       "      <td>0.00</td>\n",
       "      <td>0.00</td>\n",
       "      <td>5000.00</td>\n",
       "      <td>2</td>\n",
       "    </tr>\n",
       "    <tr>\n",
       "      <th>2102265118</th>\n",
       "      <td>Music Album ¨Dreams¨ Uplifting Tunes with Rap</td>\n",
       "      <td>Hip-Hop</td>\n",
       "      <td>Music</td>\n",
       "      <td>EUR</td>\n",
       "      <td>2017-12-24</td>\n",
       "      <td>28000.00</td>\n",
       "      <td>2017-11-24 12:49:09</td>\n",
       "      <td>0.00</td>\n",
       "      <td>failed</td>\n",
       "      <td>0</td>\n",
       "      <td>NL</td>\n",
       "      <td>0.00</td>\n",
       "      <td>0.00</td>\n",
       "      <td>33580.39</td>\n",
       "      <td>4</td>\n",
       "    </tr>\n",
       "    <tr>\n",
       "      <th>237780030</th>\n",
       "      <td>Solderdoodle Pro: Over 700ºF USB Rechargeable ...</td>\n",
       "      <td>DIY Electronics</td>\n",
       "      <td>Technology</td>\n",
       "      <td>USD</td>\n",
       "      <td>2014-08-19</td>\n",
       "      <td>37800.00</td>\n",
       "      <td>2014-07-29 16:52:31</td>\n",
       "      <td>15636.00</td>\n",
       "      <td>failed</td>\n",
       "      <td>318</td>\n",
       "      <td>US</td>\n",
       "      <td>15636.00</td>\n",
       "      <td>15636.00</td>\n",
       "      <td>37800.00</td>\n",
       "      <td>2</td>\n",
       "    </tr>\n",
       "    <tr>\n",
       "      <th>383244441</th>\n",
       "      <td>Virtual Roller Coaster in 4th Dimension</td>\n",
       "      <td>Makerspaces</td>\n",
       "      <td>Technology</td>\n",
       "      <td>MXN</td>\n",
       "      <td>2017-02-25</td>\n",
       "      <td>459900.00</td>\n",
       "      <td>2017-02-01 00:07:38</td>\n",
       "      <td>0.00</td>\n",
       "      <td>failed</td>\n",
       "      <td>0</td>\n",
       "      <td>MX</td>\n",
       "      <td>0.00</td>\n",
       "      <td>0.00</td>\n",
       "      <td>23399.82</td>\n",
       "      <td>2</td>\n",
       "    </tr>\n",
       "    <tr>\n",
       "      <th>458626388</th>\n",
       "      <td>Solderdoodle Pro: 700ºF USB Rechargeable Solde...</td>\n",
       "      <td>DIY Electronics</td>\n",
       "      <td>Technology</td>\n",
       "      <td>USD</td>\n",
       "      <td>2014-09-24</td>\n",
       "      <td>11400.00</td>\n",
       "      <td>2014-08-19 16:55:05</td>\n",
       "      <td>22565.00</td>\n",
       "      <td>successful</td>\n",
       "      <td>409</td>\n",
       "      <td>US</td>\n",
       "      <td>22565.00</td>\n",
       "      <td>22565.00</td>\n",
       "      <td>11400.00</td>\n",
       "      <td>2</td>\n",
       "    </tr>\n",
       "    <tr>\n",
       "      <th>466898065</th>\n",
       "      <td>Manual Tea Maker Nº1</td>\n",
       "      <td>Product Design</td>\n",
       "      <td>Design</td>\n",
       "      <td>USD</td>\n",
       "      <td>2016-08-20</td>\n",
       "      <td>40000.00</td>\n",
       "      <td>2016-07-18 04:25:44</td>\n",
       "      <td>67767.00</td>\n",
       "      <td>successful</td>\n",
       "      <td>1111</td>\n",
       "      <td>US</td>\n",
       "      <td>5534.00</td>\n",
       "      <td>67767.00</td>\n",
       "      <td>40000.00</td>\n",
       "      <td>2</td>\n",
       "    </tr>\n",
       "    <tr>\n",
       "      <th>516833776</th>\n",
       "      <td>µTracker - extremly Power Saving GPS + GSM Board</td>\n",
       "      <td>Hardware</td>\n",
       "      <td>Technology</td>\n",
       "      <td>EUR</td>\n",
       "      <td>2016-12-09</td>\n",
       "      <td>89000.00</td>\n",
       "      <td>2016-11-18 09:13:12</td>\n",
       "      <td>2032.00</td>\n",
       "      <td>failed</td>\n",
       "      <td>22</td>\n",
       "      <td>AT</td>\n",
       "      <td>546.70</td>\n",
       "      <td>2145.59</td>\n",
       "      <td>93975.04</td>\n",
       "      <td>2</td>\n",
       "    </tr>\n",
       "    <tr>\n",
       "      <th>549309727</th>\n",
       "      <td>Higher Grounds Coffee Company Mobile Coffee Tr...</td>\n",
       "      <td>Food Trucks</td>\n",
       "      <td>Food</td>\n",
       "      <td>USD</td>\n",
       "      <td>2018-01-12</td>\n",
       "      <td>10000.00</td>\n",
       "      <td>2017-12-07 16:07:54</td>\n",
       "      <td>4882.00</td>\n",
       "      <td>live</td>\n",
       "      <td>36</td>\n",
       "      <td>US</td>\n",
       "      <td>542.00</td>\n",
       "      <td>4882.00</td>\n",
       "      <td>10000.00</td>\n",
       "      <td>2</td>\n",
       "    </tr>\n",
       "    <tr>\n",
       "      <th>551994337</th>\n",
       "      <td>?? cybertwee ?? ¨*:·. bake sale on the deep we...</td>\n",
       "      <td>Digital Art</td>\n",
       "      <td>Art</td>\n",
       "      <td>USD</td>\n",
       "      <td>2015-09-18</td>\n",
       "      <td>100.00</td>\n",
       "      <td>2015-09-14 04:14:05</td>\n",
       "      <td>347.00</td>\n",
       "      <td>successful</td>\n",
       "      <td>66</td>\n",
       "      <td>US</td>\n",
       "      <td>347.00</td>\n",
       "      <td>347.00</td>\n",
       "      <td>100.00</td>\n",
       "      <td>2</td>\n",
       "    </tr>\n",
       "    <tr>\n",
       "      <th>558638957</th>\n",
       "      <td>Mµ Magazine</td>\n",
       "      <td>Zines</td>\n",
       "      <td>Publishing</td>\n",
       "      <td>CAD</td>\n",
       "      <td>2016-12-02</td>\n",
       "      <td>5000.00</td>\n",
       "      <td>2016-11-01 23:37:22</td>\n",
       "      <td>0.00</td>\n",
       "      <td>failed</td>\n",
       "      <td>0</td>\n",
       "      <td>CA</td>\n",
       "      <td>0.00</td>\n",
       "      <td>0.00</td>\n",
       "      <td>3758.55</td>\n",
       "      <td>2</td>\n",
       "    </tr>\n",
       "    <tr>\n",
       "      <th>718763713</th>\n",
       "      <td>Not Twins - New EP! \"The View from Down Here\"</td>\n",
       "      <td>Indie Rock</td>\n",
       "      <td>Music</td>\n",
       "      <td>USD</td>\n",
       "      <td>2017-03-27</td>\n",
       "      <td>3500.00</td>\n",
       "      <td>2017-02-26 18:34:59</td>\n",
       "      <td>4726.61</td>\n",
       "      <td>successful</td>\n",
       "      <td>171</td>\n",
       "      <td>US</td>\n",
       "      <td>1758.41</td>\n",
       "      <td>4726.61</td>\n",
       "      <td>3500.00</td>\n",
       "      <td>2</td>\n",
       "    </tr>\n",
       "    <tr>\n",
       "      <th>805839986</th>\n",
       "      <td>µRuler - Measure size in the micro-world under...</td>\n",
       "      <td>Technology</td>\n",
       "      <td>Technology</td>\n",
       "      <td>CAD</td>\n",
       "      <td>2017-04-07</td>\n",
       "      <td>2000.00</td>\n",
       "      <td>2017-03-08 03:42:19</td>\n",
       "      <td>5523.00</td>\n",
       "      <td>successful</td>\n",
       "      <td>213</td>\n",
       "      <td>CA</td>\n",
       "      <td>623.34</td>\n",
       "      <td>4118.26</td>\n",
       "      <td>1491.31</td>\n",
       "      <td>2</td>\n",
       "    </tr>\n",
       "    <tr>\n",
       "      <th>900880068</th>\n",
       "      <td>Newton ¨El Veterano¨</td>\n",
       "      <td>Music</td>\n",
       "      <td>Music</td>\n",
       "      <td>EUR</td>\n",
       "      <td>2016-12-10</td>\n",
       "      <td>2747.00</td>\n",
       "      <td>2016-10-31 21:24:36</td>\n",
       "      <td>838.00</td>\n",
       "      <td>failed</td>\n",
       "      <td>36</td>\n",
       "      <td>ES</td>\n",
       "      <td>0.00</td>\n",
       "      <td>874.78</td>\n",
       "      <td>2867.58</td>\n",
       "      <td>4</td>\n",
       "    </tr>\n",
       "    <tr>\n",
       "      <th>960506632</th>\n",
       "      <td>Degreesº to Extinction</td>\n",
       "      <td>Documentary</td>\n",
       "      <td>Film &amp; Video</td>\n",
       "      <td>USD</td>\n",
       "      <td>2016-12-21</td>\n",
       "      <td>30000.00</td>\n",
       "      <td>2016-12-06 00:26:54</td>\n",
       "      <td>30.00</td>\n",
       "      <td>failed</td>\n",
       "      <td>2</td>\n",
       "      <td>US</td>\n",
       "      <td>5.00</td>\n",
       "      <td>30.00</td>\n",
       "      <td>30000.00</td>\n",
       "      <td>2</td>\n",
       "    </tr>\n",
       "    <tr>\n",
       "      <th>963442008</th>\n",
       "      <td>theNewerYork Lit Mag: We M?§§ w/ Yoµr H£åd</td>\n",
       "      <td>Periodicals</td>\n",
       "      <td>Publishing</td>\n",
       "      <td>USD</td>\n",
       "      <td>2012-03-25</td>\n",
       "      <td>7000.00</td>\n",
       "      <td>2012-01-30 19:01:35</td>\n",
       "      <td>9892.49</td>\n",
       "      <td>successful</td>\n",
       "      <td>228</td>\n",
       "      <td>US</td>\n",
       "      <td>9892.49</td>\n",
       "      <td>9892.49</td>\n",
       "      <td>7000.00</td>\n",
       "      <td>2</td>\n",
       "    </tr>\n",
       "    <tr>\n",
       "      <th>98169605</th>\n",
       "      <td>µTøøl - The Ultimate pocket tool! Credit card ...</td>\n",
       "      <td>Technology</td>\n",
       "      <td>Technology</td>\n",
       "      <td>NZD</td>\n",
       "      <td>2016-01-01</td>\n",
       "      <td>20000.00</td>\n",
       "      <td>2015-12-02 06:04:57</td>\n",
       "      <td>2230.00</td>\n",
       "      <td>failed</td>\n",
       "      <td>83</td>\n",
       "      <td>NZ</td>\n",
       "      <td>1477.51</td>\n",
       "      <td>1472.34</td>\n",
       "      <td>13204.81</td>\n",
       "      <td>2</td>\n",
       "    </tr>\n",
       "  </tbody>\n",
       "</table>\n",
       "</div>"
      ],
      "text/plain": [
       "                                                         name  \\\n",
       "ID                                                              \n",
       "1221990593             Support PMCD´s ¨From a Different Clay¨   \n",
       "1234089244  Cracking (Mastering) the Metaphor \n",
       "(Political)...   \n",
       "124795481                                    µGALE (Canceled)   \n",
       "1468489999  µCurrent GOLD - Precision Multimeter Current A...   \n",
       "1610503461  µPeek - The Professional Microscope that Fits ...   \n",
       "16174550                                       PARALELO 19 Nº   \n",
       "1719215256           Kickstarter Gold: Manual Coffeemaker Nº3   \n",
       "1837094178  ¨Midgard's taigh-seinnse/ Eröffnung Mittelalte...   \n",
       "2056123754      ZEIº - the most simple time tracking solution   \n",
       "2068157547  Ballet Folklorico Infantil de la Universidad ...   \n",
       "2096648634                          Funky City : a funky rpg   \n",
       "2102265118      Music Album ¨Dreams¨ Uplifting Tunes with Rap   \n",
       "237780030   Solderdoodle Pro: Over 700ºF USB Rechargeable ...   \n",
       "383244441            Virtual Roller Coaster in 4th Dimension   \n",
       "458626388   Solderdoodle Pro: 700ºF USB Rechargeable Solde...   \n",
       "466898065                                Manual Tea Maker Nº1   \n",
       "516833776    µTracker - extremly Power Saving GPS + GSM Board   \n",
       "549309727   Higher Grounds Coffee Company Mobile Coffee Tr...   \n",
       "551994337   ?? cybertwee ?? ¨*:·. bake sale on the deep we...   \n",
       "558638957                                         Mµ Magazine   \n",
       "718763713      Not Twins - New EP! \"The View from Down Here\"   \n",
       "805839986   µRuler - Measure size in the micro-world under...   \n",
       "900880068                                Newton ¨El Veterano¨   \n",
       "960506632                              Degreesº to Extinction   \n",
       "963442008          theNewerYork Lit Mag: We M?§§ w/ Yoµr H£åd   \n",
       "98169605    µTøøl - The Ultimate pocket tool! Credit card ...   \n",
       "\n",
       "                   category main_category currency   deadline      goal  \\\n",
       "ID                                                                        \n",
       "1221990593            Dance         Dance      USD 2011-06-08   1500.00   \n",
       "1234089244       Nonfiction    Publishing      USD 2013-10-27  30000.00   \n",
       "124795481         Wearables    Technology      EUR 2015-04-17  18000.00   \n",
       "1468489999         Hardware    Technology      AUD 2013-12-31   9900.00   \n",
       "1610503461       Technology    Technology      CHF 2016-01-09 125000.00   \n",
       "16174550        Photography   Photography      MXN 2017-04-15  15000.00   \n",
       "1719215256   Product Design        Design      USD 2017-07-22  60000.00   \n",
       "1837094178      Restaurants          Food      CHF 2016-09-29  50000.00   \n",
       "2056123754       Technology    Technology      EUR 2016-10-26  75000.00   \n",
       "2068157547              Art           Art      MXN 2017-04-03  40000.00   \n",
       "2096648634      Video Games         Games      USD 2017-04-08   5000.00   \n",
       "2102265118          Hip-Hop         Music      EUR 2017-12-24  28000.00   \n",
       "237780030   DIY Electronics    Technology      USD 2014-08-19  37800.00   \n",
       "383244441       Makerspaces    Technology      MXN 2017-02-25 459900.00   \n",
       "458626388   DIY Electronics    Technology      USD 2014-09-24  11400.00   \n",
       "466898065    Product Design        Design      USD 2016-08-20  40000.00   \n",
       "516833776          Hardware    Technology      EUR 2016-12-09  89000.00   \n",
       "549309727       Food Trucks          Food      USD 2018-01-12  10000.00   \n",
       "551994337       Digital Art           Art      USD 2015-09-18    100.00   \n",
       "558638957             Zines    Publishing      CAD 2016-12-02   5000.00   \n",
       "718763713        Indie Rock         Music      USD 2017-03-27   3500.00   \n",
       "805839986        Technology    Technology      CAD 2017-04-07   2000.00   \n",
       "900880068             Music         Music      EUR 2016-12-10   2747.00   \n",
       "960506632       Documentary  Film & Video      USD 2016-12-21  30000.00   \n",
       "963442008       Periodicals    Publishing      USD 2012-03-25   7000.00   \n",
       "98169605         Technology    Technology      NZD 2016-01-01  20000.00   \n",
       "\n",
       "                      launched   pledged       state  backers country  \\\n",
       "ID                                                                      \n",
       "1221990593 2011-04-28 05:15:32   1940.00  successful       27      US   \n",
       "1234089244 2013-09-27 23:33:29      0.00      failed        0      US   \n",
       "124795481  2015-02-16 01:55:34     10.00    canceled        2      NL   \n",
       "1468489999 2013-12-17 10:28:09 116575.17  successful     1268      AU   \n",
       "1610503461 2015-12-10 10:08:18 247688.14  successful     1435      CH   \n",
       "16174550   2017-03-01 00:00:24   3340.00      failed        8      MX   \n",
       "1719215256 2017-06-20 15:29:56  68587.33  successful      618      US   \n",
       "1837094178 2016-08-30 09:36:42    150.00      failed        1      CH   \n",
       "2056123754 2016-09-20 15:54:49 313637.00  successful     3140      AT   \n",
       "2068157547 2017-03-22 16:33:33  42480.00  successful       38      MX   \n",
       "2096648634 2017-03-09 04:05:15      0.00      failed        0      US   \n",
       "2102265118 2017-11-24 12:49:09      0.00      failed        0      NL   \n",
       "237780030  2014-07-29 16:52:31  15636.00      failed      318      US   \n",
       "383244441  2017-02-01 00:07:38      0.00      failed        0      MX   \n",
       "458626388  2014-08-19 16:55:05  22565.00  successful      409      US   \n",
       "466898065  2016-07-18 04:25:44  67767.00  successful     1111      US   \n",
       "516833776  2016-11-18 09:13:12   2032.00      failed       22      AT   \n",
       "549309727  2017-12-07 16:07:54   4882.00        live       36      US   \n",
       "551994337  2015-09-14 04:14:05    347.00  successful       66      US   \n",
       "558638957  2016-11-01 23:37:22      0.00      failed        0      CA   \n",
       "718763713  2017-02-26 18:34:59   4726.61  successful      171      US   \n",
       "805839986  2017-03-08 03:42:19   5523.00  successful      213      CA   \n",
       "900880068  2016-10-31 21:24:36    838.00      failed       36      ES   \n",
       "960506632  2016-12-06 00:26:54     30.00      failed        2      US   \n",
       "963442008  2012-01-30 19:01:35   9892.49  successful      228      US   \n",
       "98169605   2015-12-02 06:04:57   2230.00      failed       83      NZ   \n",
       "\n",
       "            usd pledged  usd_pledged_real  usd_goal_real  name_weirdness  \n",
       "ID                                                                        \n",
       "1221990593      1940.00           1940.00        1500.00               3  \n",
       "1234089244         0.00              0.00       30000.00               2  \n",
       "124795481         11.39             10.81       19465.14               2  \n",
       "1468489999    104343.69         104871.51        8906.08               2  \n",
       "1610503461    249249.19         246848.85      124576.44               2  \n",
       "16174550           0.00            177.36         796.52               2  \n",
       "1719215256     21002.00          68587.33       60000.00               2  \n",
       "1837094178         0.00            153.93       51310.47               2  \n",
       "2056123754      9451.58         342555.54       81915.29               2  \n",
       "2068157547       532.09           2263.79        2131.63               2  \n",
       "2096648634         0.00              0.00        5000.00               2  \n",
       "2102265118         0.00              0.00       33580.39               4  \n",
       "237780030      15636.00          15636.00       37800.00               2  \n",
       "383244441          0.00              0.00       23399.82               2  \n",
       "458626388      22565.00          22565.00       11400.00               2  \n",
       "466898065       5534.00          67767.00       40000.00               2  \n",
       "516833776        546.70           2145.59       93975.04               2  \n",
       "549309727        542.00           4882.00       10000.00               2  \n",
       "551994337        347.00            347.00         100.00               2  \n",
       "558638957          0.00              0.00        3758.55               2  \n",
       "718763713       1758.41           4726.61        3500.00               2  \n",
       "805839986        623.34           4118.26        1491.31               2  \n",
       "900880068          0.00            874.78        2867.58               4  \n",
       "960506632          5.00             30.00       30000.00               2  \n",
       "963442008       9892.49           9892.49        7000.00               2  \n",
       "98169605        1477.51           1472.34       13204.81               2  "
      ]
     },
     "execution_count": 47,
     "metadata": {},
     "output_type": "execute_result"
    }
   ],
   "source": [
    "def weird(val):\n",
    "    if isinstance(val, float): \n",
    "        return 0\n",
    "    return bad.sequence_weirdness(val)\n",
    "\n",
    "\n",
    "kickstarter_2018['name_weirdness'] = kickstarter_2018['name'].apply(weird)\n",
    "kickstarter_2018[kickstarter_2018['name_weirdness'] > 1]"
   ]
  },
  {
   "cell_type": "code",
   "execution_count": null,
   "metadata": {},
   "outputs": [],
   "source": []
  },
  {
   "cell_type": "markdown",
   "metadata": {
    "colab_type": "text",
    "id": "IWvV8C1LIXUA"
   },
   "source": [
    "Volviendo a la consigna original, chequeamos que no haya caracteres fuera de a-Z, 0-9 y _ en los nombres de columnas"
   ]
  },
  {
   "cell_type": "code",
   "execution_count": null,
   "metadata": {},
   "outputs": [],
   "source": [
    "kickstarter_2018.columns[~kickstarter_2018.columns.str.match(r'^(\\w+)$')]"
   ]
  },
  {
   "cell_type": "code",
   "execution_count": null,
   "metadata": {},
   "outputs": [],
   "source": [
    "kickstarter_2018.columns = kickstarter_2018.columns.str.replace(' ', '_')\n",
    "kickstarter_2018[:2]"
   ]
  },
  {
   "cell_type": "code",
   "execution_count": null,
   "metadata": {},
   "outputs": [],
   "source": [
    "kickstarter_2018.usd_pledged.head()"
   ]
  },
  {
   "cell_type": "code",
   "execution_count": null,
   "metadata": {},
   "outputs": [],
   "source": []
  },
  {
   "cell_type": "markdown",
   "metadata": {},
   "source": [
    "#### Ejercicio 3\n",
    "\n",
    "Comparar la cantidad de nombres raros en kickstarter_2018 con la que obtenemos al cargar 'ks-projects-201801.csv' con encoding iso-8859-1."
   ]
  },
  {
   "cell_type": "code",
   "execution_count": null,
   "metadata": {},
   "outputs": [],
   "source": [
    "#import ftfy.badness as bad"
   ]
  },
  {
   "cell_type": "code",
   "execution_count": null,
   "metadata": {},
   "outputs": [],
   "source": [
    "\"\"\"\n",
    "def weird(val):\n",
    "    if isinstance(val, float): \n",
    "        return 0\n",
    "    return bad.sequence_weirdness(val)\n",
    "\"\"\""
   ]
  },
  {
   "cell_type": "code",
   "execution_count": 48,
   "metadata": {},
   "outputs": [
    {
     "data": {
      "text/plain": [
       "name                26\n",
       "category            26\n",
       "main_category       26\n",
       "currency            26\n",
       "deadline            26\n",
       "goal                26\n",
       "launched            26\n",
       "pledged             26\n",
       "state               26\n",
       "backers             26\n",
       "country             26\n",
       "usd pledged         26\n",
       "usd_pledged_real    26\n",
       "usd_goal_real       26\n",
       "name_weirdness      26\n",
       "dtype: int64"
      ]
     },
     "execution_count": 48,
     "metadata": {},
     "output_type": "execute_result"
    }
   ],
   "source": [
    "kickstarter_2018['name_weirdness'] = kickstarter_2018['name'].apply(weird)\n",
    "kickstarter_2018[kickstarter_2018['name_weirdness'] > 1].count()"
   ]
  },
  {
   "cell_type": "code",
   "execution_count": 49,
   "metadata": {},
   "outputs": [
    {
     "data": {
      "text/plain": [
       "ID                  7682\n",
       "name                7682\n",
       "category            7682\n",
       "main_category       7682\n",
       "currency            7682\n",
       "deadline            7682\n",
       "goal                7682\n",
       "launched            7682\n",
       "pledged             7682\n",
       "state               7682\n",
       "backers             7682\n",
       "country             7682\n",
       "usd pledged         7615\n",
       "usd_pledged_real    7682\n",
       "usd_goal_real       7682\n",
       "name_weirdness      7682\n",
       "dtype: int64"
      ]
     },
     "execution_count": 49,
     "metadata": {},
     "output_type": "execute_result"
    }
   ],
   "source": [
    "raro = pd.read_csv('../AnalisisYCuracion-master/input/kickstarter-projects/ks-projects-201801.csv', encoding='iso-8859-1')\n",
    "raro['name_weirdness'] = raro['name'].apply(weird)\n",
    "raro[raro['name_weirdness'] > 1].count()"
   ]
  },
  {
   "cell_type": "code",
   "execution_count": 50,
   "metadata": {},
   "outputs": [
    {
     "data": {
      "text/plain": [
       "ID                  0\n",
       "name                0\n",
       "category            0\n",
       "main_category       0\n",
       "currency            0\n",
       "deadline            0\n",
       "goal                0\n",
       "launched            0\n",
       "pledged             0\n",
       "state               0\n",
       "backers             0\n",
       "country             0\n",
       "usd pledged         0\n",
       "usd_pledged_real    0\n",
       "usd_goal_real       0\n",
       "name_weirdness      0\n",
       "dtype: int64"
      ]
     },
     "execution_count": 50,
     "metadata": {},
     "output_type": "execute_result"
    }
   ],
   "source": [
    "rare = pd.read_csv('../AnalisisYCuracion-master/input/kickstarter-projects/ks-projects-201801.csv')\n",
    "rare['name_weirdness'] = rare['name'].str.decode(encoding='iso-8859-1').apply(weird)\n",
    "rare[rare['name_weirdness'] > 1].count()"
   ]
  },
  {
   "cell_type": "code",
   "execution_count": null,
   "metadata": {},
   "outputs": [],
   "source": []
  },
  {
   "cell_type": "markdown",
   "metadata": {
    "colab_type": "text",
    "id": "ahRhnkZ7IXUI"
   },
   "source": [
    "## 2.2. Tratar valores faltantes\n",
    "\n",
    "Veamos cuantos valores nulos tenemos"
   ]
  },
  {
   "cell_type": "code",
   "execution_count": null,
   "metadata": {},
   "outputs": [],
   "source": [
    "# get the number of missing data points per column\n",
    "missing_values_count = kickstarter_2018.isnull().sum()\n",
    "\n",
    "# look at the # of missing points in the first ten columns\n",
    "missing_values_count[missing_values_count > 0]"
   ]
  },
  {
   "cell_type": "markdown",
   "metadata": {},
   "source": [
    "Esta medida en sí, no dice nada más que con cuantos valores debemos lidiar. \n",
    "\n",
    "Primero tenemos que ver si en términos relativos su impacto."
   ]
  },
  {
   "cell_type": "code",
   "execution_count": null,
   "metadata": {},
   "outputs": [],
   "source": [
    "len(kickstarter_2018.dropna())/len(kickstarter_2018)"
   ]
  },
  {
   "cell_type": "code",
   "execution_count": null,
   "metadata": {},
   "outputs": [],
   "source": [
    "len(kickstarter_2018.dropna(subset=['name']))/len(kickstarter_2018)"
   ]
  },
  {
   "cell_type": "markdown",
   "metadata": {},
   "source": [
    "También debemos ver que significan en términos de representatividad e importancia de nuestro análisis."
   ]
  },
  {
   "cell_type": "code",
   "execution_count": null,
   "metadata": {},
   "outputs": [],
   "source": [
    "kickstarter_2018[kickstarter_2018.name.isnull()]"
   ]
  },
  {
   "cell_type": "markdown",
   "metadata": {},
   "source": [
    "Ejemplo, cuantos de los proyectos suspendidos no tienen nombre"
   ]
  },
  {
   "cell_type": "code",
   "execution_count": null,
   "metadata": {},
   "outputs": [],
   "source": [
    "len(kickstarter_2018[kickstarter_2018.state == 'suspended'].dropna(subset=['name'])) / \\\n",
    "    len(kickstarter_2018[kickstarter_2018.state == 'suspended'])"
   ]
  },
  {
   "cell_type": "markdown",
   "metadata": {},
   "source": [
    "En este caso, creemos que es seguro descartar los proyectos sin nombre"
   ]
  },
  {
   "cell_type": "code",
   "execution_count": null,
   "metadata": {},
   "outputs": [],
   "source": [
    "kickstarter_2018 = kickstarter_2018.dropna(subset=['name'])"
   ]
  },
  {
   "cell_type": "code",
   "execution_count": null,
   "metadata": {},
   "outputs": [],
   "source": [
    "missing_values_count = kickstarter_2018.isnull().sum()\n",
    "missing_values_count[missing_values_count > 0]"
   ]
  },
  {
   "cell_type": "code",
   "execution_count": null,
   "metadata": {},
   "outputs": [],
   "source": [
    "kickstarter_2018[kickstarter_2018.usd_pledged.isnull()]"
   ]
  },
  {
   "cell_type": "code",
   "execution_count": null,
   "metadata": {},
   "outputs": [],
   "source": [
    "kickstarter_2018[kickstarter_2018.usd_pledged.isnull()].describe(include='all')"
   ]
  },
  {
   "cell_type": "markdown",
   "metadata": {},
   "source": [
    "Interesante, todos los datos pertenecen a un país indeterminado.\n",
    "\n",
    "Todos los datos de ese \"país\" no tienen dinero prometido?"
   ]
  },
  {
   "cell_type": "code",
   "execution_count": null,
   "metadata": {},
   "outputs": [],
   "source": [
    "kickstarter_2018[(kickstarter_2018.country == 'N,0\"') & ~(kickstarter_2018.usd_pledged.isnull())].head()"
   ]
  },
  {
   "cell_type": "markdown",
   "metadata": {},
   "source": [
    "A priori como los proyectos no tienen patrocinantes, completamos en 0 los valores"
   ]
  },
  {
   "cell_type": "code",
   "execution_count": null,
   "metadata": {},
   "outputs": [],
   "source": [
    "kickstarter_2018 = kickstarter_2018.fillna(0)\n",
    "missing_values_count = kickstarter_2018.isnull().sum()\n",
    "missing_values_count[missing_values_count > 0]"
   ]
  },
  {
   "cell_type": "code",
   "execution_count": null,
   "metadata": {},
   "outputs": [],
   "source": [
    "kickstarter_2018.shape"
   ]
  },
  {
   "cell_type": "markdown",
   "metadata": {},
   "source": [
    "Más métodos disponibles en https://pandas.pydata.org/pandas-docs/stable/api.html#api-dataframe-missing y http://scikit-learn.org/stable/modules/classes.html#module-sklearn.preprocessing"
   ]
  },
  {
   "cell_type": "code",
   "execution_count": null,
   "metadata": {},
   "outputs": [],
   "source": []
  },
  {
   "cell_type": "markdown",
   "metadata": {},
   "source": [
    "## 2.3. Codificar variables\n",
    "\n",
    "Para trabajar con los algoritmos de aprendizaje automático, las variables categóricas estas deben ser codificadas como variables numéricas, no como cadenas.\n",
    "\n",
    "Para esta tarea también hay diferentes estrategias, dos comunes son: asociar cadena a número y asociar cadena a columna."
   ]
  },
  {
   "cell_type": "code",
   "execution_count": null,
   "metadata": {},
   "outputs": [],
   "source": [
    "from sklearn import preprocessing"
   ]
  },
  {
   "cell_type": "code",
   "execution_count": null,
   "metadata": {},
   "outputs": [],
   "source": [
    "kickstarter_2018.describe(include=['O'])"
   ]
  },
  {
   "cell_type": "code",
   "execution_count": null,
   "metadata": {},
   "outputs": [],
   "source": [
    "column='main_category'\n",
    "# Create a label (category) encoder object\n",
    "le = preprocessing.LabelEncoder()\n",
    "# Fit the encoder to the pandas column\n",
    "le.fit(kickstarter_2018[column])"
   ]
  },
  {
   "cell_type": "code",
   "execution_count": null,
   "metadata": {},
   "outputs": [],
   "source": [
    "# View encoder mapping\n",
    "dict(zip(le.classes_,le.transform(le.classes_)))"
   ]
  },
  {
   "cell_type": "code",
   "execution_count": null,
   "metadata": {},
   "outputs": [],
   "source": [
    "# Apply the fitted encoder to the pandas column\n",
    "kickstarter_2018[column] = le.transform(kickstarter_2018[column]) \n",
    "kickstarter_2018.head()"
   ]
  },
  {
   "cell_type": "code",
   "execution_count": null,
   "metadata": {},
   "outputs": [],
   "source": [
    "# Reversing encoding\n",
    "kickstarter_2018[column] = le.inverse_transform(kickstarter_2018[column]) \n",
    "kickstarter_2018.head()"
   ]
  },
  {
   "cell_type": "code",
   "execution_count": null,
   "metadata": {},
   "outputs": [],
   "source": [
    "from sklearn.preprocessing import LabelBinarizer\n",
    "other_column = 'state'\n",
    "\n",
    "lb = LabelBinarizer()\n",
    "\n",
    "lb_results = lb.fit_transform(kickstarter_2018[other_column])\n",
    "pd.DataFrame(lb_results, columns=((other_column + '_') + pd.Series(lb.classes_))).head(10)"
   ]
  },
  {
   "cell_type": "markdown",
   "metadata": {},
   "source": [
    "More about preprocessing in http://scikit-learn.org/stable/modules/classes.html#module-sklearn.preprocessing"
   ]
  },
  {
   "cell_type": "markdown",
   "metadata": {},
   "source": [
    "#### Ejercicio 4\n",
    "\n",
    "Codificar `currency` con ambas estrategias"
   ]
  },
  {
   "cell_type": "code",
   "execution_count": null,
   "metadata": {},
   "outputs": [],
   "source": [
    "#Estrategia 1"
   ]
  },
  {
   "cell_type": "code",
   "execution_count": null,
   "metadata": {},
   "outputs": [],
   "source": [
    "from sklearn import preprocessing"
   ]
  },
  {
   "cell_type": "code",
   "execution_count": null,
   "metadata": {},
   "outputs": [],
   "source": [
    "column='currency'\n",
    "# Create a label (category) encoder object\n",
    "cur = preprocessing.LabelEncoder()\n",
    "# Fit the encoder to the pandas column\n",
    "cur.fit(kickstarter_2018[column])"
   ]
  },
  {
   "cell_type": "code",
   "execution_count": null,
   "metadata": {},
   "outputs": [],
   "source": [
    "# View encoder mapping\n",
    "dict(zip(cur.classes_,cur.transform(cur.classes_)))"
   ]
  },
  {
   "cell_type": "code",
   "execution_count": null,
   "metadata": {},
   "outputs": [],
   "source": [
    "# Apply the fitted encoder to the pandas column\n",
    "kickstarter_2018[column] = cur.transform(kickstarter_2018[column]) \n",
    "kickstarter_2018.head()"
   ]
  },
  {
   "cell_type": "code",
   "execution_count": null,
   "metadata": {},
   "outputs": [],
   "source": [
    "# Reversing encoding\n",
    "kickstarter_2018[column] = cur.inverse_transform(kickstarter_2018[column]) \n",
    "kickstarter_2018.head()"
   ]
  },
  {
   "cell_type": "code",
   "execution_count": null,
   "metadata": {},
   "outputs": [],
   "source": [
    "# Estrategia 2"
   ]
  },
  {
   "cell_type": "code",
   "execution_count": null,
   "metadata": {},
   "outputs": [],
   "source": [
    "from sklearn.preprocessing import LabelBinarizer\n",
    "column2 = 'currency'\n",
    "\n",
    "cur2 = LabelBinarizer()\n",
    "\n",
    "cur2_results = cur2.fit_transform(kickstarter_2018[column2])\n",
    "pd.DataFrame(cur2_results, columns=((column2 + '_') + pd.Series(cur2.classes_))).head(10)"
   ]
  },
  {
   "cell_type": "code",
   "execution_count": null,
   "metadata": {},
   "outputs": [],
   "source": []
  },
  {
   "cell_type": "markdown",
   "metadata": {},
   "source": [
    "## 2.4. No cambiar los nombres de las variables de la fuente de origen"
   ]
  },
  {
   "cell_type": "markdown",
   "metadata": {},
   "source": [
    "## 2.5. Verificar la consistencia de las variables\n",
    "Aplicar reglas de integridad"
   ]
  },
  {
   "cell_type": "code",
   "execution_count": null,
   "metadata": {},
   "outputs": [],
   "source": [
    "kickstarter_2018.head()"
   ]
  },
  {
   "cell_type": "markdown",
   "metadata": {},
   "source": [
    "¿Hay proyectos sin patrocinadores pero con plata prometida?"
   ]
  },
  {
   "cell_type": "code",
   "execution_count": null,
   "metadata": {},
   "outputs": [],
   "source": [
    "kickstarter_2018[(kickstarter_2018.backers == 0) & (kickstarter_2018.usd_pledged > 0)]"
   ]
  },
  {
   "cell_type": "markdown",
   "metadata": {},
   "source": [
    "¿Hay proyecto no exitosos que pasaron el objetivo?"
   ]
  },
  {
   "cell_type": "code",
   "execution_count": null,
   "metadata": {},
   "outputs": [],
   "source": [
    "kickstarter_2018[(kickstarter_2018.state != 'successful') & (kickstarter_2018.pledged > kickstarter_2018.goal)]"
   ]
  },
  {
   "cell_type": "markdown",
   "metadata": {},
   "source": [
    "¿Cómo es, en promedio, la correlación entre el objetivo y la plata obtenida?"
   ]
  },
  {
   "cell_type": "code",
   "execution_count": null,
   "metadata": {},
   "outputs": [],
   "source": [
    "df = kickstarter_2018.groupby('state')[['goal','pledged']].aggregate('mean')\n",
    "df['pledged'] / df['goal']"
   ]
  },
  {
   "cell_type": "markdown",
   "metadata": {},
   "source": [
    "¿Cuánta plata se obtiene en promedio por estado y categoría?"
   ]
  },
  {
   "cell_type": "code",
   "execution_count": null,
   "metadata": {},
   "outputs": [],
   "source": [
    "kickstarter_2018.pivot_table(values='usd pledged',index='state',columns='main_category')"
   ]
  },
  {
   "cell_type": "markdown",
   "metadata": {},
   "source": [
    "#### Ejercicio 5\n",
    "\n",
    "1. ¿Hay proyecto éxitosos que no consiguieron el objetivo? Si hay, ¿Qué porcentaje sí y cuál no?\n",
    "2. Calcular una tabla con la cantidad de proyectos por categoría principal y estado."
   ]
  },
  {
   "cell_type": "code",
   "execution_count": null,
   "metadata": {},
   "outputs": [],
   "source": [
    "# Ejercicio 5.1"
   ]
  },
  {
   "cell_type": "code",
   "execution_count": null,
   "metadata": {},
   "outputs": [],
   "source": [
    "kickstarter_2018[:1]"
   ]
  },
  {
   "cell_type": "code",
   "execution_count": null,
   "metadata": {},
   "outputs": [],
   "source": [
    "kickstarter_2018[(kickstarter_2018.state == 'successful') & (kickstarter_2018.usd_goal_real > kickstarter_2018.usd_pledged_real )].count()"
   ]
  },
  {
   "cell_type": "code",
   "execution_count": null,
   "metadata": {},
   "outputs": [],
   "source": [
    "(kickstarter_2018.state == 'successful').sum()"
   ]
  },
  {
   "cell_type": "code",
   "execution_count": null,
   "metadata": {},
   "outputs": [],
   "source": [
    "kickstarter_2018[(kickstarter_2018.state == 'successful') & (kickstarter_2018.usd_goal_real <= kickstarter_2018.usd_pledged_real )].count()"
   ]
  },
  {
   "cell_type": "code",
   "execution_count": null,
   "metadata": {},
   "outputs": [],
   "source": [
    "# Porcentaje exitoso y meta alcanzada:\n",
    "(133951/133956)*100"
   ]
  },
  {
   "cell_type": "code",
   "execution_count": null,
   "metadata": {},
   "outputs": [],
   "source": [
    "# Porcentaje exitoso y meta no alcanzada:\n",
    "(5/133956)*100"
   ]
  },
  {
   "cell_type": "code",
   "execution_count": null,
   "metadata": {},
   "outputs": [],
   "source": []
  },
  {
   "cell_type": "code",
   "execution_count": null,
   "metadata": {},
   "outputs": [],
   "source": [
    "# Ejercicio 5.2"
   ]
  },
  {
   "cell_type": "code",
   "execution_count": null,
   "metadata": {},
   "outputs": [],
   "source": [
    "kickstarter_2018[:1]"
   ]
  },
  {
   "cell_type": "code",
   "execution_count": null,
   "metadata": {},
   "outputs": [],
   "source": [
    "tabla= pd.DataFrame({'cantidad' : kickstarter_2018.groupby(['main_category','state']).size()}).reset_index()\n",
    "tabla[:10]"
   ]
  },
  {
   "cell_type": "code",
   "execution_count": null,
   "metadata": {},
   "outputs": [],
   "source": []
  },
  {
   "cell_type": "markdown",
   "metadata": {},
   "source": [
    "## 2.6. Identificar y documentar valores atípicos/outliers\n"
   ]
  },
  {
   "cell_type": "markdown",
   "metadata": {},
   "source": [
    "Queremos analizar las características de los proyectos que obtienen dinero pero sin considerar los casos atípicos."
   ]
  },
  {
   "cell_type": "code",
   "execution_count": null,
   "metadata": {},
   "outputs": [],
   "source": [
    "%matplotlib inline\n",
    "kickstarter_2018.usd_pledged.hist();"
   ]
  },
  {
   "cell_type": "code",
   "execution_count": null,
   "metadata": {},
   "outputs": [],
   "source": [
    "kickstarter_2018.boxplot(column='usd pledged');"
   ]
  },
  {
   "cell_type": "markdown",
   "metadata": {},
   "source": [
    "\"There are many rules of thumb for how to define an outlier but there is no silver bullet. One rule of thumb is that any data point that is three standard deviations away from the mean of the same data point for all observations.\""
   ]
  },
  {
   "cell_type": "code",
   "execution_count": null,
   "metadata": {},
   "outputs": [],
   "source": [
    "outliers = kickstarter_2018[kickstarter_2018.usd_pledged > (kickstarter_2018.usd_pledged.mean() + \n",
    "                                                            3 * kickstarter_2018.usd_pledged.std())]\n",
    "outliers"
   ]
  },
  {
   "cell_type": "code",
   "execution_count": null,
   "metadata": {},
   "outputs": [],
   "source": [
    "kickstarter_2018.drop(outliers.index).boxplot(column='usd_pledged');"
   ]
  },
  {
   "cell_type": "code",
   "execution_count": null,
   "metadata": {},
   "outputs": [],
   "source": [
    "kickstarter_2018.drop(outliers.index).boxplot(column='usd_pledged',by='state');"
   ]
  },
  {
   "cell_type": "markdown",
   "metadata": {},
   "source": [
    "Analizar outliers por categorías"
   ]
  },
  {
   "cell_type": "code",
   "execution_count": null,
   "metadata": {},
   "outputs": [],
   "source": [
    "kickstarter_2018.boxplot(column='usd_pledged',by='state');\n",
    "kickstarter_2018.boxplot(column='usd_goal_real',by='state');"
   ]
  },
  {
   "cell_type": "markdown",
   "metadata": {},
   "source": [
    "#### Ejercicio 6\n",
    "\n",
    "Calcular los valores atípicos de 'usd_goal_real' y graficar los boxplots, con y sin estos valores por categoría"
   ]
  },
  {
   "cell_type": "code",
   "execution_count": 52,
   "metadata": {},
   "outputs": [],
   "source": [
    "outliers = kickstarter_2018[kickstarter_2018.usd_goal_real > (kickstarter_2018.usd_goal_real.mean() + \n",
    "                                                            3 * kickstarter_2018.usd_goal_real.std())]"
   ]
  },
  {
   "cell_type": "code",
   "execution_count": null,
   "metadata": {},
   "outputs": [],
   "source": []
  },
  {
   "cell_type": "code",
   "execution_count": 54,
   "metadata": {},
   "outputs": [
    {
     "data": {
      "image/png": "[encoded data removed]",
      "text/plain": [
       "<Figure size 1440x720 with 1 Axes>"
      ]
     },
     "metadata": {
      "needs_background": "light"
     },
     "output_type": "display_data"
    }
   ],
   "source": [
    "#Sin outliers\n",
    "kickstarter_2018.drop(outliers.index).boxplot(column='usd_goal_real',by='main_category', figsize=[20,10]);"
   ]
  },
  {
   "cell_type": "code",
   "execution_count": 56,
   "metadata": {},
   "outputs": [
    {
     "data": {
      "text/plain": [
       "<matplotlib.axes._subplots.AxesSubplot at 0x131e4f370>"
      ]
     },
     "execution_count": 56,
     "metadata": {},
     "output_type": "execute_result"
    },
    {
     "data": {
      "image/png": "[encoded data removed]",
      "text/plain": [
       "<Figure size 1440x720 with 1 Axes>"
      ]
     },
     "metadata": {
      "needs_background": "light"
     },
     "output_type": "display_data"
    }
   ],
   "source": [
    "#Con outliers\n",
    "kickstarter_2018.boxplot(column='usd_goal_real',by='main_category',figsize=[20,10])"
   ]
  },
  {
   "cell_type": "code",
   "execution_count": null,
   "metadata": {},
   "outputs": [],
   "source": []
  },
  {
   "cell_type": "markdown",
   "metadata": {},
   "source": [
    "## 2.7. Evaluar cómo comprimir los datos \n",
    "para su almacenamiento más eficiente.\n",
    "\n",
    "En la actualidad, en las nubes el almacenamiento no suele ser problema sino la velocidad para leerlo que suele ser determinante a la hora de determinar el formato de almacenamiento.\n"
   ]
  },
  {
   "cell_type": "markdown",
   "metadata": {},
   "source": [
    "## 2.8. Guardar el set de datos con un nombre informativo.\n"
   ]
  },
  {
   "cell_type": "markdown",
   "metadata": {},
   "source": [
    "EL problema de la ingeniería de software"
   ]
  },
  {
   "cell_type": "code",
   "execution_count": null,
   "metadata": {},
   "outputs": [],
   "source": []
  }
 ],
 "metadata": {
  "kernelspec": {
   "display_name": "Python 3.8.2 64-bit",
   "language": "python",
   "name": "python38264bit6d3f7d13acd044d39cddcb4e3e566a74"
  },
  "language_info": {
   "codemirror_mode": {
    "name": "ipython",
    "version": 3
   },
   "file_extension": ".py",
   "mimetype": "text/x-python",
   "name": "python",
   "nbconvert_exporter": "python",
   "pygments_lexer": "ipython3",
   "version": "3.8.2"
  }
 },
 "nbformat": 4,
 "nbformat_minor": 4
}
