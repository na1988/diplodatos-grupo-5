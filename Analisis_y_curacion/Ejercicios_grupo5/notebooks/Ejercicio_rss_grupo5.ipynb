{
  "nbformat": 4,
  "nbformat_minor": 0,
  "metadata": {
    "language_info": {
      "codemirror_mode": {
        "name": "ipython",
        "version": 3
      },
      "file_extension": ".py",
      "mimetype": "text/x-python",
      "name": "python",
      "nbconvert_exporter": "python",
      "pygments_lexer": "ipython3",
      "version": "3.7.6-final"
    },
    "orig_nbformat": 2,
    "kernelspec": {
      "name": "python3",
      "display_name": "Python 3"
    },
    "colab": {
      "name": "Ejercicio-rss_grupo5.ipynb",
      "provenance": [],
      "collapsed_sections": []
    }
  },
  "cells": [
    {
      "cell_type": "code",
      "metadata": {
        "id": "RAKZ2xYMenFt",
        "colab_type": "code",
        "colab": {
          "base_uri": "https://localhost:8080/",
          "height": 190
        },
        "outputId": "4772b800-7149-4c49-9276-14bfa65d03c3"
      },
      "source": [
        "pip install feedparser"
      ],
      "execution_count": 3,
      "outputs": [
        {
          "output_type": "stream",
          "text": [
            "Collecting feedparser\n",
            "\u001b[?25l  Downloading https://files.pythonhosted.org/packages/91/d8/7d37fec71ff7c9dbcdd80d2b48bcdd86d6af502156fc93846fb0102cb2c4/feedparser-5.2.1.tar.bz2 (192kB)\n",
            "\r\u001b[K     |█▊                              | 10kB 18.0MB/s eta 0:00:01\r\u001b[K     |███▍                            | 20kB 1.7MB/s eta 0:00:01\r\u001b[K     |█████▏                          | 30kB 2.2MB/s eta 0:00:01\r\u001b[K     |██████▉                         | 40kB 2.5MB/s eta 0:00:01\r\u001b[K     |████████▌                       | 51kB 2.0MB/s eta 0:00:01\r\u001b[K     |██████████▎                     | 61kB 2.2MB/s eta 0:00:01\r\u001b[K     |████████████                    | 71kB 2.5MB/s eta 0:00:01\r\u001b[K     |█████████████▋                  | 81kB 2.7MB/s eta 0:00:01\r\u001b[K     |███████████████▍                | 92kB 2.9MB/s eta 0:00:01\r\u001b[K     |█████████████████               | 102kB 2.8MB/s eta 0:00:01\r\u001b[K     |██████████████████▊             | 112kB 2.8MB/s eta 0:00:01\r\u001b[K     |████████████████████▌           | 122kB 2.8MB/s eta 0:00:01\r\u001b[K     |██████████████████████▏         | 133kB 2.8MB/s eta 0:00:01\r\u001b[K     |███████████████████████▉        | 143kB 2.8MB/s eta 0:00:01\r\u001b[K     |█████████████████████████▋      | 153kB 2.8MB/s eta 0:00:01\r\u001b[K     |███████████████████████████▎    | 163kB 2.8MB/s eta 0:00:01\r\u001b[K     |█████████████████████████████   | 174kB 2.8MB/s eta 0:00:01\r\u001b[K     |██████████████████████████████▊ | 184kB 2.8MB/s eta 0:00:01\r\u001b[K     |████████████████████████████████| 194kB 2.8MB/s \n",
            "\u001b[?25hBuilding wheels for collected packages: feedparser\n",
            "  Building wheel for feedparser (setup.py) ... \u001b[?25l\u001b[?25hdone\n",
            "  Created wheel for feedparser: filename=feedparser-5.2.1-cp36-none-any.whl size=44940 sha256=19b00f687c969ee1cee746e66cd6462ad577548ba30e51eafb940634f5645c09\n",
            "  Stored in directory: /root/.cache/pip/wheels/8c/69/b7/f52763c41c5471df57703a0ef718a32a5e81ee35dcf6d4f97f\n",
            "Successfully built feedparser\n",
            "Installing collected packages: feedparser\n",
            "Successfully installed feedparser-5.2.1\n"
          ],
          "name": "stdout"
        }
      ]
    },
    {
      "cell_type": "code",
      "metadata": {
        "id": "kAy6_2VXeQHg",
        "colab_type": "code",
        "colab": {}
      },
      "source": [
        "import feedparser\n",
        "from IPython.core.display import display, HTML\n"
      ],
      "execution_count": 4,
      "outputs": []
    },
    {
      "cell_type": "code",
      "metadata": {
        "id": "lCYxEsW2eQHs",
        "colab_type": "code",
        "colab": {}
      },
      "source": [
        " d = feedparser.parse('https://www.lavoz.com.ar/rss/tecnologia.xml')"
      ],
      "execution_count": 5,
      "outputs": []
    },
    {
      "cell_type": "code",
      "metadata": {
        "tags": [],
        "id": "9dkVrAn-eQHy",
        "colab_type": "code",
        "colab": {
          "base_uri": "https://localhost:8080/",
          "height": 1000
        },
        "outputId": "d799b233-1d27-499a-ebae-32d620941654"
      },
      "source": [
        "for ent in d.entries:\n",
        "    display(HTML('<a href=\"' + ent.link + '\">' + ent.title + '</a>'))\n",
        "    display(HTML('<p>' + ent.description + '</p>'))"
      ],
      "execution_count": 6,
      "outputs": [
        {
          "output_type": "display_data",
          "data": {
            "text/html": [
              "<a href=\"https://www.lavoz.com.ar/tecnologia/nuevas-medidas-de-seguridad-para-facebook-messenger-mensajes-privados-con-autenticacion-b\">Nuevas medidas de seguridad para Facebook Messenger: mensajes privados con autenticación biométrica</a>"
            ],
            "text/plain": [
              "<IPython.core.display.HTML object>"
            ]
          },
          "metadata": {
            "tags": []
          }
        },
        {
          "output_type": "display_data",
          "data": {
            "text/html": [
              "<p>Facebook anunció nuevas medidas de privacidad y seguridad para Messenger, que introduce la función que se vincula con la lectura de la huella dactilar o el reconocimiento facial para evitar que otras personas accedan a los mensajes privados.</p>"
            ],
            "text/plain": [
              "<IPython.core.display.HTML object>"
            ]
          },
          "metadata": {
            "tags": []
          }
        },
        {
          "output_type": "display_data",
          "data": {
            "text/html": [
              "<a href=\"https://www.lavoz.com.ar/tecnologia/lenovo-presenta-su-primer-smartphone-gaming-legion-phone-duel-optimizado-para-jugar-en-ho\">Lenovo presenta su primer smartphone gaming: Legion Phone Duel, optimizado para jugar en horizontal</a>"
            ],
            "text/plain": [
              "<IPython.core.display.HTML object>"
            ]
          },
          "metadata": {
            "tags": []
          }
        },
        {
          "output_type": "display_data",
          "data": {
            "text/html": [
              "<p>Legion Phone Duel es el primer 'smartphone' enfocado al juego de Lenovo, un equipo diseñado para usar en horizontal, como una videoconsola portátil, y que cuenta con ajustes tanto en el sistema operativo como en elementos como la cámara para sacarle el máximo provecho a este formato.</p>"
            ],
            "text/plain": [
              "<IPython.core.display.HTML object>"
            ]
          },
          "metadata": {
            "tags": []
          }
        },
        {
          "output_type": "display_data",
          "data": {
            "text/html": [
              "<a href=\"https://www.lavoz.com.ar/tecnologia/gmail-verificara-identidad-de-empresas-con-un-logo-para-evitar-correos-maliciosos\">Gmail verificará la identidad de las empresas con un logo para evitar correos maliciosos</a>"
            ],
            "text/plain": [
              "<IPython.core.display.HTML object>"
            ]
          },
          "metadata": {
            "tags": []
          }
        },
        {
          "output_type": "display_data",
          "data": {
            "text/html": [
              "<p>Google ha anunciado las pruebas de unos indicadores de marca que permitirán identificar a las empresas con el objetivo de evitar los correos maliciosos y los ataques de tipo 'phishing' que suplantan la identidad de fuentes legítimas.</p>"
            ],
            "text/plain": [
              "<IPython.core.display.HTML object>"
            ]
          },
          "metadata": {
            "tags": []
          }
        },
        {
          "output_type": "display_data",
          "data": {
            "text/html": [
              "<a href=\"https://www.lavoz.com.ar/tecnologia/solo-facebook-sabe-que-es-lo-mas-popular-en-su-red-social\">Sólo Facebook sabe qué es lo más popular en su red social</a>"
            ],
            "text/plain": [
              "<IPython.core.display.HTML object>"
            ]
          },
          "metadata": {
            "tags": []
          }
        },
        {
          "output_type": "display_data",
          "data": {
            "text/html": [
              "<p>Facebook cuenta con datos internos que muestran qué es lo más popular en la red social, pese a la existencia de herramientas de análisis que recogen datos como la interacción o los comentarios para sacar sus listas, y que la empresa busca trasladar a sus herramientas públicas.</p>"
            ],
            "text/plain": [
              "<IPython.core.display.HTML object>"
            ]
          },
          "metadata": {
            "tags": []
          }
        },
        {
          "output_type": "display_data",
          "data": {
            "text/html": [
              "<a href=\"https://www.lavoz.com.ar/tecnologia/dia-del-amigo-videollamadas-por-whatsapp-crecieron-500-este-lunes\">Día del Amigo: las videollamadas por Whatsapp crecieron 500% este lunes</a>"
            ],
            "text/plain": [
              "<IPython.core.display.HTML object>"
            ]
          },
          "metadata": {
            "tags": []
          }
        },
        {
          "output_type": "display_data",
          "data": {
            "text/html": [
              "<p>En medio de la pandemia del coronavirus, esta herramienta fue la que tuvo mayor crecimiento en el marco de los festejos tan particulares de esta efeméride. Los datos son de Telecom.</p>"
            ],
            "text/plain": [
              "<IPython.core.display.HTML object>"
            ]
          },
          "metadata": {
            "tags": []
          }
        },
        {
          "output_type": "display_data",
          "data": {
            "text/html": [
              "<a href=\"https://www.lavoz.com.ar/tecnologia/netflix-llega-a-pantalla-inteligente-de-google-nest-hub\">Netflix llega a la pantalla inteligente de Google, Nest Hub</a>"
            ],
            "text/plain": [
              "<IPython.core.display.HTML object>"
            ]
          },
          "metadata": {
            "tags": []
          }
        },
        {
          "output_type": "display_data",
          "data": {
            "text/html": [
              "<p>Google ha anunciado este martes que \"por primera vez en cualquier pantalla inteligente\" es posible añadir 'ver Netflix' a la lista de tareas con los dispositivos Nest Hub.</p>"
            ],
            "text/plain": [
              "<IPython.core.display.HTML object>"
            ]
          },
          "metadata": {
            "tags": []
          }
        },
        {
          "output_type": "display_data",
          "data": {
            "text/html": [
              "<a href=\"https://www.lavoz.com.ar/tecnologia/mas-de-mitad-de-poblacion-mundial-ya-usa-redes-sociales\">Más de la mitad de la población mundial ya usa redes sociales</a>"
            ],
            "text/plain": [
              "<IPython.core.display.HTML object>"
            ]
          },
          "metadata": {
            "tags": []
          }
        },
        {
          "output_type": "display_data",
          "data": {
            "text/html": [
              "<p>Hoy en día parece que todo el mundo está presente en las redes sociales, ya sea subiendo vídeos a TikTok, interactuando con las fotos y las Historias de Instagram o escribiendo comentarios en Twitter. No obstante, según el último informe Digital 2020, elaborado por Hootsuite y We Are Social, más de la mitad de la población mundial ya usa las redes sociales.</p>"
            ],
            "text/plain": [
              "<IPython.core.display.HTML object>"
            ]
          },
          "metadata": {
            "tags": []
          }
        },
        {
          "output_type": "display_data",
          "data": {
            "text/html": [
              "<a href=\"https://www.lavoz.com.ar/tecnologia/hackeo-a-wattpad-expuso-datos-de-mas-de-271-millones-de-usuarios\">Hackeo a Wattpad expuso los datos de más de 271 millones de usuarios</a>"
            ],
            "text/plain": [
              "<IPython.core.display.HTML object>"
            ]
          },
          "metadata": {
            "tags": []
          }
        },
        {
          "output_type": "display_data",
          "data": {
            "text/html": [
              "<p>La plataforma de publicación de textos Wattpad ha sido víctima de un ciberataque ha afectado a más de 271 millones de usuarios, cuyos datos han aparecido en el mercado negro.</p>"
            ],
            "text/plain": [
              "<IPython.core.display.HTML object>"
            ]
          },
          "metadata": {
            "tags": []
          }
        },
        {
          "output_type": "display_data",
          "data": {
            "text/html": [
              "<a href=\"https://www.lavoz.com.ar/tecnologia/ransomware-un-ataque-de-hackers-afecto-sistema-interno-de-telecom\">Ransomware: un ataque de hackers afectó el sistema interno de Telecom</a>"
            ],
            "text/plain": [
              "<IPython.core.display.HTML object>"
            ]
          },
          "metadata": {
            "tags": []
          }
        },
        {
          "output_type": "display_data",
          "data": {
            "text/html": [
              "<p>Pedían una suma millonaria de rescate. Se trata de un sistema similar al del hackeo a cuentas de Twitter de alto perfil en Estados Unidos. Ningún usuario se vio perjudicado.</p>"
            ],
            "text/plain": [
              "<IPython.core.display.HTML object>"
            ]
          },
          "metadata": {
            "tags": []
          }
        },
        {
          "output_type": "display_data",
          "data": {
            "text/html": [
              "<a href=\"https://www.lavoz.com.ar/tecnologia/nuevo-altavoz-inalambrico-de-sony-integra-un-mando-para-escuchar-television-en-cualquier-\">El nuevo altavoz inalámbrico de Sony integra un mando para escuchar la televisión en cualquier parte de la casa</a>"
            ],
            "text/plain": [
              "<IPython.core.display.HTML object>"
            ]
          },
          "metadata": {
            "tags": []
          }
        },
        {
          "output_type": "display_data",
          "data": {
            "text/html": [
              "<p>Sony ha anunciado el altavoz inalámbrico SRS-LSR200, que permite llevar el audio del televisor a cualquier lugar de la casa para seguir escuchando los programas, que cuenta con un mando integrado para poder cambiar de canal.</p>"
            ],
            "text/plain": [
              "<IPython.core.display.HTML object>"
            ]
          },
          "metadata": {
            "tags": []
          }
        },
        {
          "output_type": "display_data",
          "data": {
            "text/html": [
              "<a href=\"https://www.lavoz.com.ar/tecnologia/hackers-descargaron-historial-de-datos-de-8-de-cuentas-afectadas-por-ataque-a-twitter\">Los hackers descargaron el historial de datos de 8 de las cuentas afectadas por el ataque a Twitter</a>"
            ],
            "text/plain": [
              "<IPython.core.display.HTML object>"
            ]
          },
          "metadata": {
            "tags": []
          }
        },
        {
          "output_type": "display_data",
          "data": {
            "text/html": [
              "<p>La investigación sobre el 'hackeo' de Twitter del pasado 15 de julio revela que los atacantes lograron descargar los datos y la actividad de ocho de las cuentas afectadas con una herramienta propia de la plataforma.</p>"
            ],
            "text/plain": [
              "<IPython.core.display.HTML object>"
            ]
          },
          "metadata": {
            "tags": []
          }
        },
        {
          "output_type": "display_data",
          "data": {
            "text/html": [
              "<a href=\"https://www.lavoz.com.ar/tecnologia/tamales-montoncito-de-dedos-y-trans-estos-son-nuevos-emojis-que-llegan-a-iphone-en-septie\">Tamales, montoncito de dedos y trans: estos son los nuevos emojis que llegan a iPhone en septiembre</a>"
            ],
            "text/plain": [
              "<IPython.core.display.HTML object>"
            ]
          },
          "metadata": {
            "tags": []
          }
        },
        {
          "output_type": "display_data",
          "data": {
            "text/html": [
              "<p>Con motivo del Día Mundial del Emoji, que se celebra este viernes, la compañía Apple ha mostrado los nuevos emojis que llegarán con la nueva versión del sistema operativo de los móviles iPhone, iOS 14.</p>"
            ],
            "text/plain": [
              "<IPython.core.display.HTML object>"
            ]
          },
          "metadata": {
            "tags": []
          }
        },
        {
          "output_type": "display_data",
          "data": {
            "text/html": [
              "<a href=\"https://www.lavoz.com.ar/tecnologia/dia-mundial-del-emoji-cuales-son-sus-significados-segun-contexto-cultural\">Día Mundial del Emoji: cuáles son sus significados según el contexto cultural</a>"
            ],
            "text/plain": [
              "<IPython.core.display.HTML object>"
            ]
          },
          "metadata": {
            "tags": []
          }
        },
        {
          "output_type": "display_data",
          "data": {
            "text/html": [
              "<p>La prueba de que un emoji, a veces, no vale más que mil palabras y puede querer decir cosas distintas.\n",
              "        Cada día utilizamos los emojis para expresar una idea o una emoción junto con nuestro mensaje de texto y se han convertido en símbolos habituales en nuestra comunicación diaria.</p>"
            ],
            "text/plain": [
              "<IPython.core.display.HTML object>"
            ]
          },
          "metadata": {
            "tags": []
          }
        },
        {
          "output_type": "display_data",
          "data": {
            "text/html": [
              "<a href=\"https://www.lavoz.com.ar/tecnologia/twitter-confirmo-que-fueron-130-cuentas-hackeadas\">Twitter confirmó que fueron 130 las cuentas hackeadas</a>"
            ],
            "text/plain": [
              "<IPython.core.display.HTML object>"
            ]
          },
          "metadata": {
            "tags": []
          }
        },
        {
          "output_type": "display_data",
          "data": {
            "text/html": [
              "<p>Es el mayor incidente de seguridad de la historia de la plataforma.\n",
              "        La compañía Twitter ha confirmado que alrededor de 130 cuentas de la red social se vieron afectadas por el hackeo de este miércoles, el mayor incidente de seguridad de la historia de la plataforma.</p>"
            ],
            "text/plain": [
              "<IPython.core.display.HTML object>"
            ]
          },
          "metadata": {
            "tags": []
          }
        },
        {
          "output_type": "display_data",
          "data": {
            "text/html": [
              "<a href=\"https://www.lavoz.com.ar/tecnologia/zoom-soluciona-un-fallo-de-seguridad-en-personalizacion-de-url-que-permitia-lanzar-campan\">Zoom soluciona un fallo de seguridad en la personalización de url que permitía lanzar campañas de phishing</a>"
            ],
            "text/plain": [
              "<IPython.core.display.HTML object>"
            ]
          },
          "metadata": {
            "tags": []
          }
        },
        {
          "output_type": "display_data",
          "data": {
            "text/html": [
              "<p>Zoom ha solucionado un fallo de seguridad vinculado con el sistema de personalización de url cuya explotación podía permitir la difusión de campañas de 'phishing' a través de enlaces de apariencia legítima para unirse a una reunión.</p>"
            ],
            "text/plain": [
              "<IPython.core.display.HTML object>"
            ]
          },
          "metadata": {
            "tags": []
          }
        },
        {
          "output_type": "display_data",
          "data": {
            "text/html": [
              "<a href=\"https://www.lavoz.com.ar/tecnologia/ultra-rapida-lanzan-un-sistema-que-carga-33-de-bateria-del-celu-en-tres-minutos\">Ultra rápida: lanzan un sistema que carga el 33% de la batería del celu en tres minutos</a>"
            ],
            "text/plain": [
              "<IPython.core.display.HTML object>"
            ]
          },
          "metadata": {
            "tags": []
          }
        },
        {
          "output_type": "display_data",
          "data": {
            "text/html": [
              "<p>Solucionaría uno de los mayores inconvenientes de la red 5G: el elevado consumo de la batería de los smartphones. \n",
              "        La compañía china realme ha presentado este jueves UltraDART, su nuevo sistema de carga ultrarápida de 125W que afirma que es la \"mejor solución\" a los problemas de duración de la batería de los smartphones compatibles con la red de datos 5G.</p>"
            ],
            "text/plain": [
              "<IPython.core.display.HTML object>"
            ]
          },
          "metadata": {
            "tags": []
          }
        },
        {
          "output_type": "display_data",
          "data": {
            "text/html": [
              "<a href=\"https://www.lavoz.com.ar/tecnologia/explicacion-de-twitter-al-hackeo-masivo-de-cuentas\">La explicación de Twitter al hackeo masivo de cuentas</a>"
            ],
            "text/plain": [
              "<IPython.core.display.HTML object>"
            ]
          },
          "metadata": {
            "tags": []
          }
        },
        {
          "output_type": "display_data",
          "data": {
            "text/html": [
              "<p>La red social afirma que sus propias herramientas para empleados contribuyeron al ataque, el mayor incidente de seguridad de la historia de la plataforma.</p>"
            ],
            "text/plain": [
              "<IPython.core.display.HTML object>"
            ]
          },
          "metadata": {
            "tags": []
          }
        },
        {
          "output_type": "display_data",
          "data": {
            "text/html": [
              "<a href=\"https://www.lavoz.com.ar/tecnologia/hackearon-cuentas-de-twitter-de-obama-biden-y-gates\">Hackearon las cuentas de Twitter de Obama, Biden y Gates</a>"
            ],
            "text/plain": [
              "<IPython.core.display.HTML object>"
            ]
          },
          "metadata": {
            "tags": []
          }
        },
        {
          "output_type": "display_data",
          "data": {
            "text/html": [
              "<p>Los magnates de la tecnología, figuras políticas y grandes empresas fueron víctimas de un aparente fraude con Bitcoins.\n",
              "        Estafadores hackearon este miércoles las cuentas de Twitter de magnates de la tecnología, figuras políticas y grandes empresas en un aparente fraude con Bitcoin.</p>"
            ],
            "text/plain": [
              "<IPython.core.display.HTML object>"
            ]
          },
          "metadata": {
            "tags": []
          }
        },
        {
          "output_type": "display_data",
          "data": {
            "text/html": [
              "<a href=\"https://www.lavoz.com.ar/tecnologia/facebook-transmitira-videos-musicales-con-licencia-oficial-a-partir-de-agosto\">Facebook transmitirá videos musicales con licencia oficial a partir de agosto</a>"
            ],
            "text/plain": [
              "<IPython.core.display.HTML object>"
            ]
          },
          "metadata": {
            "tags": []
          }
        },
        {
          "output_type": "display_data",
          "data": {
            "text/html": [
              "<p>La compañía Facebook empezará a transmitir videos musicales con licencia oficial en su plataforma a partir del próximo mes, algo que por ahora llegará únicamente a Estados Unidos.</p>"
            ],
            "text/plain": [
              "<IPython.core.display.HTML object>"
            ]
          },
          "metadata": {
            "tags": []
          }
        },
        {
          "output_type": "display_data",
          "data": {
            "text/html": [
              "<a href=\"https://www.lavoz.com.ar/tecnologia/google-maps-permite-calibrar-ubicacion-del-usuario-con-live-view\">Google Maps permite calibrar la ubicación del usuario con Live View</a>"
            ],
            "text/plain": [
              "<IPython.core.display.HTML object>"
            ]
          },
          "metadata": {
            "tags": []
          }
        },
        {
          "output_type": "display_data",
          "data": {
            "text/html": [
              "<p>Google Maps ha actualización su aplicación para Android con la posibilidad de calibrar la ubicación del usuario a través de la función Live View, que emplea la cámara del móvil y la realidad aumentada para corregir el error en la geolocalización.</p>"
            ],
            "text/plain": [
              "<IPython.core.display.HTML object>"
            ]
          },
          "metadata": {
            "tags": []
          }
        },
        {
          "output_type": "display_data",
          "data": {
            "text/html": [
              "<a href=\"https://www.lavoz.com.ar/tecnologia/nuevo-diseno-de-gmail-integrara-chat-rooms-y-meet\">El nuevo diseño de Gmail integrará Chat, Rooms y Meet</a>"
            ],
            "text/plain": [
              "<IPython.core.display.HTML object>"
            ]
          },
          "metadata": {
            "tags": []
          }
        },
        {
          "output_type": "display_data",
          "data": {
            "text/html": [
              "<p>El nuevo diseño de Gmail, el servicio de correo electrónico de Google, integrará las plataformas de Chat, Rooms y Meet en una sola aplicación con diferentes categorías.</p>"
            ],
            "text/plain": [
              "<IPython.core.display.HTML object>"
            ]
          },
          "metadata": {
            "tags": []
          }
        },
        {
          "output_type": "display_data",
          "data": {
            "text/html": [
              "<a href=\"https://www.lavoz.com.ar/tecnologia/con-5g-aun-en-panales-samsung-tiene-fecha-estimada-para-llegada-del-6g\">Con el 5G aún en pañales, Samsung tiene fecha estimada para la llegada del 6G</a>"
            ],
            "text/plain": [
              "<IPython.core.display.HTML object>"
            ]
          },
          "metadata": {
            "tags": []
          }
        },
        {
          "output_type": "display_data",
          "data": {
            "text/html": [
              "<p>Samsung Electronics espera que la red de datos 6G se comercialice a partir de 2028 y se generalice en 2030, aunque el 5G se encuentra en sus etapas iniciales.</p>"
            ],
            "text/plain": [
              "<IPython.core.display.HTML object>"
            ]
          },
          "metadata": {
            "tags": []
          }
        },
        {
          "output_type": "display_data",
          "data": {
            "text/html": [
              "<a href=\"https://www.lavoz.com.ar/tecnologia/descubren-una-app-de-chat-para-android-que-espia-a-usuarios-y-roba-sus-datos\">Descubren una app de chat para Android que espía a los usuarios y roba sus datos</a>"
            ],
            "text/plain": [
              "<IPython.core.display.HTML object>"
            ]
          },
          "metadata": {
            "tags": []
          }
        },
        {
          "output_type": "display_data",
          "data": {
            "text/html": [
              "<p>La aplicación de mensajería Welcome Chat para Android que se utiliza para conversar con amigos, sirve también como herramienta de espionaje, como ha descubierto el laboratorio de la empresa de ciberseguridad ESET.</p>"
            ],
            "text/plain": [
              "<IPython.core.display.HTML object>"
            ]
          },
          "metadata": {
            "tags": []
          }
        },
        {
          "output_type": "display_data",
          "data": {
            "text/html": [
              "<a href=\"https://www.lavoz.com.ar/tecnologia/venden-un-super-mario-bros-de-1985-precintado-por-us-114000-y-se-convierte-en-juego-mas-c\">Venden un Súper Mario Bros de 1985 precintado por U$S 114.000 y se convierte en el juego más caro del mundo</a>"
            ],
            "text/plain": [
              "<IPython.core.display.HTML object>"
            ]
          },
          "metadata": {
            "tags": []
          }
        },
        {
          "output_type": "display_data",
          "data": {
            "text/html": [
              "<p>Una copia del clásico videojuego Súper Mario Bros lanzado en 1985 y precintado se ha vendido por 114.000 dólares (alrededor de 100.600 euros), lo que lo ha convertido en el juego más caro del mundo.</p>"
            ],
            "text/plain": [
              "<IPython.core.display.HTML object>"
            ]
          },
          "metadata": {
            "tags": []
          }
        },
        {
          "output_type": "display_data",
          "data": {
            "text/html": [
              "<a href=\"https://www.lavoz.com.ar/tecnologia/apple-aconseja-no-usar-protectores-para-tapar-webcam-de-macbook-que-alternativas-propone\">Apple aconseja no usar protectores para tapar la webcam de los MacBook: qué alternativas propone</a>"
            ],
            "text/plain": [
              "<IPython.core.display.HTML object>"
            ]
          },
          "metadata": {
            "tags": []
          }
        },
        {
          "output_type": "display_data",
          "data": {
            "text/html": [
              "<p>Las razones que da la firma se relacionan con daños que se producirían en la pantalla de sus equipos.\n",
              "        Apple recomendó a los usuarios de MacBook, MacBook Air y MacBook Pro que no utilicen protectores para tapar la cámara de las computadoras, y que si lo hacen, eviten cerrar los equipos con ellos puestos, ya que podrían dañar la pantalla.</p>"
            ],
            "text/plain": [
              "<IPython.core.display.HTML object>"
            ]
          },
          "metadata": {
            "tags": []
          }
        },
        {
          "output_type": "display_data",
          "data": {
            "text/html": [
              "<a href=\"https://www.lavoz.com.ar/tecnologia/un-ratito-mas-pulsera-de-fitbit-despertara-a-usuarios-en-mejor-momento\">Un ratito más: la pulsera de Fitbit despertará a los usuarios \"en el mejor momento\"</a>"
            ],
            "text/plain": [
              "<IPython.core.display.HTML object>"
            ]
          },
          "metadata": {
            "tags": []
          }
        },
        {
          "output_type": "display_data",
          "data": {
            "text/html": [
              "<p>Cómo funciona el \"despertador inteligente\", en la nueva actualización del software del dispositivo.\n",
              "            La pulsera de actividad Fitbit Charge 4 podrá despertar a los usuarios en el mejor momento posible para que se sientan descansados, siguiendo los ciclos de sueño de cada uno.</p>"
            ],
            "text/plain": [
              "<IPython.core.display.HTML object>"
            ]
          },
          "metadata": {
            "tags": []
          }
        },
        {
          "output_type": "display_data",
          "data": {
            "text/html": [
              "<a href=\"https://www.lavoz.com.ar/tecnologia/tiktok-es-divertido-mundo-lo-ve-como-un-asunto-muy-serio-y-con-razon\">¿TikTok es divertido? El mundo lo ve como un asunto muy serio y con razón</a>"
            ],
            "text/plain": [
              "<IPython.core.display.HTML object>"
            ]
          },
          "metadata": {
            "tags": []
          }
        },
        {
          "output_type": "display_data",
          "data": {
            "text/html": [
              "<p>OK, no te importa tanto la privacidad. No quisiera contradecirte, pero esta vez tenés un ejemplo clarito para entender por qué no es buena idea ser descuidados con los datos que brindamos y a quién.</p>"
            ],
            "text/plain": [
              "<IPython.core.display.HTML object>"
            ]
          },
          "metadata": {
            "tags": []
          }
        },
        {
          "output_type": "display_data",
          "data": {
            "text/html": [
              "<a href=\"https://www.lavoz.com.ar/tecnologia/instagram-prohibira-publicidades-de-terapias-de-conversion-para-personas-lgtb\">Instagram prohibirá publicidades de \"terapias de conversión\" para personas LGTB</a>"
            ],
            "text/plain": [
              "<IPython.core.display.HTML object>"
            ]
          },
          "metadata": {
            "tags": []
          }
        },
        {
          "output_type": "display_data",
          "data": {
            "text/html": [
              "<p>Tampoco permitirá \"testimonios\" de su supuesta eficacia o publicaciones que la defiendan, salvo en el contexto legislativo.\n",
              "        Instagram anunció este viernes que actualizará sus políticas para prohibir las publicaciones y contenidos que hagan promoción de supuestos servicios de terapias de conversión de personas LGTB, que prometen cambiar su orientación sexual.</p>"
            ],
            "text/plain": [
              "<IPython.core.display.HTML object>"
            ]
          },
          "metadata": {
            "tags": []
          }
        },
        {
          "output_type": "display_data",
          "data": {
            "text/html": [
              "<a href=\"https://www.lavoz.com.ar/tecnologia/microsoft-toma-control-de-dominios-que-usaban-covid-como-anzuelo-para-estafas\">Microsoft toma el control de los dominios que usaban la Covid como anzuelo para estafas</a>"
            ],
            "text/plain": [
              "<IPython.core.display.HTML object>"
            ]
          },
          "metadata": {
            "tags": []
          }
        },
        {
          "output_type": "display_data",
          "data": {
            "text/html": [
              "<p>Cómo actúan los ciberdelincuentes que buscan estafar a partir de correos electrónicos que simulan ser de la compañía tecnológica. \n",
              "        La llegada del coronavirus ha servido a los ciberdelincuentes como señuelo para realizar estafas a clientes de Microsoft en 62 países del mundo, y ahora la compañía ha recibido permiso de la justicia de Estados Unidos para tomar el control de estos dominios maliciosos para evitar los ataques.</p>"
            ],
            "text/plain": [
              "<IPython.core.display.HTML object>"
            ]
          },
          "metadata": {
            "tags": []
          }
        },
        {
          "output_type": "display_data",
          "data": {
            "text/html": [
              "<a href=\"https://www.lavoz.com.ar/tecnologia/microsoft-teams-ahora-que-esten-en-una-videollamada-podran-verse-uno-al-lado-del-otro\">Microsoft Teams: ahora los que estén en una videollamada podrán verse \"uno al lado del otro\"</a>"
            ],
            "text/plain": [
              "<IPython.core.display.HTML object>"
            ]
          },
          "metadata": {
            "tags": []
          }
        },
        {
          "output_type": "display_data",
          "data": {
            "text/html": [
              "<p>Además, la aplicación de comunicación para equipos de trabajo agrega muchas funcionalidades, como la vista dinámica o los subtítulos.\n",
              "        Microsoft anunció nuevas funcionalidades en su plataforma Teams, entre otras ha creado salas virtuales para que los integrantes de las videollamadas puedan estar uno al lado de otro.</p>"
            ],
            "text/plain": [
              "<IPython.core.display.HTML object>"
            ]
          },
          "metadata": {
            "tags": []
          }
        }
      ]
    },
    {
      "cell_type": "code",
      "metadata": {
        "id": "xuQYqPOteQH9",
        "colab_type": "code",
        "colab": {}
      },
      "source": [
        ""
      ],
      "execution_count": null,
      "outputs": []
    }
  ]
}